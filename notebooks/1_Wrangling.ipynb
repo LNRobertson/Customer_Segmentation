{
 "cells": [
  {
   "cell_type": "markdown",
   "metadata": {},
   "source": [
    "# Hotel Customer Segmentation - Data Wrangling \n",
    "##### Lindsey Robertson"
   ]
  },
  {
   "cell_type": "markdown",
   "metadata": {},
   "source": [
    "## Objective"
   ]
  },
  {
   "cell_type": "markdown",
   "metadata": {},
   "source": [
    "Customer segmentation for the purpose of deeper persona insight, Customer Lifetime Value prediction and more targeted marketing efforts. Further, can the RFM segmenting enhance our ability to predict customer churn or cancaltion/noshows. The purpose of cleaning is to make sure the data is suitable for for analysis with the highest quality feature values as possible, condisering validity, sparseness collection methods and purpose. "
   ]
  },
  {
   "cell_type": "markdown",
   "metadata": {},
   "source": [
    "## Data"
   ]
  },
  {
   "cell_type": "markdown",
   "metadata": {},
   "source": [
    "This real-world customer dataset with 31 variables describes\n",
    "83,590 instances (customers) from a hotel in Lisbon, Portugal.\n",
    "Instances include; customer personal, behavioral,\n",
    "demographic, and geographical information for 3 full years.\n",
    "The dataset can be found on Kaggle [here].(https://www.kaggle.com/datasets/nantonio/a-hotels-customers-dataset)"
   ]
  },
  {
   "cell_type": "markdown",
   "metadata": {},
   "source": [
    "Kaggle dataset origin, domain assumptions and data collection information: \n",
    "\n",
    "Nuno Antonio, Ana de Almeida, Luis Nunes. A hotel's customer's personal, behavioral, demographic, and geographic dataset from Lisbon, Portugal (2015-2018). Data in Brief 33(2020)106583, 24(November), 2020. URL: https://www.sciencedirect.com/journal/data-in-brief.\n"
   ]
  },
  {
   "cell_type": "markdown",
   "metadata": {},
   "source": [
    "## Data Assumptions"
   ]
  },
  {
   "cell_type": "markdown",
   "metadata": {},
   "source": [
    "* Some hotels have a policy of creating a profile for each guest companion(adult or children) only in particular cases and with authorization at times. \n",
    "* Typically a customer profile is created by one of three things:\n",
    "    - customer's first checked-out at the hotel\n",
    "    - customer's first cancelation\n",
    "    - customer's first no-show\n",
    "* Sometimes there are more than one profile for the same customer\n",
    "* Only after the customer's first stay can hotels confirm the guest's personal details, such as nationality."
   ]
  },
  {
   "cell_type": "markdown",
   "metadata": {},
   "source": [
    "## Process"
   ]
  },
  {
   "cell_type": "markdown",
   "metadata": {},
   "source": [
    "1) [Import needed libraries](#import-libraries)\n",
    "\n",
    "2) [Load data from Kaggle API](#load-data-from-kaggle-api)\n",
    "\n",
    "3) [Read data as pandas dataframe](#read-data-into-dataframe)\n",
    "\n",
    "4) [View data, observation sizes, data types and column contents](#read-data-into-dataframe)\n",
    "\n",
    "5) [Look for duplicates](#duplicates)\n",
    "\n",
    "6) [Look for missing values in dataframe](#find-the-missing-values-from-each-column)\n",
    "\n",
    "7) [Impute missing age values](#handle-missing-age-values)\n",
    "\n",
    "8) [Check for validity and quality in features](#validity-checks-on-relevant-numerical-features)\n",
    "\n",
    "9) [Impute illogical age values to zero](#impute-impossible-age-values-to-zero)\n",
    "\n",
    "10) [Impute 24% data with zero revenue values if ever \"CheckedIn\"?](#impute-zero-revenue-values-still-undecided-will-come-back-to-this)\n",
    "    \n",
    "11) [Observe outliers in dataset](#outliers-quick-check) "
   ]
  },
  {
   "cell_type": "markdown",
   "metadata": {},
   "source": [
    "## Import Libraries"
   ]
  },
  {
   "cell_type": "code",
   "execution_count": 1,
   "metadata": {},
   "outputs": [
    {
     "name": "stdout",
     "output_type": "stream",
     "text": [
      "Requirement already satisfied: openpyxl in c:\\users\\linds\\anaconda3\\envs\\capstone3\\lib\\site-packages (3.0.10)\n",
      "Requirement already satisfied: et-xmlfile in c:\\users\\linds\\anaconda3\\envs\\capstone3\\lib\\site-packages (from openpyxl) (1.1.0)\n",
      "Note: you may need to restart the kernel to use updated packages.\n"
     ]
    }
   ],
   "source": [
    "pip install openpyxl"
   ]
  },
  {
   "cell_type": "code",
   "execution_count": 2,
   "metadata": {},
   "outputs": [
    {
     "name": "stdout",
     "output_type": "stream",
     "text": [
      "Requirement already satisfied: kaggle in c:\\users\\linds\\anaconda3\\envs\\capstone3\\lib\\site-packages (1.5.12)\n",
      "Requirement already satisfied: six>=1.10 in c:\\users\\linds\\anaconda3\\envs\\capstone3\\lib\\site-packages (from kaggle) (1.16.0)\n",
      "Requirement already satisfied: certifi in c:\\users\\linds\\anaconda3\\envs\\capstone3\\lib\\site-packages (from kaggle) (2022.6.15)\n",
      "Requirement already satisfied: python-dateutil in c:\\users\\linds\\appdata\\roaming\\python\\python38\\site-packages (from kaggle) (2.8.2)\n",
      "Requirement already satisfied: urllib3 in c:\\users\\linds\\appdata\\roaming\\python\\python38\\site-packages (from kaggle) (1.26.12)\n",
      "Requirement already satisfied: python-slugify in c:\\users\\linds\\anaconda3\\envs\\capstone3\\lib\\site-packages (from kaggle) (6.1.2)\n",
      "Requirement already satisfied: requests in c:\\users\\linds\\appdata\\roaming\\python\\python38\\site-packages (from kaggle) (2.28.1)\n",
      "Requirement already satisfied: tqdm in c:\\users\\linds\\appdata\\roaming\\python\\python38\\site-packages (from kaggle) (4.64.0)\n",
      "Requirement already satisfied: text-unidecode>=1.3 in c:\\users\\linds\\anaconda3\\envs\\capstone3\\lib\\site-packages (from python-slugify->kaggle) (1.3)\n",
      "Requirement already satisfied: idna<4,>=2.5 in c:\\users\\linds\\appdata\\roaming\\python\\python38\\site-packages (from requests->kaggle) (3.3)\n",
      "Requirement already satisfied: charset-normalizer<3,>=2 in c:\\users\\linds\\appdata\\roaming\\python\\python38\\site-packages (from requests->kaggle) (2.1.1)\n",
      "Requirement already satisfied: colorama in c:\\users\\linds\\appdata\\roaming\\python\\python38\\site-packages (from tqdm->kaggle) (0.4.5)\n",
      "Note: you may need to restart the kernel to use updated packages.\n"
     ]
    }
   ],
   "source": [
    "pip install kaggle"
   ]
  },
  {
   "cell_type": "code",
   "execution_count": 3,
   "metadata": {},
   "outputs": [
    {
     "name": "stdout",
     "output_type": "stream",
     "text": [
      "Requirement already satisfied: opendatasets in c:\\users\\linds\\anaconda3\\envs\\capstone3\\lib\\site-packages (0.1.22)\n",
      "Requirement already satisfied: tqdm in c:\\users\\linds\\appdata\\roaming\\python\\python38\\site-packages (from opendatasets) (4.64.0)\n",
      "Requirement already satisfied: kaggle in c:\\users\\linds\\anaconda3\\envs\\capstone3\\lib\\site-packages (from opendatasets) (1.5.12)\n",
      "Requirement already satisfied: click in c:\\users\\linds\\appdata\\roaming\\python\\python38\\site-packages (from opendatasets) (8.0.4)\n",
      "Requirement already satisfied: colorama in c:\\users\\linds\\appdata\\roaming\\python\\python38\\site-packages (from click->opendatasets) (0.4.5)\n",
      "Requirement already satisfied: six>=1.10 in c:\\users\\linds\\anaconda3\\envs\\capstone3\\lib\\site-packages (from kaggle->opendatasets) (1.16.0)\n",
      "Requirement already satisfied: certifi in c:\\users\\linds\\anaconda3\\envs\\capstone3\\lib\\site-packages (from kaggle->opendatasets) (2022.6.15)\n",
      "Requirement already satisfied: requests in c:\\users\\linds\\appdata\\roaming\\python\\python38\\site-packages (from kaggle->opendatasets) (2.28.1)\n",
      "Requirement already satisfied: urllib3 in c:\\users\\linds\\appdata\\roaming\\python\\python38\\site-packages (from kaggle->opendatasets) (1.26.12)\n",
      "Requirement already satisfied: python-dateutil in c:\\users\\linds\\appdata\\roaming\\python\\python38\\site-packages (from kaggle->opendatasets) (2.8.2)\n",
      "Requirement already satisfied: python-slugify in c:\\users\\linds\\anaconda3\\envs\\capstone3\\lib\\site-packages (from kaggle->opendatasets) (6.1.2)\n",
      "Requirement already satisfied: text-unidecode>=1.3 in c:\\users\\linds\\anaconda3\\envs\\capstone3\\lib\\site-packages (from python-slugify->kaggle->opendatasets) (1.3)\n",
      "Requirement already satisfied: charset-normalizer<3,>=2 in c:\\users\\linds\\appdata\\roaming\\python\\python38\\site-packages (from requests->kaggle->opendatasets) (2.1.1)\n",
      "Requirement already satisfied: idna<4,>=2.5 in c:\\users\\linds\\appdata\\roaming\\python\\python38\\site-packages (from requests->kaggle->opendatasets) (3.3)\n",
      "Note: you may need to restart the kernel to use updated packages.\n"
     ]
    }
   ],
   "source": [
    "pip install opendatasets"
   ]
  },
  {
   "cell_type": "code",
   "execution_count": 4,
   "metadata": {},
   "outputs": [],
   "source": [
    "import pandas as pd\n",
    "import numpy as np\n",
    "import opendatasets as od\n",
    "from numpy import NaN\n",
    "import seaborn as sns"
   ]
  },
  {
   "cell_type": "markdown",
   "metadata": {},
   "source": [
    "## Load flatfile data"
   ]
  },
  {
   "cell_type": "markdown",
   "metadata": {},
   "source": [
    "data = pd.read_excel('../Customer_Segmentation/data/raw/HotelCustomersDataset.xlsx')"
   ]
  },
  {
   "cell_type": "markdown",
   "metadata": {},
   "source": [
    "## Load data from Kaggle API"
   ]
  },
  {
   "cell_type": "code",
   "execution_count": 5,
   "metadata": {},
   "outputs": [
    {
     "name": "stdout",
     "output_type": "stream",
     "text": [
      "Skipping, found downloaded files in \".\\a-hotels-customers-dataset\" (use force=True to force download)\n"
     ]
    }
   ],
   "source": [
    "od.download(\n",
    "    \"https://www.kaggle.com/datasets/nantonio/a-hotels-customers-dataset\")"
   ]
  },
  {
   "cell_type": "markdown",
   "metadata": {},
   "source": [
    "## Read data into dataframe"
   ]
  },
  {
   "cell_type": "code",
   "execution_count": 6,
   "metadata": {},
   "outputs": [
    {
     "data": {
      "text/html": [
       "<div>\n",
       "<style scoped>\n",
       "    .dataframe tbody tr th:only-of-type {\n",
       "        vertical-align: middle;\n",
       "    }\n",
       "\n",
       "    .dataframe tbody tr th {\n",
       "        vertical-align: top;\n",
       "    }\n",
       "\n",
       "    .dataframe thead th {\n",
       "        text-align: right;\n",
       "    }\n",
       "</style>\n",
       "<table border=\"1\" class=\"dataframe\">\n",
       "  <thead>\n",
       "    <tr style=\"text-align: right;\">\n",
       "      <th></th>\n",
       "      <th>ID</th>\n",
       "      <th>Nationality</th>\n",
       "      <th>Age</th>\n",
       "      <th>DaysSinceCreation</th>\n",
       "      <th>NameHash</th>\n",
       "      <th>DocIDHash</th>\n",
       "      <th>AverageLeadTime</th>\n",
       "      <th>LodgingRevenue</th>\n",
       "      <th>OtherRevenue</th>\n",
       "      <th>BookingsCanceled</th>\n",
       "      <th>...</th>\n",
       "      <th>SRMediumFloor</th>\n",
       "      <th>SRBathtub</th>\n",
       "      <th>SRShower</th>\n",
       "      <th>SRCrib</th>\n",
       "      <th>SRKingSizeBed</th>\n",
       "      <th>SRTwinBed</th>\n",
       "      <th>SRNearElevator</th>\n",
       "      <th>SRAwayFromElevator</th>\n",
       "      <th>SRNoAlcoholInMiniBar</th>\n",
       "      <th>SRQuietRoom</th>\n",
       "    </tr>\n",
       "  </thead>\n",
       "  <tbody>\n",
       "    <tr>\n",
       "      <th>0</th>\n",
       "      <td>1</td>\n",
       "      <td>PRT</td>\n",
       "      <td>51.0</td>\n",
       "      <td>150</td>\n",
       "      <td>0x8E0A7AF39B633D5EA25C3B7EF4DFC5464B36DB7AF375...</td>\n",
       "      <td>0x71568459B729F7A7ABBED6C781A84CA4274D571003AC...</td>\n",
       "      <td>45</td>\n",
       "      <td>371.0</td>\n",
       "      <td>105.3</td>\n",
       "      <td>1</td>\n",
       "      <td>...</td>\n",
       "      <td>0</td>\n",
       "      <td>0</td>\n",
       "      <td>0</td>\n",
       "      <td>0</td>\n",
       "      <td>0</td>\n",
       "      <td>0</td>\n",
       "      <td>0</td>\n",
       "      <td>0</td>\n",
       "      <td>0</td>\n",
       "      <td>0</td>\n",
       "    </tr>\n",
       "    <tr>\n",
       "      <th>1</th>\n",
       "      <td>2</td>\n",
       "      <td>PRT</td>\n",
       "      <td>NaN</td>\n",
       "      <td>1095</td>\n",
       "      <td>0x21EDE41906B45079E75385B5AA33287CA09DE1AB86DE...</td>\n",
       "      <td>0x5FA1E0098A31497057C5A6B9FE9D49FD6DD47CCE7C26...</td>\n",
       "      <td>61</td>\n",
       "      <td>280.0</td>\n",
       "      <td>53.0</td>\n",
       "      <td>0</td>\n",
       "      <td>...</td>\n",
       "      <td>0</td>\n",
       "      <td>0</td>\n",
       "      <td>0</td>\n",
       "      <td>0</td>\n",
       "      <td>0</td>\n",
       "      <td>0</td>\n",
       "      <td>0</td>\n",
       "      <td>0</td>\n",
       "      <td>0</td>\n",
       "      <td>0</td>\n",
       "    </tr>\n",
       "    <tr>\n",
       "      <th>2</th>\n",
       "      <td>3</td>\n",
       "      <td>DEU</td>\n",
       "      <td>31.0</td>\n",
       "      <td>1095</td>\n",
       "      <td>0x31C5E4B74E23231295FDB724AD578C02C4A723F4BA2B...</td>\n",
       "      <td>0xC7CF344F5B03295037595B1337AC905CA188F1B5B3A5...</td>\n",
       "      <td>0</td>\n",
       "      <td>0.0</td>\n",
       "      <td>0.0</td>\n",
       "      <td>0</td>\n",
       "      <td>...</td>\n",
       "      <td>0</td>\n",
       "      <td>0</td>\n",
       "      <td>0</td>\n",
       "      <td>0</td>\n",
       "      <td>0</td>\n",
       "      <td>0</td>\n",
       "      <td>0</td>\n",
       "      <td>0</td>\n",
       "      <td>0</td>\n",
       "      <td>0</td>\n",
       "    </tr>\n",
       "    <tr>\n",
       "      <th>3</th>\n",
       "      <td>4</td>\n",
       "      <td>FRA</td>\n",
       "      <td>60.0</td>\n",
       "      <td>1095</td>\n",
       "      <td>0xFF534C83C0EF23D1CE516BC80A65D0197003D27937D4...</td>\n",
       "      <td>0xBD3823A9B4EC35D6CAF4B27AE423A677C0200DB61E82...</td>\n",
       "      <td>93</td>\n",
       "      <td>240.0</td>\n",
       "      <td>60.0</td>\n",
       "      <td>0</td>\n",
       "      <td>...</td>\n",
       "      <td>0</td>\n",
       "      <td>0</td>\n",
       "      <td>0</td>\n",
       "      <td>0</td>\n",
       "      <td>0</td>\n",
       "      <td>0</td>\n",
       "      <td>0</td>\n",
       "      <td>0</td>\n",
       "      <td>0</td>\n",
       "      <td>0</td>\n",
       "    </tr>\n",
       "    <tr>\n",
       "      <th>4</th>\n",
       "      <td>5</td>\n",
       "      <td>FRA</td>\n",
       "      <td>51.0</td>\n",
       "      <td>1095</td>\n",
       "      <td>0x9C1DEF02C9BE242842C1C1ABF2C5AA249A1EEB4763B4...</td>\n",
       "      <td>0xE175754CF77247B202DD0820F49407C762C14A603B3A...</td>\n",
       "      <td>0</td>\n",
       "      <td>0.0</td>\n",
       "      <td>0.0</td>\n",
       "      <td>0</td>\n",
       "      <td>...</td>\n",
       "      <td>0</td>\n",
       "      <td>0</td>\n",
       "      <td>0</td>\n",
       "      <td>0</td>\n",
       "      <td>0</td>\n",
       "      <td>0</td>\n",
       "      <td>0</td>\n",
       "      <td>0</td>\n",
       "      <td>0</td>\n",
       "      <td>0</td>\n",
       "    </tr>\n",
       "  </tbody>\n",
       "</table>\n",
       "<p>5 rows × 31 columns</p>\n",
       "</div>"
      ],
      "text/plain": [
       "   ID Nationality   Age  DaysSinceCreation  \\\n",
       "0   1         PRT  51.0                150   \n",
       "1   2         PRT   NaN               1095   \n",
       "2   3         DEU  31.0               1095   \n",
       "3   4         FRA  60.0               1095   \n",
       "4   5         FRA  51.0               1095   \n",
       "\n",
       "                                            NameHash  \\\n",
       "0  0x8E0A7AF39B633D5EA25C3B7EF4DFC5464B36DB7AF375...   \n",
       "1  0x21EDE41906B45079E75385B5AA33287CA09DE1AB86DE...   \n",
       "2  0x31C5E4B74E23231295FDB724AD578C02C4A723F4BA2B...   \n",
       "3  0xFF534C83C0EF23D1CE516BC80A65D0197003D27937D4...   \n",
       "4  0x9C1DEF02C9BE242842C1C1ABF2C5AA249A1EEB4763B4...   \n",
       "\n",
       "                                           DocIDHash  AverageLeadTime  \\\n",
       "0  0x71568459B729F7A7ABBED6C781A84CA4274D571003AC...               45   \n",
       "1  0x5FA1E0098A31497057C5A6B9FE9D49FD6DD47CCE7C26...               61   \n",
       "2  0xC7CF344F5B03295037595B1337AC905CA188F1B5B3A5...                0   \n",
       "3  0xBD3823A9B4EC35D6CAF4B27AE423A677C0200DB61E82...               93   \n",
       "4  0xE175754CF77247B202DD0820F49407C762C14A603B3A...                0   \n",
       "\n",
       "   LodgingRevenue  OtherRevenue  BookingsCanceled  ...  SRMediumFloor  \\\n",
       "0           371.0         105.3                 1  ...              0   \n",
       "1           280.0          53.0                 0  ...              0   \n",
       "2             0.0           0.0                 0  ...              0   \n",
       "3           240.0          60.0                 0  ...              0   \n",
       "4             0.0           0.0                 0  ...              0   \n",
       "\n",
       "   SRBathtub  SRShower  SRCrib  SRKingSizeBed  SRTwinBed SRNearElevator  \\\n",
       "0          0         0       0              0          0              0   \n",
       "1          0         0       0              0          0              0   \n",
       "2          0         0       0              0          0              0   \n",
       "3          0         0       0              0          0              0   \n",
       "4          0         0       0              0          0              0   \n",
       "\n",
       "  SRAwayFromElevator  SRNoAlcoholInMiniBar  SRQuietRoom  \n",
       "0                  0                     0            0  \n",
       "1                  0                     0            0  \n",
       "2                  0                     0            0  \n",
       "3                  0                     0            0  \n",
       "4                  0                     0            0  \n",
       "\n",
       "[5 rows x 31 columns]"
      ]
     },
     "execution_count": 6,
     "metadata": {},
     "output_type": "execute_result"
    }
   ],
   "source": [
    "file =('a-hotels-customers-dataset/\\HotelCustomersDataset.xlsx')\n",
    "Data = pd.read_excel(file)\n",
    "\n",
    " \n",
    "# displaying the contents of the XLSX file\n",
    "Data.head()\n"
   ]
  },
  {
   "cell_type": "markdown",
   "metadata": {},
   "source": [
    "#### How much of what kind of data do we have?"
   ]
  },
  {
   "cell_type": "code",
   "execution_count": 7,
   "metadata": {},
   "outputs": [
    {
     "name": "stdout",
     "output_type": "stream",
     "text": [
      "<class 'pandas.core.frame.DataFrame'>\n",
      "RangeIndex: 83590 entries, 0 to 83589\n",
      "Data columns (total 31 columns):\n",
      " #   Column                Non-Null Count  Dtype  \n",
      "---  ------                --------------  -----  \n",
      " 0   ID                    83590 non-null  int64  \n",
      " 1   Nationality           83590 non-null  object \n",
      " 2   Age                   79811 non-null  float64\n",
      " 3   DaysSinceCreation     83590 non-null  int64  \n",
      " 4   NameHash              83590 non-null  object \n",
      " 5   DocIDHash             83590 non-null  object \n",
      " 6   AverageLeadTime       83590 non-null  int64  \n",
      " 7   LodgingRevenue        83590 non-null  float64\n",
      " 8   OtherRevenue          83590 non-null  float64\n",
      " 9   BookingsCanceled      83590 non-null  int64  \n",
      " 10  BookingsNoShowed      83590 non-null  int64  \n",
      " 11  BookingsCheckedIn     83590 non-null  int64  \n",
      " 12  PersonsNights         83590 non-null  int64  \n",
      " 13  RoomNights            83590 non-null  int64  \n",
      " 14  DaysSinceLastStay     83590 non-null  int64  \n",
      " 15  DaysSinceFirstStay    83590 non-null  int64  \n",
      " 16  DistributionChannel   83590 non-null  object \n",
      " 17  MarketSegment         83590 non-null  object \n",
      " 18  SRHighFloor           83590 non-null  int64  \n",
      " 19  SRLowFloor            83590 non-null  int64  \n",
      " 20  SRAccessibleRoom      83590 non-null  int64  \n",
      " 21  SRMediumFloor         83590 non-null  int64  \n",
      " 22  SRBathtub             83590 non-null  int64  \n",
      " 23  SRShower              83590 non-null  int64  \n",
      " 24  SRCrib                83590 non-null  int64  \n",
      " 25  SRKingSizeBed         83590 non-null  int64  \n",
      " 26  SRTwinBed             83590 non-null  int64  \n",
      " 27  SRNearElevator        83590 non-null  int64  \n",
      " 28  SRAwayFromElevator    83590 non-null  int64  \n",
      " 29  SRNoAlcoholInMiniBar  83590 non-null  int64  \n",
      " 30  SRQuietRoom           83590 non-null  int64  \n",
      "dtypes: float64(3), int64(23), object(5)\n",
      "memory usage: 19.8+ MB\n"
     ]
    }
   ],
   "source": [
    "Data.info()"
   ]
  },
  {
   "cell_type": "markdown",
   "metadata": {},
   "source": [
    "## Duplicates"
   ]
  },
  {
   "cell_type": "markdown",
   "metadata": {},
   "source": [
    "Are all entries for uniques customers?"
   ]
  },
  {
   "cell_type": "code",
   "execution_count": 8,
   "metadata": {},
   "outputs": [
    {
     "data": {
      "text/plain": [
       "83590"
      ]
     },
     "execution_count": 8,
     "metadata": {},
     "output_type": "execute_result"
    }
   ],
   "source": [
    "Data['ID'].nunique()\n",
    "\n"
   ]
  },
  {
   "cell_type": "markdown",
   "metadata": {},
   "source": [
    "Yes, all instances in the data are from unique customers."
   ]
  },
  {
   "cell_type": "markdown",
   "metadata": {},
   "source": [
    "What do the unique values look like for the rest of the features?"
   ]
  },
  {
   "cell_type": "code",
   "execution_count": 9,
   "metadata": {},
   "outputs": [
    {
     "name": "stdout",
     "output_type": "stream",
     "text": [
      "ID                      83590\n",
      "Nationality               188\n",
      "Age                       105\n",
      "DaysSinceCreation        1095\n",
      "NameHash                80642\n",
      "DocIDHash               76993\n",
      "AverageLeadTime           418\n",
      "LodgingRevenue          10257\n",
      "OtherRevenue             4490\n",
      "BookingsCanceled            6\n",
      "BookingsNoShowed            4\n",
      "BookingsCheckedIn          29\n",
      "PersonsNights              56\n",
      "RoomNights                 48\n",
      "DaysSinceLastStay        1105\n",
      "DaysSinceFirstStay       1108\n",
      "DistributionChannel         4\n",
      "MarketSegment               7\n",
      "SRHighFloor                 2\n",
      "SRLowFloor                  2\n",
      "SRAccessibleRoom            2\n",
      "SRMediumFloor               2\n",
      "SRBathtub                   2\n",
      "SRShower                    2\n",
      "SRCrib                      2\n",
      "SRKingSizeBed               2\n",
      "SRTwinBed                   2\n",
      "SRNearElevator              2\n",
      "SRAwayFromElevator          2\n",
      "SRNoAlcoholInMiniBar        2\n",
      "SRQuietRoom                 2\n",
      "dtype: int64\n"
     ]
    }
   ],
   "source": [
    "print(Data.nunique())"
   ]
  },
  {
   "cell_type": "markdown",
   "metadata": {},
   "source": [
    "*Quesiton from observation:\n",
    "  Why is there a different amoutn of NameHash vs IDs? The NameHash is the name of the customer's hash string. I don't fully understand this feature but I believe the NameHash is standardized name processing. Since there are no missing values in the column, could this mean that some customers have created more than one customer ID or account somehow?"
   ]
  },
  {
   "cell_type": "markdown",
   "metadata": {},
   "source": [
    "Check for duplicates in dataframe"
   ]
  },
  {
   "cell_type": "code",
   "execution_count": 10,
   "metadata": {},
   "outputs": [
    {
     "data": {
      "text/plain": [
       "0"
      ]
     },
     "execution_count": 10,
     "metadata": {},
     "output_type": "execute_result"
    }
   ],
   "source": [
    "Data.duplicated().sum()"
   ]
  },
  {
   "cell_type": "markdown",
   "metadata": {},
   "source": [
    "We have confirmed we do not need to worry abou dupliate instances in our dataset. "
   ]
  },
  {
   "cell_type": "markdown",
   "metadata": {},
   "source": [
    "## Find the missing values from each column"
   ]
  },
  {
   "cell_type": "code",
   "execution_count": 11,
   "metadata": {},
   "outputs": [
    {
     "name": "stdout",
     "output_type": "stream",
     "text": [
      "ID                         0\n",
      "Nationality                0\n",
      "Age                     3779\n",
      "DaysSinceCreation          0\n",
      "NameHash                   0\n",
      "DocIDHash                  0\n",
      "AverageLeadTime            0\n",
      "LodgingRevenue             0\n",
      "OtherRevenue               0\n",
      "BookingsCanceled           0\n",
      "BookingsNoShowed           0\n",
      "BookingsCheckedIn          0\n",
      "PersonsNights              0\n",
      "RoomNights                 0\n",
      "DaysSinceLastStay          0\n",
      "DaysSinceFirstStay         0\n",
      "DistributionChannel        0\n",
      "MarketSegment              0\n",
      "SRHighFloor                0\n",
      "SRLowFloor                 0\n",
      "SRAccessibleRoom           0\n",
      "SRMediumFloor              0\n",
      "SRBathtub                  0\n",
      "SRShower                   0\n",
      "SRCrib                     0\n",
      "SRKingSizeBed              0\n",
      "SRTwinBed                  0\n",
      "SRNearElevator             0\n",
      "SRAwayFromElevator         0\n",
      "SRNoAlcoholInMiniBar       0\n",
      "SRQuietRoom                0\n",
      "dtype: int64\n"
     ]
    }
   ],
   "source": [
    "print(Data.isnull().sum())"
   ]
  },
  {
   "cell_type": "markdown",
   "metadata": {},
   "source": [
    "We are  missing about 5% of the ages in our data to impute to zero along with the impossible ages. All other columns are free of missing values. Thankfully!"
   ]
  },
  {
   "cell_type": "markdown",
   "metadata": {},
   "source": [
    "Before we think about imputing these values with O, how many age values are already zero? We could also use NaN or \"unknown\" categories. However that doesn't work well with the "
   ]
  },
  {
   "cell_type": "code",
   "execution_count": 12,
   "metadata": {},
   "outputs": [
    {
     "name": "stdout",
     "output_type": "stream",
     "text": [
      "42\n"
     ]
    }
   ],
   "source": [
    " zeros = ((Data['Age']==0)).sum()\n",
    " print(zeros)"
   ]
  },
  {
   "cell_type": "markdown",
   "metadata": {},
   "source": [
    "I can only assume this means the guest was liekly a baby. Should we add the missing values into this age bracket? If we add 3779 missing ages into the 0 age bracket, it is still  less than 5% of the data. At this point, it makes the most logica senese over dropping the rows. Age attributes can verified and updated in customer records in the future. It's important to keep the customer record. "
   ]
  },
  {
   "cell_type": "markdown",
   "metadata": {},
   "source": [
    "### Handle missing age values"
   ]
  },
  {
   "cell_type": "markdown",
   "metadata": {},
   "source": [
    "Fill missing values with 0. I used this instead of NaN to make the feature more consumable for modeling and analysis. "
   ]
  },
  {
   "cell_type": "code",
   "execution_count": 13,
   "metadata": {},
   "outputs": [],
   "source": [
    "Data['Age'].fillna(0, inplace=True)"
   ]
  },
  {
   "cell_type": "code",
   "execution_count": 14,
   "metadata": {},
   "outputs": [
    {
     "name": "stdout",
     "output_type": "stream",
     "text": [
      "ID                      0\n",
      "Nationality             0\n",
      "Age                     0\n",
      "DaysSinceCreation       0\n",
      "NameHash                0\n",
      "DocIDHash               0\n",
      "AverageLeadTime         0\n",
      "LodgingRevenue          0\n",
      "OtherRevenue            0\n",
      "BookingsCanceled        0\n",
      "BookingsNoShowed        0\n",
      "BookingsCheckedIn       0\n",
      "PersonsNights           0\n",
      "RoomNights              0\n",
      "DaysSinceLastStay       0\n",
      "DaysSinceFirstStay      0\n",
      "DistributionChannel     0\n",
      "MarketSegment           0\n",
      "SRHighFloor             0\n",
      "SRLowFloor              0\n",
      "SRAccessibleRoom        0\n",
      "SRMediumFloor           0\n",
      "SRBathtub               0\n",
      "SRShower                0\n",
      "SRCrib                  0\n",
      "SRKingSizeBed           0\n",
      "SRTwinBed               0\n",
      "SRNearElevator          0\n",
      "SRAwayFromElevator      0\n",
      "SRNoAlcoholInMiniBar    0\n",
      "SRQuietRoom             0\n",
      "dtype: int64\n"
     ]
    }
   ],
   "source": [
    "print(Data.isnull().sum())"
   ]
  },
  {
   "cell_type": "markdown",
   "metadata": {},
   "source": [
    "## Validity checks on relevant numerical features"
   ]
  },
  {
   "cell_type": "markdown",
   "metadata": {},
   "source": [
    "### Age"
   ]
  },
  {
   "cell_type": "markdown",
   "metadata": {},
   "source": [
    "Select rows where age column contains any value under 0 or over 100. These ages are either illogical or highly unlikely. A person with the age 0 could be a baby, yet this is speculation. "
   ]
  },
  {
   "cell_type": "code",
   "execution_count": 15,
   "metadata": {},
   "outputs": [
    {
     "name": "stdout",
     "output_type": "stream",
     "text": [
      "8\n"
     ]
    }
   ],
   "source": [
    "agefilter1 = ((Data['Age']>=100)).sum()\n",
    "print(agefilter1)"
   ]
  },
  {
   "cell_type": "code",
   "execution_count": 16,
   "metadata": {},
   "outputs": [
    {
     "name": "stdout",
     "output_type": "stream",
     "text": [
      "17\n"
     ]
    }
   ],
   "source": [
    " agefilter2 = ((Data['Age']<0)).sum()\n",
    " print(agefilter2)"
   ]
  },
  {
   "cell_type": "code",
   "execution_count": 17,
   "metadata": {},
   "outputs": [
    {
     "name": "stdout",
     "output_type": "stream",
     "text": [
      "False    83565\n",
      "True        25\n",
      "Name: Age, dtype: int64\n"
     ]
    }
   ],
   "source": [
    "agefilter3 = (((Data['Age']>=100))|((Data['Age']<0))).value_counts()\n",
    "print(agefilter3)"
   ]
  },
  {
   "cell_type": "code",
   "execution_count": 18,
   "metadata": {},
   "outputs": [
    {
     "data": {
      "text/plain": [
       "<AxesSubplot:>"
      ]
     },
     "execution_count": 18,
     "metadata": {},
     "output_type": "execute_result"
    },
    {
     "data": {
      "image/png": "[encoded data removed]",
      "text/plain": [
       "<Figure size 640x480 with 1 Axes>"
      ]
     },
     "metadata": {},
     "output_type": "display_data"
    }
   ],
   "source": [
    "Data.Age.hist()"
   ]
  },
  {
   "cell_type": "code",
   "execution_count": 19,
   "metadata": {},
   "outputs": [
    {
     "data": {
      "text/html": [
       "<div>\n",
       "<style scoped>\n",
       "    .dataframe tbody tr th:only-of-type {\n",
       "        vertical-align: middle;\n",
       "    }\n",
       "\n",
       "    .dataframe tbody tr th {\n",
       "        vertical-align: top;\n",
       "    }\n",
       "\n",
       "    .dataframe thead th {\n",
       "        text-align: right;\n",
       "    }\n",
       "</style>\n",
       "<table border=\"1\" class=\"dataframe\">\n",
       "  <thead>\n",
       "    <tr style=\"text-align: right;\">\n",
       "      <th></th>\n",
       "      <th>ID</th>\n",
       "      <th>Nationality</th>\n",
       "      <th>Age</th>\n",
       "      <th>DaysSinceCreation</th>\n",
       "      <th>NameHash</th>\n",
       "      <th>DocIDHash</th>\n",
       "      <th>AverageLeadTime</th>\n",
       "      <th>LodgingRevenue</th>\n",
       "      <th>OtherRevenue</th>\n",
       "      <th>BookingsCanceled</th>\n",
       "      <th>...</th>\n",
       "      <th>SRMediumFloor</th>\n",
       "      <th>SRBathtub</th>\n",
       "      <th>SRShower</th>\n",
       "      <th>SRCrib</th>\n",
       "      <th>SRKingSizeBed</th>\n",
       "      <th>SRTwinBed</th>\n",
       "      <th>SRNearElevator</th>\n",
       "      <th>SRAwayFromElevator</th>\n",
       "      <th>SRNoAlcoholInMiniBar</th>\n",
       "      <th>SRQuietRoom</th>\n",
       "    </tr>\n",
       "  </thead>\n",
       "  <tbody>\n",
       "    <tr>\n",
       "      <th>2053</th>\n",
       "      <td>2054</td>\n",
       "      <td>BIH</td>\n",
       "      <td>-7.0</td>\n",
       "      <td>1034</td>\n",
       "      <td>0x816353557EFCF6A1E3FF64F3D652A18AE9F7EC0011E3...</td>\n",
       "      <td>0xE2B44FF02C72B0234AFA04D4BA9C7889491F302A9963...</td>\n",
       "      <td>0</td>\n",
       "      <td>0.00</td>\n",
       "      <td>0.00</td>\n",
       "      <td>0</td>\n",
       "      <td>...</td>\n",
       "      <td>0</td>\n",
       "      <td>0</td>\n",
       "      <td>0</td>\n",
       "      <td>0</td>\n",
       "      <td>0</td>\n",
       "      <td>0</td>\n",
       "      <td>0</td>\n",
       "      <td>0</td>\n",
       "      <td>0</td>\n",
       "      <td>0</td>\n",
       "    </tr>\n",
       "    <tr>\n",
       "      <th>2469</th>\n",
       "      <td>2470</td>\n",
       "      <td>ATF</td>\n",
       "      <td>-7.0</td>\n",
       "      <td>1029</td>\n",
       "      <td>0x05640BCB4A2D55CFDB6FB9615FD588A68C333119BC5F...</td>\n",
       "      <td>0x169E79749C1DD48C3510BEDBC69DD0DC9E0BDEF72B9C...</td>\n",
       "      <td>0</td>\n",
       "      <td>0.00</td>\n",
       "      <td>0.00</td>\n",
       "      <td>0</td>\n",
       "      <td>...</td>\n",
       "      <td>0</td>\n",
       "      <td>0</td>\n",
       "      <td>0</td>\n",
       "      <td>0</td>\n",
       "      <td>0</td>\n",
       "      <td>0</td>\n",
       "      <td>0</td>\n",
       "      <td>0</td>\n",
       "      <td>0</td>\n",
       "      <td>0</td>\n",
       "    </tr>\n",
       "    <tr>\n",
       "      <th>5128</th>\n",
       "      <td>5129</td>\n",
       "      <td>FRA</td>\n",
       "      <td>-9.0</td>\n",
       "      <td>981</td>\n",
       "      <td>0x6471098D9873D3D9CE70D2456C07F63B3359B270A5DE...</td>\n",
       "      <td>0x28EE0D2DD37EC913224737D542F8B9B6F30794306710...</td>\n",
       "      <td>66</td>\n",
       "      <td>93.30</td>\n",
       "      <td>14.00</td>\n",
       "      <td>0</td>\n",
       "      <td>...</td>\n",
       "      <td>0</td>\n",
       "      <td>0</td>\n",
       "      <td>0</td>\n",
       "      <td>0</td>\n",
       "      <td>1</td>\n",
       "      <td>0</td>\n",
       "      <td>0</td>\n",
       "      <td>0</td>\n",
       "      <td>0</td>\n",
       "      <td>0</td>\n",
       "    </tr>\n",
       "    <tr>\n",
       "      <th>6751</th>\n",
       "      <td>6752</td>\n",
       "      <td>GBR</td>\n",
       "      <td>-11.0</td>\n",
       "      <td>953</td>\n",
       "      <td>0xDB672419DADD95C4603D3210DCD2722B008DEBD1C69F...</td>\n",
       "      <td>0xB8599D349F3951EF4D29B6F03E4EB0E22ADEC4105246...</td>\n",
       "      <td>22</td>\n",
       "      <td>450.00</td>\n",
       "      <td>18.00</td>\n",
       "      <td>0</td>\n",
       "      <td>...</td>\n",
       "      <td>0</td>\n",
       "      <td>0</td>\n",
       "      <td>0</td>\n",
       "      <td>0</td>\n",
       "      <td>1</td>\n",
       "      <td>0</td>\n",
       "      <td>0</td>\n",
       "      <td>0</td>\n",
       "      <td>0</td>\n",
       "      <td>0</td>\n",
       "    </tr>\n",
       "    <tr>\n",
       "      <th>8360</th>\n",
       "      <td>8361</td>\n",
       "      <td>DEU</td>\n",
       "      <td>-7.0</td>\n",
       "      <td>927</td>\n",
       "      <td>0x72A31262A688A38B139A9914054C3BEFF00BC4C4DE8C...</td>\n",
       "      <td>0x539E60160A1B4C94C61F0066A4F784C2BB6570181BF3...</td>\n",
       "      <td>256</td>\n",
       "      <td>126.00</td>\n",
       "      <td>109.00</td>\n",
       "      <td>0</td>\n",
       "      <td>...</td>\n",
       "      <td>0</td>\n",
       "      <td>0</td>\n",
       "      <td>0</td>\n",
       "      <td>0</td>\n",
       "      <td>0</td>\n",
       "      <td>1</td>\n",
       "      <td>0</td>\n",
       "      <td>0</td>\n",
       "      <td>0</td>\n",
       "      <td>0</td>\n",
       "    </tr>\n",
       "    <tr>\n",
       "      <th>8628</th>\n",
       "      <td>8629</td>\n",
       "      <td>NLD</td>\n",
       "      <td>-10.0</td>\n",
       "      <td>923</td>\n",
       "      <td>0xF5C3782374B119A5B043FFE67A40DF8D7C8DD9FA66BB...</td>\n",
       "      <td>0xB0B8AE3BFF0FFAF09432A12D497EEFB52EB855BFE553...</td>\n",
       "      <td>111</td>\n",
       "      <td>414.60</td>\n",
       "      <td>34.00</td>\n",
       "      <td>0</td>\n",
       "      <td>...</td>\n",
       "      <td>0</td>\n",
       "      <td>0</td>\n",
       "      <td>0</td>\n",
       "      <td>0</td>\n",
       "      <td>1</td>\n",
       "      <td>0</td>\n",
       "      <td>0</td>\n",
       "      <td>0</td>\n",
       "      <td>0</td>\n",
       "      <td>0</td>\n",
       "    </tr>\n",
       "    <tr>\n",
       "      <th>9919</th>\n",
       "      <td>9920</td>\n",
       "      <td>DZA</td>\n",
       "      <td>-6.0</td>\n",
       "      <td>903</td>\n",
       "      <td>0x8106B7FC258F07571A74AAC617DA57DFB039C4E07116...</td>\n",
       "      <td>0xCACE52DD1FFE1D9AC33DCA72A6D532DC4EDEB132294C...</td>\n",
       "      <td>54</td>\n",
       "      <td>138.93</td>\n",
       "      <td>29.50</td>\n",
       "      <td>0</td>\n",
       "      <td>...</td>\n",
       "      <td>0</td>\n",
       "      <td>0</td>\n",
       "      <td>0</td>\n",
       "      <td>0</td>\n",
       "      <td>1</td>\n",
       "      <td>0</td>\n",
       "      <td>0</td>\n",
       "      <td>0</td>\n",
       "      <td>0</td>\n",
       "      <td>0</td>\n",
       "    </tr>\n",
       "    <tr>\n",
       "      <th>10662</th>\n",
       "      <td>10663</td>\n",
       "      <td>DEU</td>\n",
       "      <td>-10.0</td>\n",
       "      <td>891</td>\n",
       "      <td>0x77AF5AA2214FAAC110FCAA4BF988531CCF9742848A02...</td>\n",
       "      <td>0x4AFD6241BBBC6116AB5310415050347D9353661E23BC...</td>\n",
       "      <td>292</td>\n",
       "      <td>126.00</td>\n",
       "      <td>113.00</td>\n",
       "      <td>0</td>\n",
       "      <td>...</td>\n",
       "      <td>0</td>\n",
       "      <td>0</td>\n",
       "      <td>0</td>\n",
       "      <td>0</td>\n",
       "      <td>0</td>\n",
       "      <td>0</td>\n",
       "      <td>0</td>\n",
       "      <td>0</td>\n",
       "      <td>0</td>\n",
       "      <td>0</td>\n",
       "    </tr>\n",
       "    <tr>\n",
       "      <th>10694</th>\n",
       "      <td>10695</td>\n",
       "      <td>DEU</td>\n",
       "      <td>-10.0</td>\n",
       "      <td>891</td>\n",
       "      <td>0x89B606A6E3FD4FBA4AA9FD5D3E552261DB8CC434F8E4...</td>\n",
       "      <td>0xD50637C1BADB59272CC168B25157C49E0E7BB82B3373...</td>\n",
       "      <td>292</td>\n",
       "      <td>128.00</td>\n",
       "      <td>57.50</td>\n",
       "      <td>0</td>\n",
       "      <td>...</td>\n",
       "      <td>0</td>\n",
       "      <td>0</td>\n",
       "      <td>0</td>\n",
       "      <td>0</td>\n",
       "      <td>0</td>\n",
       "      <td>0</td>\n",
       "      <td>0</td>\n",
       "      <td>0</td>\n",
       "      <td>0</td>\n",
       "      <td>0</td>\n",
       "    </tr>\n",
       "    <tr>\n",
       "      <th>10755</th>\n",
       "      <td>10756</td>\n",
       "      <td>PRT</td>\n",
       "      <td>-6.0</td>\n",
       "      <td>891</td>\n",
       "      <td>0x6EC142C9678B27CE57B89FD994C644FB677675808B85...</td>\n",
       "      <td>0x3DD8D41B549A2D69E46516A021E0294C0A7477E73C56...</td>\n",
       "      <td>292</td>\n",
       "      <td>128.00</td>\n",
       "      <td>55.00</td>\n",
       "      <td>0</td>\n",
       "      <td>...</td>\n",
       "      <td>0</td>\n",
       "      <td>0</td>\n",
       "      <td>0</td>\n",
       "      <td>0</td>\n",
       "      <td>0</td>\n",
       "      <td>0</td>\n",
       "      <td>0</td>\n",
       "      <td>0</td>\n",
       "      <td>0</td>\n",
       "      <td>0</td>\n",
       "    </tr>\n",
       "    <tr>\n",
       "      <th>14321</th>\n",
       "      <td>14322</td>\n",
       "      <td>PRT</td>\n",
       "      <td>-10.0</td>\n",
       "      <td>837</td>\n",
       "      <td>0x5202CE5913A8D676231F25D5363AEB13AF4A3CBB3776...</td>\n",
       "      <td>0x2BAA6D35A8722B8FB2A1EFF027545C8F503253BE121C...</td>\n",
       "      <td>346</td>\n",
       "      <td>128.00</td>\n",
       "      <td>53.00</td>\n",
       "      <td>0</td>\n",
       "      <td>...</td>\n",
       "      <td>0</td>\n",
       "      <td>0</td>\n",
       "      <td>0</td>\n",
       "      <td>0</td>\n",
       "      <td>0</td>\n",
       "      <td>0</td>\n",
       "      <td>0</td>\n",
       "      <td>0</td>\n",
       "      <td>0</td>\n",
       "      <td>0</td>\n",
       "    </tr>\n",
       "    <tr>\n",
       "      <th>14687</th>\n",
       "      <td>14688</td>\n",
       "      <td>PYF</td>\n",
       "      <td>-1.0</td>\n",
       "      <td>832</td>\n",
       "      <td>0xF02B0B5CAD9B762FE09F5A7E5D6D76E04037D095165A...</td>\n",
       "      <td>0x7F8199B21B398AA24FF6D4EAF2C49B6573DAEFFDB055...</td>\n",
       "      <td>159</td>\n",
       "      <td>330.00</td>\n",
       "      <td>131.00</td>\n",
       "      <td>0</td>\n",
       "      <td>...</td>\n",
       "      <td>0</td>\n",
       "      <td>0</td>\n",
       "      <td>0</td>\n",
       "      <td>0</td>\n",
       "      <td>0</td>\n",
       "      <td>0</td>\n",
       "      <td>0</td>\n",
       "      <td>0</td>\n",
       "      <td>0</td>\n",
       "      <td>0</td>\n",
       "    </tr>\n",
       "    <tr>\n",
       "      <th>15104</th>\n",
       "      <td>15105</td>\n",
       "      <td>DEU</td>\n",
       "      <td>-11.0</td>\n",
       "      <td>827</td>\n",
       "      <td>0x8338DF4BF7DFD49E56E827C14CEE7EA323E732FD77B3...</td>\n",
       "      <td>0x8B199558417855BDCA301203511EDC594EEB14AA3418...</td>\n",
       "      <td>276</td>\n",
       "      <td>240.00</td>\n",
       "      <td>61.25</td>\n",
       "      <td>0</td>\n",
       "      <td>...</td>\n",
       "      <td>0</td>\n",
       "      <td>0</td>\n",
       "      <td>0</td>\n",
       "      <td>0</td>\n",
       "      <td>0</td>\n",
       "      <td>0</td>\n",
       "      <td>0</td>\n",
       "      <td>0</td>\n",
       "      <td>0</td>\n",
       "      <td>0</td>\n",
       "    </tr>\n",
       "    <tr>\n",
       "      <th>16974</th>\n",
       "      <td>16975</td>\n",
       "      <td>FRA</td>\n",
       "      <td>-1.0</td>\n",
       "      <td>799</td>\n",
       "      <td>0xC2DC5508F5A0CF5C5DCCF95F55B9994D324C59650638...</td>\n",
       "      <td>0x99520180A05303C57B0954EC3A7C8C3121ADBC68EC7F...</td>\n",
       "      <td>80</td>\n",
       "      <td>466.80</td>\n",
       "      <td>116.50</td>\n",
       "      <td>0</td>\n",
       "      <td>...</td>\n",
       "      <td>0</td>\n",
       "      <td>0</td>\n",
       "      <td>0</td>\n",
       "      <td>0</td>\n",
       "      <td>0</td>\n",
       "      <td>0</td>\n",
       "      <td>0</td>\n",
       "      <td>0</td>\n",
       "      <td>0</td>\n",
       "      <td>0</td>\n",
       "    </tr>\n",
       "    <tr>\n",
       "      <th>20328</th>\n",
       "      <td>20329</td>\n",
       "      <td>DZA</td>\n",
       "      <td>-1.0</td>\n",
       "      <td>733</td>\n",
       "      <td>0x599FC8CB50ED91792C283D03A020C8AA67C252F85840...</td>\n",
       "      <td>0x7310676E2E36FF409146DB4FC49EA26172A26A5F3FBB...</td>\n",
       "      <td>74</td>\n",
       "      <td>366.93</td>\n",
       "      <td>210.00</td>\n",
       "      <td>0</td>\n",
       "      <td>...</td>\n",
       "      <td>0</td>\n",
       "      <td>0</td>\n",
       "      <td>0</td>\n",
       "      <td>0</td>\n",
       "      <td>1</td>\n",
       "      <td>0</td>\n",
       "      <td>0</td>\n",
       "      <td>0</td>\n",
       "      <td>0</td>\n",
       "      <td>0</td>\n",
       "    </tr>\n",
       "    <tr>\n",
       "      <th>20405</th>\n",
       "      <td>20406</td>\n",
       "      <td>USA</td>\n",
       "      <td>-9.0</td>\n",
       "      <td>732</td>\n",
       "      <td>0x4464A2E5E3D712E96B74800C8BE5EEFAC8B7FC8AD5DC...</td>\n",
       "      <td>0xBC356672827F0E946A309BF358C0BE76280FFB6A4BB0...</td>\n",
       "      <td>163</td>\n",
       "      <td>939.60</td>\n",
       "      <td>303.30</td>\n",
       "      <td>0</td>\n",
       "      <td>...</td>\n",
       "      <td>0</td>\n",
       "      <td>0</td>\n",
       "      <td>0</td>\n",
       "      <td>0</td>\n",
       "      <td>0</td>\n",
       "      <td>1</td>\n",
       "      <td>0</td>\n",
       "      <td>0</td>\n",
       "      <td>0</td>\n",
       "      <td>0</td>\n",
       "    </tr>\n",
       "    <tr>\n",
       "      <th>57342</th>\n",
       "      <td>57343</td>\n",
       "      <td>PRT</td>\n",
       "      <td>-6.0</td>\n",
       "      <td>220</td>\n",
       "      <td>0xE327757DEF4F79D6ABAA08E002F7C88789B121BC2C59...</td>\n",
       "      <td>0x6EB53E609C77B04F0A2F6D9C9F16C5D10969CCF77F6B...</td>\n",
       "      <td>130</td>\n",
       "      <td>388.80</td>\n",
       "      <td>47.20</td>\n",
       "      <td>0</td>\n",
       "      <td>...</td>\n",
       "      <td>0</td>\n",
       "      <td>0</td>\n",
       "      <td>0</td>\n",
       "      <td>0</td>\n",
       "      <td>0</td>\n",
       "      <td>0</td>\n",
       "      <td>0</td>\n",
       "      <td>0</td>\n",
       "      <td>0</td>\n",
       "      <td>0</td>\n",
       "    </tr>\n",
       "  </tbody>\n",
       "</table>\n",
       "<p>17 rows × 31 columns</p>\n",
       "</div>"
      ],
      "text/plain": [
       "          ID Nationality   Age  DaysSinceCreation  \\\n",
       "2053    2054         BIH  -7.0               1034   \n",
       "2469    2470         ATF  -7.0               1029   \n",
       "5128    5129         FRA  -9.0                981   \n",
       "6751    6752         GBR -11.0                953   \n",
       "8360    8361         DEU  -7.0                927   \n",
       "8628    8629         NLD -10.0                923   \n",
       "9919    9920         DZA  -6.0                903   \n",
       "10662  10663         DEU -10.0                891   \n",
       "10694  10695         DEU -10.0                891   \n",
       "10755  10756         PRT  -6.0                891   \n",
       "14321  14322         PRT -10.0                837   \n",
       "14687  14688         PYF  -1.0                832   \n",
       "15104  15105         DEU -11.0                827   \n",
       "16974  16975         FRA  -1.0                799   \n",
       "20328  20329         DZA  -1.0                733   \n",
       "20405  20406         USA  -9.0                732   \n",
       "57342  57343         PRT  -6.0                220   \n",
       "\n",
       "                                                NameHash  \\\n",
       "2053   0x816353557EFCF6A1E3FF64F3D652A18AE9F7EC0011E3...   \n",
       "2469   0x05640BCB4A2D55CFDB6FB9615FD588A68C333119BC5F...   \n",
       "5128   0x6471098D9873D3D9CE70D2456C07F63B3359B270A5DE...   \n",
       "6751   0xDB672419DADD95C4603D3210DCD2722B008DEBD1C69F...   \n",
       "8360   0x72A31262A688A38B139A9914054C3BEFF00BC4C4DE8C...   \n",
       "8628   0xF5C3782374B119A5B043FFE67A40DF8D7C8DD9FA66BB...   \n",
       "9919   0x8106B7FC258F07571A74AAC617DA57DFB039C4E07116...   \n",
       "10662  0x77AF5AA2214FAAC110FCAA4BF988531CCF9742848A02...   \n",
       "10694  0x89B606A6E3FD4FBA4AA9FD5D3E552261DB8CC434F8E4...   \n",
       "10755  0x6EC142C9678B27CE57B89FD994C644FB677675808B85...   \n",
       "14321  0x5202CE5913A8D676231F25D5363AEB13AF4A3CBB3776...   \n",
       "14687  0xF02B0B5CAD9B762FE09F5A7E5D6D76E04037D095165A...   \n",
       "15104  0x8338DF4BF7DFD49E56E827C14CEE7EA323E732FD77B3...   \n",
       "16974  0xC2DC5508F5A0CF5C5DCCF95F55B9994D324C59650638...   \n",
       "20328  0x599FC8CB50ED91792C283D03A020C8AA67C252F85840...   \n",
       "20405  0x4464A2E5E3D712E96B74800C8BE5EEFAC8B7FC8AD5DC...   \n",
       "57342  0xE327757DEF4F79D6ABAA08E002F7C88789B121BC2C59...   \n",
       "\n",
       "                                               DocIDHash  AverageLeadTime  \\\n",
       "2053   0xE2B44FF02C72B0234AFA04D4BA9C7889491F302A9963...                0   \n",
       "2469   0x169E79749C1DD48C3510BEDBC69DD0DC9E0BDEF72B9C...                0   \n",
       "5128   0x28EE0D2DD37EC913224737D542F8B9B6F30794306710...               66   \n",
       "6751   0xB8599D349F3951EF4D29B6F03E4EB0E22ADEC4105246...               22   \n",
       "8360   0x539E60160A1B4C94C61F0066A4F784C2BB6570181BF3...              256   \n",
       "8628   0xB0B8AE3BFF0FFAF09432A12D497EEFB52EB855BFE553...              111   \n",
       "9919   0xCACE52DD1FFE1D9AC33DCA72A6D532DC4EDEB132294C...               54   \n",
       "10662  0x4AFD6241BBBC6116AB5310415050347D9353661E23BC...              292   \n",
       "10694  0xD50637C1BADB59272CC168B25157C49E0E7BB82B3373...              292   \n",
       "10755  0x3DD8D41B549A2D69E46516A021E0294C0A7477E73C56...              292   \n",
       "14321  0x2BAA6D35A8722B8FB2A1EFF027545C8F503253BE121C...              346   \n",
       "14687  0x7F8199B21B398AA24FF6D4EAF2C49B6573DAEFFDB055...              159   \n",
       "15104  0x8B199558417855BDCA301203511EDC594EEB14AA3418...              276   \n",
       "16974  0x99520180A05303C57B0954EC3A7C8C3121ADBC68EC7F...               80   \n",
       "20328  0x7310676E2E36FF409146DB4FC49EA26172A26A5F3FBB...               74   \n",
       "20405  0xBC356672827F0E946A309BF358C0BE76280FFB6A4BB0...              163   \n",
       "57342  0x6EB53E609C77B04F0A2F6D9C9F16C5D10969CCF77F6B...              130   \n",
       "\n",
       "       LodgingRevenue  OtherRevenue  BookingsCanceled  ...  SRMediumFloor  \\\n",
       "2053             0.00          0.00                 0  ...              0   \n",
       "2469             0.00          0.00                 0  ...              0   \n",
       "5128            93.30         14.00                 0  ...              0   \n",
       "6751           450.00         18.00                 0  ...              0   \n",
       "8360           126.00        109.00                 0  ...              0   \n",
       "8628           414.60         34.00                 0  ...              0   \n",
       "9919           138.93         29.50                 0  ...              0   \n",
       "10662          126.00        113.00                 0  ...              0   \n",
       "10694          128.00         57.50                 0  ...              0   \n",
       "10755          128.00         55.00                 0  ...              0   \n",
       "14321          128.00         53.00                 0  ...              0   \n",
       "14687          330.00        131.00                 0  ...              0   \n",
       "15104          240.00         61.25                 0  ...              0   \n",
       "16974          466.80        116.50                 0  ...              0   \n",
       "20328          366.93        210.00                 0  ...              0   \n",
       "20405          939.60        303.30                 0  ...              0   \n",
       "57342          388.80         47.20                 0  ...              0   \n",
       "\n",
       "       SRBathtub  SRShower  SRCrib  SRKingSizeBed  SRTwinBed SRNearElevator  \\\n",
       "2053           0         0       0              0          0              0   \n",
       "2469           0         0       0              0          0              0   \n",
       "5128           0         0       0              1          0              0   \n",
       "6751           0         0       0              1          0              0   \n",
       "8360           0         0       0              0          1              0   \n",
       "8628           0         0       0              1          0              0   \n",
       "9919           0         0       0              1          0              0   \n",
       "10662          0         0       0              0          0              0   \n",
       "10694          0         0       0              0          0              0   \n",
       "10755          0         0       0              0          0              0   \n",
       "14321          0         0       0              0          0              0   \n",
       "14687          0         0       0              0          0              0   \n",
       "15104          0         0       0              0          0              0   \n",
       "16974          0         0       0              0          0              0   \n",
       "20328          0         0       0              1          0              0   \n",
       "20405          0         0       0              0          1              0   \n",
       "57342          0         0       0              0          0              0   \n",
       "\n",
       "      SRAwayFromElevator  SRNoAlcoholInMiniBar  SRQuietRoom  \n",
       "2053                   0                     0            0  \n",
       "2469                   0                     0            0  \n",
       "5128                   0                     0            0  \n",
       "6751                   0                     0            0  \n",
       "8360                   0                     0            0  \n",
       "8628                   0                     0            0  \n",
       "9919                   0                     0            0  \n",
       "10662                  0                     0            0  \n",
       "10694                  0                     0            0  \n",
       "10755                  0                     0            0  \n",
       "14321                  0                     0            0  \n",
       "14687                  0                     0            0  \n",
       "15104                  0                     0            0  \n",
       "16974                  0                     0            0  \n",
       "20328                  0                     0            0  \n",
       "20405                  0                     0            0  \n",
       "57342                  0                     0            0  \n",
       "\n",
       "[17 rows x 31 columns]"
      ]
     },
     "execution_count": 19,
     "metadata": {},
     "output_type": "execute_result"
    }
   ],
   "source": [
    "Data.loc[Data['Age'] < 0] "
   ]
  },
  {
   "cell_type": "code",
   "execution_count": 20,
   "metadata": {},
   "outputs": [
    {
     "data": {
      "text/html": [
       "<div>\n",
       "<style scoped>\n",
       "    .dataframe tbody tr th:only-of-type {\n",
       "        vertical-align: middle;\n",
       "    }\n",
       "\n",
       "    .dataframe tbody tr th {\n",
       "        vertical-align: top;\n",
       "    }\n",
       "\n",
       "    .dataframe thead th {\n",
       "        text-align: right;\n",
       "    }\n",
       "</style>\n",
       "<table border=\"1\" class=\"dataframe\">\n",
       "  <thead>\n",
       "    <tr style=\"text-align: right;\">\n",
       "      <th></th>\n",
       "      <th>ID</th>\n",
       "      <th>Nationality</th>\n",
       "      <th>Age</th>\n",
       "      <th>DaysSinceCreation</th>\n",
       "      <th>NameHash</th>\n",
       "      <th>DocIDHash</th>\n",
       "      <th>AverageLeadTime</th>\n",
       "      <th>LodgingRevenue</th>\n",
       "      <th>OtherRevenue</th>\n",
       "      <th>BookingsCanceled</th>\n",
       "      <th>...</th>\n",
       "      <th>SRMediumFloor</th>\n",
       "      <th>SRBathtub</th>\n",
       "      <th>SRShower</th>\n",
       "      <th>SRCrib</th>\n",
       "      <th>SRKingSizeBed</th>\n",
       "      <th>SRTwinBed</th>\n",
       "      <th>SRNearElevator</th>\n",
       "      <th>SRAwayFromElevator</th>\n",
       "      <th>SRNoAlcoholInMiniBar</th>\n",
       "      <th>SRQuietRoom</th>\n",
       "    </tr>\n",
       "  </thead>\n",
       "  <tbody>\n",
       "    <tr>\n",
       "      <th>3282</th>\n",
       "      <td>3283</td>\n",
       "      <td>PRT</td>\n",
       "      <td>114.0</td>\n",
       "      <td>1015</td>\n",
       "      <td>0xD38D7A36180C13A0574D7519E1494B8E2EAC72621A6D...</td>\n",
       "      <td>0xCF11B7A6F80F424EDB78D3FF8352233D36F6F511F9B6...</td>\n",
       "      <td>22</td>\n",
       "      <td>79.0</td>\n",
       "      <td>25.5</td>\n",
       "      <td>0</td>\n",
       "      <td>...</td>\n",
       "      <td>0</td>\n",
       "      <td>0</td>\n",
       "      <td>0</td>\n",
       "      <td>0</td>\n",
       "      <td>1</td>\n",
       "      <td>0</td>\n",
       "      <td>0</td>\n",
       "      <td>0</td>\n",
       "      <td>0</td>\n",
       "      <td>0</td>\n",
       "    </tr>\n",
       "    <tr>\n",
       "      <th>18910</th>\n",
       "      <td>18911</td>\n",
       "      <td>BEL</td>\n",
       "      <td>110.0</td>\n",
       "      <td>768</td>\n",
       "      <td>0x6152D1F1D09B9CC7D2FF30569EF3B1929722B4E6EA77...</td>\n",
       "      <td>0xE1C79C2BF9A49CDB7F3C309FDEE683B7C10DBBBFFFBC...</td>\n",
       "      <td>215</td>\n",
       "      <td>140.0</td>\n",
       "      <td>164.8</td>\n",
       "      <td>0</td>\n",
       "      <td>...</td>\n",
       "      <td>0</td>\n",
       "      <td>0</td>\n",
       "      <td>0</td>\n",
       "      <td>0</td>\n",
       "      <td>0</td>\n",
       "      <td>0</td>\n",
       "      <td>0</td>\n",
       "      <td>0</td>\n",
       "      <td>0</td>\n",
       "      <td>0</td>\n",
       "    </tr>\n",
       "    <tr>\n",
       "      <th>25587</th>\n",
       "      <td>25588</td>\n",
       "      <td>DEU</td>\n",
       "      <td>113.0</td>\n",
       "      <td>634</td>\n",
       "      <td>0x7288D12D383C94B2D140A2045711DD48205EF14F389D...</td>\n",
       "      <td>0x2907579A969DD1DD4BE224AB6B7D0F709AE9A38FBE69...</td>\n",
       "      <td>7</td>\n",
       "      <td>492.0</td>\n",
       "      <td>76.4</td>\n",
       "      <td>0</td>\n",
       "      <td>...</td>\n",
       "      <td>0</td>\n",
       "      <td>0</td>\n",
       "      <td>0</td>\n",
       "      <td>0</td>\n",
       "      <td>0</td>\n",
       "      <td>0</td>\n",
       "      <td>0</td>\n",
       "      <td>0</td>\n",
       "      <td>0</td>\n",
       "      <td>0</td>\n",
       "    </tr>\n",
       "    <tr>\n",
       "      <th>44518</th>\n",
       "      <td>44519</td>\n",
       "      <td>DEU</td>\n",
       "      <td>113.0</td>\n",
       "      <td>337</td>\n",
       "      <td>0x63FB7ADFA66ED7DC0ACC4CC82D0FF9F917A358514E49...</td>\n",
       "      <td>0x77C5E755CC76FED9DCAB1C593112EE2BEF92974D3699...</td>\n",
       "      <td>7</td>\n",
       "      <td>234.0</td>\n",
       "      <td>34.5</td>\n",
       "      <td>0</td>\n",
       "      <td>...</td>\n",
       "      <td>0</td>\n",
       "      <td>0</td>\n",
       "      <td>0</td>\n",
       "      <td>0</td>\n",
       "      <td>1</td>\n",
       "      <td>0</td>\n",
       "      <td>0</td>\n",
       "      <td>0</td>\n",
       "      <td>0</td>\n",
       "      <td>0</td>\n",
       "    </tr>\n",
       "    <tr>\n",
       "      <th>45082</th>\n",
       "      <td>45083</td>\n",
       "      <td>PRT</td>\n",
       "      <td>114.0</td>\n",
       "      <td>330</td>\n",
       "      <td>0x4C59FE6EA7DE0C51431EF8B6F650717835FB094E00AB...</td>\n",
       "      <td>0x32A503C87CCC773E24E3A9B6B1348A5CE6BF5866E0C6...</td>\n",
       "      <td>2</td>\n",
       "      <td>266.0</td>\n",
       "      <td>43.0</td>\n",
       "      <td>0</td>\n",
       "      <td>...</td>\n",
       "      <td>0</td>\n",
       "      <td>0</td>\n",
       "      <td>0</td>\n",
       "      <td>0</td>\n",
       "      <td>1</td>\n",
       "      <td>0</td>\n",
       "      <td>0</td>\n",
       "      <td>0</td>\n",
       "      <td>0</td>\n",
       "      <td>0</td>\n",
       "    </tr>\n",
       "    <tr>\n",
       "      <th>53284</th>\n",
       "      <td>53285</td>\n",
       "      <td>ITA</td>\n",
       "      <td>122.0</td>\n",
       "      <td>253</td>\n",
       "      <td>0xE03325073EB006F0486B5D31DDBE755ACCA2E25EBF6F...</td>\n",
       "      <td>0x3857EEF67D85FED04558802533FE4045E4E435401FF1...</td>\n",
       "      <td>0</td>\n",
       "      <td>0.0</td>\n",
       "      <td>0.0</td>\n",
       "      <td>0</td>\n",
       "      <td>...</td>\n",
       "      <td>0</td>\n",
       "      <td>0</td>\n",
       "      <td>0</td>\n",
       "      <td>0</td>\n",
       "      <td>0</td>\n",
       "      <td>0</td>\n",
       "      <td>0</td>\n",
       "      <td>0</td>\n",
       "      <td>0</td>\n",
       "      <td>0</td>\n",
       "    </tr>\n",
       "    <tr>\n",
       "      <th>58036</th>\n",
       "      <td>58037</td>\n",
       "      <td>AUT</td>\n",
       "      <td>113.0</td>\n",
       "      <td>213</td>\n",
       "      <td>0xC00F5FF79E457FCD954A52BC4D32B183551563B74950...</td>\n",
       "      <td>0x78CFDBB1FE8B477F39FBF5AAE40712F99693C3285D86...</td>\n",
       "      <td>0</td>\n",
       "      <td>0.0</td>\n",
       "      <td>0.0</td>\n",
       "      <td>0</td>\n",
       "      <td>...</td>\n",
       "      <td>0</td>\n",
       "      <td>0</td>\n",
       "      <td>0</td>\n",
       "      <td>0</td>\n",
       "      <td>0</td>\n",
       "      <td>0</td>\n",
       "      <td>0</td>\n",
       "      <td>0</td>\n",
       "      <td>0</td>\n",
       "      <td>1</td>\n",
       "    </tr>\n",
       "    <tr>\n",
       "      <th>64239</th>\n",
       "      <td>64240</td>\n",
       "      <td>ESP</td>\n",
       "      <td>109.0</td>\n",
       "      <td>166</td>\n",
       "      <td>0x3848AD55933C18BA90FD1AF5B651B24B885C2EFCA96C...</td>\n",
       "      <td>0xFE6FC9FF89118BB8DE3D0076D6ECBE69724465B0DCD1...</td>\n",
       "      <td>0</td>\n",
       "      <td>0.0</td>\n",
       "      <td>0.0</td>\n",
       "      <td>0</td>\n",
       "      <td>...</td>\n",
       "      <td>0</td>\n",
       "      <td>0</td>\n",
       "      <td>0</td>\n",
       "      <td>0</td>\n",
       "      <td>0</td>\n",
       "      <td>1</td>\n",
       "      <td>0</td>\n",
       "      <td>0</td>\n",
       "      <td>0</td>\n",
       "      <td>1</td>\n",
       "    </tr>\n",
       "  </tbody>\n",
       "</table>\n",
       "<p>8 rows × 31 columns</p>\n",
       "</div>"
      ],
      "text/plain": [
       "          ID Nationality    Age  DaysSinceCreation  \\\n",
       "3282    3283         PRT  114.0               1015   \n",
       "18910  18911         BEL  110.0                768   \n",
       "25587  25588         DEU  113.0                634   \n",
       "44518  44519         DEU  113.0                337   \n",
       "45082  45083         PRT  114.0                330   \n",
       "53284  53285         ITA  122.0                253   \n",
       "58036  58037         AUT  113.0                213   \n",
       "64239  64240         ESP  109.0                166   \n",
       "\n",
       "                                                NameHash  \\\n",
       "3282   0xD38D7A36180C13A0574D7519E1494B8E2EAC72621A6D...   \n",
       "18910  0x6152D1F1D09B9CC7D2FF30569EF3B1929722B4E6EA77...   \n",
       "25587  0x7288D12D383C94B2D140A2045711DD48205EF14F389D...   \n",
       "44518  0x63FB7ADFA66ED7DC0ACC4CC82D0FF9F917A358514E49...   \n",
       "45082  0x4C59FE6EA7DE0C51431EF8B6F650717835FB094E00AB...   \n",
       "53284  0xE03325073EB006F0486B5D31DDBE755ACCA2E25EBF6F...   \n",
       "58036  0xC00F5FF79E457FCD954A52BC4D32B183551563B74950...   \n",
       "64239  0x3848AD55933C18BA90FD1AF5B651B24B885C2EFCA96C...   \n",
       "\n",
       "                                               DocIDHash  AverageLeadTime  \\\n",
       "3282   0xCF11B7A6F80F424EDB78D3FF8352233D36F6F511F9B6...               22   \n",
       "18910  0xE1C79C2BF9A49CDB7F3C309FDEE683B7C10DBBBFFFBC...              215   \n",
       "25587  0x2907579A969DD1DD4BE224AB6B7D0F709AE9A38FBE69...                7   \n",
       "44518  0x77C5E755CC76FED9DCAB1C593112EE2BEF92974D3699...                7   \n",
       "45082  0x32A503C87CCC773E24E3A9B6B1348A5CE6BF5866E0C6...                2   \n",
       "53284  0x3857EEF67D85FED04558802533FE4045E4E435401FF1...                0   \n",
       "58036  0x78CFDBB1FE8B477F39FBF5AAE40712F99693C3285D86...                0   \n",
       "64239  0xFE6FC9FF89118BB8DE3D0076D6ECBE69724465B0DCD1...                0   \n",
       "\n",
       "       LodgingRevenue  OtherRevenue  BookingsCanceled  ...  SRMediumFloor  \\\n",
       "3282             79.0          25.5                 0  ...              0   \n",
       "18910           140.0         164.8                 0  ...              0   \n",
       "25587           492.0          76.4                 0  ...              0   \n",
       "44518           234.0          34.5                 0  ...              0   \n",
       "45082           266.0          43.0                 0  ...              0   \n",
       "53284             0.0           0.0                 0  ...              0   \n",
       "58036             0.0           0.0                 0  ...              0   \n",
       "64239             0.0           0.0                 0  ...              0   \n",
       "\n",
       "       SRBathtub  SRShower  SRCrib  SRKingSizeBed  SRTwinBed SRNearElevator  \\\n",
       "3282           0         0       0              1          0              0   \n",
       "18910          0         0       0              0          0              0   \n",
       "25587          0         0       0              0          0              0   \n",
       "44518          0         0       0              1          0              0   \n",
       "45082          0         0       0              1          0              0   \n",
       "53284          0         0       0              0          0              0   \n",
       "58036          0         0       0              0          0              0   \n",
       "64239          0         0       0              0          1              0   \n",
       "\n",
       "      SRAwayFromElevator  SRNoAlcoholInMiniBar  SRQuietRoom  \n",
       "3282                   0                     0            0  \n",
       "18910                  0                     0            0  \n",
       "25587                  0                     0            0  \n",
       "44518                  0                     0            0  \n",
       "45082                  0                     0            0  \n",
       "53284                  0                     0            0  \n",
       "58036                  0                     0            1  \n",
       "64239                  0                     0            1  \n",
       "\n",
       "[8 rows x 31 columns]"
      ]
     },
     "execution_count": 20,
     "metadata": {},
     "output_type": "execute_result"
    }
   ],
   "source": [
    "Data.loc[Data['Age'] > 100] "
   ]
  },
  {
   "cell_type": "code",
   "execution_count": 21,
   "metadata": {},
   "outputs": [
    {
     "name": "stdout",
     "output_type": "stream",
     "text": [
      "          ID    Age  DaysSinceCreation  LodgingRevenue  OtherRevenue\n",
      "2053    2054   -7.0               1034            0.00          0.00\n",
      "2469    2470   -7.0               1029            0.00          0.00\n",
      "3282    3283  114.0               1015           79.00         25.50\n",
      "5128    5129   -9.0                981           93.30         14.00\n",
      "6751    6752  -11.0                953          450.00         18.00\n",
      "8360    8361   -7.0                927          126.00        109.00\n",
      "8628    8629  -10.0                923          414.60         34.00\n",
      "9919    9920   -6.0                903          138.93         29.50\n",
      "10662  10663  -10.0                891          126.00        113.00\n",
      "10694  10695  -10.0                891          128.00         57.50\n",
      "10755  10756   -6.0                891          128.00         55.00\n",
      "14321  14322  -10.0                837          128.00         53.00\n",
      "14687  14688   -1.0                832          330.00        131.00\n",
      "15104  15105  -11.0                827          240.00         61.25\n",
      "16974  16975   -1.0                799          466.80        116.50\n",
      "18910  18911  110.0                768          140.00        164.80\n",
      "20328  20329   -1.0                733          366.93        210.00\n",
      "20405  20406   -9.0                732          939.60        303.30\n",
      "25587  25588  113.0                634          492.00         76.40\n",
      "44518  44519  113.0                337          234.00         34.50\n",
      "45082  45083  114.0                330          266.00         43.00\n",
      "53284  53285  122.0                253            0.00          0.00\n",
      "57342  57343   -6.0                220          388.80         47.20\n",
      "58036  58037  113.0                213            0.00          0.00\n",
      "64239  64240  109.0                166            0.00          0.00\n"
     ]
    },
    {
     "data": {
      "text/plain": [
       "ID                     int64\n",
       "Age                  float64\n",
       "DaysSinceCreation      int64\n",
       "LodgingRevenue       float64\n",
       "OtherRevenue         float64\n",
       "dtype: object"
      ]
     },
     "execution_count": 21,
     "metadata": {},
     "output_type": "execute_result"
    }
   ],
   "source": [
    "wrong_ages = Data.loc[(Data['Age'] > 100) | (Data['Age'] < 0) ,['ID','Age', 'DaysSinceCreation', 'LodgingRevenue', 'OtherRevenue']]\n",
    "print(wrong_ages)\n",
    "\n",
    "wrong_ages.dtypes"
   ]
  },
  {
   "cell_type": "code",
   "execution_count": 22,
   "metadata": {},
   "outputs": [
    {
     "data": {
      "text/plain": [
       "array([[<AxesSubplot:title={'center':'Age'}>]], dtype=object)"
      ]
     },
     "execution_count": 22,
     "metadata": {},
     "output_type": "execute_result"
    },
    {
     "data": {
      "image/png": "[encoded data removed]",
      "text/plain": [
       "<Figure size 640x480 with 1 Axes>"
      ]
     },
     "metadata": {},
     "output_type": "display_data"
    }
   ],
   "source": [
    "wrong_ages.hist('Age')"
   ]
  },
  {
   "cell_type": "markdown",
   "metadata": {},
   "source": [
    "#### Impute impossible age values to zero"
   ]
  },
  {
   "cell_type": "code",
   "execution_count": 23,
   "metadata": {},
   "outputs": [
    {
     "data": {
      "text/html": [
       "<div>\n",
       "<style scoped>\n",
       "    .dataframe tbody tr th:only-of-type {\n",
       "        vertical-align: middle;\n",
       "    }\n",
       "\n",
       "    .dataframe tbody tr th {\n",
       "        vertical-align: top;\n",
       "    }\n",
       "\n",
       "    .dataframe thead th {\n",
       "        text-align: right;\n",
       "    }\n",
       "</style>\n",
       "<table border=\"1\" class=\"dataframe\">\n",
       "  <thead>\n",
       "    <tr style=\"text-align: right;\">\n",
       "      <th></th>\n",
       "      <th>ID</th>\n",
       "      <th>Age</th>\n",
       "      <th>DaysSinceCreation</th>\n",
       "      <th>LodgingRevenue</th>\n",
       "      <th>OtherRevenue</th>\n",
       "    </tr>\n",
       "  </thead>\n",
       "  <tbody>\n",
       "    <tr>\n",
       "      <th>2053</th>\n",
       "      <td>2054</td>\n",
       "      <td>0.0</td>\n",
       "      <td>1034</td>\n",
       "      <td>0.00</td>\n",
       "      <td>0.00</td>\n",
       "    </tr>\n",
       "    <tr>\n",
       "      <th>2469</th>\n",
       "      <td>2470</td>\n",
       "      <td>0.0</td>\n",
       "      <td>1029</td>\n",
       "      <td>0.00</td>\n",
       "      <td>0.00</td>\n",
       "    </tr>\n",
       "    <tr>\n",
       "      <th>3282</th>\n",
       "      <td>3283</td>\n",
       "      <td>0.0</td>\n",
       "      <td>1015</td>\n",
       "      <td>79.00</td>\n",
       "      <td>25.50</td>\n",
       "    </tr>\n",
       "    <tr>\n",
       "      <th>5128</th>\n",
       "      <td>5129</td>\n",
       "      <td>0.0</td>\n",
       "      <td>981</td>\n",
       "      <td>93.30</td>\n",
       "      <td>14.00</td>\n",
       "    </tr>\n",
       "    <tr>\n",
       "      <th>6751</th>\n",
       "      <td>6752</td>\n",
       "      <td>0.0</td>\n",
       "      <td>953</td>\n",
       "      <td>450.00</td>\n",
       "      <td>18.00</td>\n",
       "    </tr>\n",
       "    <tr>\n",
       "      <th>8360</th>\n",
       "      <td>8361</td>\n",
       "      <td>0.0</td>\n",
       "      <td>927</td>\n",
       "      <td>126.00</td>\n",
       "      <td>109.00</td>\n",
       "    </tr>\n",
       "    <tr>\n",
       "      <th>8628</th>\n",
       "      <td>8629</td>\n",
       "      <td>0.0</td>\n",
       "      <td>923</td>\n",
       "      <td>414.60</td>\n",
       "      <td>34.00</td>\n",
       "    </tr>\n",
       "    <tr>\n",
       "      <th>9919</th>\n",
       "      <td>9920</td>\n",
       "      <td>0.0</td>\n",
       "      <td>903</td>\n",
       "      <td>138.93</td>\n",
       "      <td>29.50</td>\n",
       "    </tr>\n",
       "    <tr>\n",
       "      <th>10662</th>\n",
       "      <td>10663</td>\n",
       "      <td>0.0</td>\n",
       "      <td>891</td>\n",
       "      <td>126.00</td>\n",
       "      <td>113.00</td>\n",
       "    </tr>\n",
       "    <tr>\n",
       "      <th>10694</th>\n",
       "      <td>10695</td>\n",
       "      <td>0.0</td>\n",
       "      <td>891</td>\n",
       "      <td>128.00</td>\n",
       "      <td>57.50</td>\n",
       "    </tr>\n",
       "    <tr>\n",
       "      <th>10755</th>\n",
       "      <td>10756</td>\n",
       "      <td>0.0</td>\n",
       "      <td>891</td>\n",
       "      <td>128.00</td>\n",
       "      <td>55.00</td>\n",
       "    </tr>\n",
       "    <tr>\n",
       "      <th>14321</th>\n",
       "      <td>14322</td>\n",
       "      <td>0.0</td>\n",
       "      <td>837</td>\n",
       "      <td>128.00</td>\n",
       "      <td>53.00</td>\n",
       "    </tr>\n",
       "    <tr>\n",
       "      <th>14687</th>\n",
       "      <td>14688</td>\n",
       "      <td>0.0</td>\n",
       "      <td>832</td>\n",
       "      <td>330.00</td>\n",
       "      <td>131.00</td>\n",
       "    </tr>\n",
       "    <tr>\n",
       "      <th>15104</th>\n",
       "      <td>15105</td>\n",
       "      <td>0.0</td>\n",
       "      <td>827</td>\n",
       "      <td>240.00</td>\n",
       "      <td>61.25</td>\n",
       "    </tr>\n",
       "    <tr>\n",
       "      <th>16974</th>\n",
       "      <td>16975</td>\n",
       "      <td>0.0</td>\n",
       "      <td>799</td>\n",
       "      <td>466.80</td>\n",
       "      <td>116.50</td>\n",
       "    </tr>\n",
       "    <tr>\n",
       "      <th>18910</th>\n",
       "      <td>18911</td>\n",
       "      <td>0.0</td>\n",
       "      <td>768</td>\n",
       "      <td>140.00</td>\n",
       "      <td>164.80</td>\n",
       "    </tr>\n",
       "    <tr>\n",
       "      <th>20328</th>\n",
       "      <td>20329</td>\n",
       "      <td>0.0</td>\n",
       "      <td>733</td>\n",
       "      <td>366.93</td>\n",
       "      <td>210.00</td>\n",
       "    </tr>\n",
       "    <tr>\n",
       "      <th>20405</th>\n",
       "      <td>20406</td>\n",
       "      <td>0.0</td>\n",
       "      <td>732</td>\n",
       "      <td>939.60</td>\n",
       "      <td>303.30</td>\n",
       "    </tr>\n",
       "    <tr>\n",
       "      <th>25587</th>\n",
       "      <td>25588</td>\n",
       "      <td>0.0</td>\n",
       "      <td>634</td>\n",
       "      <td>492.00</td>\n",
       "      <td>76.40</td>\n",
       "    </tr>\n",
       "    <tr>\n",
       "      <th>44518</th>\n",
       "      <td>44519</td>\n",
       "      <td>0.0</td>\n",
       "      <td>337</td>\n",
       "      <td>234.00</td>\n",
       "      <td>34.50</td>\n",
       "    </tr>\n",
       "    <tr>\n",
       "      <th>45082</th>\n",
       "      <td>45083</td>\n",
       "      <td>0.0</td>\n",
       "      <td>330</td>\n",
       "      <td>266.00</td>\n",
       "      <td>43.00</td>\n",
       "    </tr>\n",
       "    <tr>\n",
       "      <th>53284</th>\n",
       "      <td>53285</td>\n",
       "      <td>0.0</td>\n",
       "      <td>253</td>\n",
       "      <td>0.00</td>\n",
       "      <td>0.00</td>\n",
       "    </tr>\n",
       "    <tr>\n",
       "      <th>57342</th>\n",
       "      <td>57343</td>\n",
       "      <td>0.0</td>\n",
       "      <td>220</td>\n",
       "      <td>388.80</td>\n",
       "      <td>47.20</td>\n",
       "    </tr>\n",
       "    <tr>\n",
       "      <th>58036</th>\n",
       "      <td>58037</td>\n",
       "      <td>0.0</td>\n",
       "      <td>213</td>\n",
       "      <td>0.00</td>\n",
       "      <td>0.00</td>\n",
       "    </tr>\n",
       "    <tr>\n",
       "      <th>64239</th>\n",
       "      <td>64240</td>\n",
       "      <td>0.0</td>\n",
       "      <td>166</td>\n",
       "      <td>0.00</td>\n",
       "      <td>0.00</td>\n",
       "    </tr>\n",
       "  </tbody>\n",
       "</table>\n",
       "</div>"
      ],
      "text/plain": [
       "          ID  Age  DaysSinceCreation  LodgingRevenue  OtherRevenue\n",
       "2053    2054  0.0               1034            0.00          0.00\n",
       "2469    2470  0.0               1029            0.00          0.00\n",
       "3282    3283  0.0               1015           79.00         25.50\n",
       "5128    5129  0.0                981           93.30         14.00\n",
       "6751    6752  0.0                953          450.00         18.00\n",
       "8360    8361  0.0                927          126.00        109.00\n",
       "8628    8629  0.0                923          414.60         34.00\n",
       "9919    9920  0.0                903          138.93         29.50\n",
       "10662  10663  0.0                891          126.00        113.00\n",
       "10694  10695  0.0                891          128.00         57.50\n",
       "10755  10756  0.0                891          128.00         55.00\n",
       "14321  14322  0.0                837          128.00         53.00\n",
       "14687  14688  0.0                832          330.00        131.00\n",
       "15104  15105  0.0                827          240.00         61.25\n",
       "16974  16975  0.0                799          466.80        116.50\n",
       "18910  18911  0.0                768          140.00        164.80\n",
       "20328  20329  0.0                733          366.93        210.00\n",
       "20405  20406  0.0                732          939.60        303.30\n",
       "25587  25588  0.0                634          492.00         76.40\n",
       "44518  44519  0.0                337          234.00         34.50\n",
       "45082  45083  0.0                330          266.00         43.00\n",
       "53284  53285  0.0                253            0.00          0.00\n",
       "57342  57343  0.0                220          388.80         47.20\n",
       "58036  58037  0.0                213            0.00          0.00\n",
       "64239  64240  0.0                166            0.00          0.00"
      ]
     },
     "execution_count": 23,
     "metadata": {},
     "output_type": "execute_result"
    }
   ],
   "source": [
    "wrong_ages.loc[wrong_ages['Age'] > 100, 'Age'] = 0\n",
    "\n",
    "wrong_ages.loc[wrong_ages['Age'] < 0, 'Age'] = 0\n",
    "\n",
    "\n",
    "wrong_ages\n"
   ]
  },
  {
   "cell_type": "code",
   "execution_count": 24,
   "metadata": {},
   "outputs": [
    {
     "data": {
      "text/html": [
       "<div>\n",
       "<style scoped>\n",
       "    .dataframe tbody tr th:only-of-type {\n",
       "        vertical-align: middle;\n",
       "    }\n",
       "\n",
       "    .dataframe tbody tr th {\n",
       "        vertical-align: top;\n",
       "    }\n",
       "\n",
       "    .dataframe thead th {\n",
       "        text-align: right;\n",
       "    }\n",
       "</style>\n",
       "<table border=\"1\" class=\"dataframe\">\n",
       "  <thead>\n",
       "    <tr style=\"text-align: right;\">\n",
       "      <th></th>\n",
       "      <th>ID</th>\n",
       "      <th>Age</th>\n",
       "      <th>DaysSinceCreation</th>\n",
       "      <th>LodgingRevenue</th>\n",
       "      <th>OtherRevenue</th>\n",
       "    </tr>\n",
       "  </thead>\n",
       "  <tbody>\n",
       "    <tr>\n",
       "      <th>2053</th>\n",
       "      <td>2054</td>\n",
       "      <td>-7.0</td>\n",
       "      <td>1034</td>\n",
       "      <td>0.00</td>\n",
       "      <td>0.00</td>\n",
       "    </tr>\n",
       "    <tr>\n",
       "      <th>2469</th>\n",
       "      <td>2470</td>\n",
       "      <td>-7.0</td>\n",
       "      <td>1029</td>\n",
       "      <td>0.00</td>\n",
       "      <td>0.00</td>\n",
       "    </tr>\n",
       "    <tr>\n",
       "      <th>3282</th>\n",
       "      <td>3283</td>\n",
       "      <td>114.0</td>\n",
       "      <td>1015</td>\n",
       "      <td>79.00</td>\n",
       "      <td>25.50</td>\n",
       "    </tr>\n",
       "    <tr>\n",
       "      <th>5128</th>\n",
       "      <td>5129</td>\n",
       "      <td>-9.0</td>\n",
       "      <td>981</td>\n",
       "      <td>93.30</td>\n",
       "      <td>14.00</td>\n",
       "    </tr>\n",
       "    <tr>\n",
       "      <th>6751</th>\n",
       "      <td>6752</td>\n",
       "      <td>-11.0</td>\n",
       "      <td>953</td>\n",
       "      <td>450.00</td>\n",
       "      <td>18.00</td>\n",
       "    </tr>\n",
       "    <tr>\n",
       "      <th>8360</th>\n",
       "      <td>8361</td>\n",
       "      <td>-7.0</td>\n",
       "      <td>927</td>\n",
       "      <td>126.00</td>\n",
       "      <td>109.00</td>\n",
       "    </tr>\n",
       "    <tr>\n",
       "      <th>8628</th>\n",
       "      <td>8629</td>\n",
       "      <td>-10.0</td>\n",
       "      <td>923</td>\n",
       "      <td>414.60</td>\n",
       "      <td>34.00</td>\n",
       "    </tr>\n",
       "    <tr>\n",
       "      <th>9919</th>\n",
       "      <td>9920</td>\n",
       "      <td>-6.0</td>\n",
       "      <td>903</td>\n",
       "      <td>138.93</td>\n",
       "      <td>29.50</td>\n",
       "    </tr>\n",
       "    <tr>\n",
       "      <th>10662</th>\n",
       "      <td>10663</td>\n",
       "      <td>-10.0</td>\n",
       "      <td>891</td>\n",
       "      <td>126.00</td>\n",
       "      <td>113.00</td>\n",
       "    </tr>\n",
       "    <tr>\n",
       "      <th>10694</th>\n",
       "      <td>10695</td>\n",
       "      <td>-10.0</td>\n",
       "      <td>891</td>\n",
       "      <td>128.00</td>\n",
       "      <td>57.50</td>\n",
       "    </tr>\n",
       "    <tr>\n",
       "      <th>10755</th>\n",
       "      <td>10756</td>\n",
       "      <td>-6.0</td>\n",
       "      <td>891</td>\n",
       "      <td>128.00</td>\n",
       "      <td>55.00</td>\n",
       "    </tr>\n",
       "    <tr>\n",
       "      <th>14321</th>\n",
       "      <td>14322</td>\n",
       "      <td>-10.0</td>\n",
       "      <td>837</td>\n",
       "      <td>128.00</td>\n",
       "      <td>53.00</td>\n",
       "    </tr>\n",
       "    <tr>\n",
       "      <th>14687</th>\n",
       "      <td>14688</td>\n",
       "      <td>-1.0</td>\n",
       "      <td>832</td>\n",
       "      <td>330.00</td>\n",
       "      <td>131.00</td>\n",
       "    </tr>\n",
       "    <tr>\n",
       "      <th>15104</th>\n",
       "      <td>15105</td>\n",
       "      <td>-11.0</td>\n",
       "      <td>827</td>\n",
       "      <td>240.00</td>\n",
       "      <td>61.25</td>\n",
       "    </tr>\n",
       "    <tr>\n",
       "      <th>16974</th>\n",
       "      <td>16975</td>\n",
       "      <td>-1.0</td>\n",
       "      <td>799</td>\n",
       "      <td>466.80</td>\n",
       "      <td>116.50</td>\n",
       "    </tr>\n",
       "    <tr>\n",
       "      <th>18910</th>\n",
       "      <td>18911</td>\n",
       "      <td>110.0</td>\n",
       "      <td>768</td>\n",
       "      <td>140.00</td>\n",
       "      <td>164.80</td>\n",
       "    </tr>\n",
       "    <tr>\n",
       "      <th>20328</th>\n",
       "      <td>20329</td>\n",
       "      <td>-1.0</td>\n",
       "      <td>733</td>\n",
       "      <td>366.93</td>\n",
       "      <td>210.00</td>\n",
       "    </tr>\n",
       "    <tr>\n",
       "      <th>20405</th>\n",
       "      <td>20406</td>\n",
       "      <td>-9.0</td>\n",
       "      <td>732</td>\n",
       "      <td>939.60</td>\n",
       "      <td>303.30</td>\n",
       "    </tr>\n",
       "    <tr>\n",
       "      <th>25587</th>\n",
       "      <td>25588</td>\n",
       "      <td>113.0</td>\n",
       "      <td>634</td>\n",
       "      <td>492.00</td>\n",
       "      <td>76.40</td>\n",
       "    </tr>\n",
       "    <tr>\n",
       "      <th>44518</th>\n",
       "      <td>44519</td>\n",
       "      <td>113.0</td>\n",
       "      <td>337</td>\n",
       "      <td>234.00</td>\n",
       "      <td>34.50</td>\n",
       "    </tr>\n",
       "    <tr>\n",
       "      <th>45082</th>\n",
       "      <td>45083</td>\n",
       "      <td>114.0</td>\n",
       "      <td>330</td>\n",
       "      <td>266.00</td>\n",
       "      <td>43.00</td>\n",
       "    </tr>\n",
       "    <tr>\n",
       "      <th>53284</th>\n",
       "      <td>53285</td>\n",
       "      <td>122.0</td>\n",
       "      <td>253</td>\n",
       "      <td>0.00</td>\n",
       "      <td>0.00</td>\n",
       "    </tr>\n",
       "    <tr>\n",
       "      <th>57342</th>\n",
       "      <td>57343</td>\n",
       "      <td>-6.0</td>\n",
       "      <td>220</td>\n",
       "      <td>388.80</td>\n",
       "      <td>47.20</td>\n",
       "    </tr>\n",
       "    <tr>\n",
       "      <th>58036</th>\n",
       "      <td>58037</td>\n",
       "      <td>113.0</td>\n",
       "      <td>213</td>\n",
       "      <td>0.00</td>\n",
       "      <td>0.00</td>\n",
       "    </tr>\n",
       "    <tr>\n",
       "      <th>64239</th>\n",
       "      <td>64240</td>\n",
       "      <td>109.0</td>\n",
       "      <td>166</td>\n",
       "      <td>0.00</td>\n",
       "      <td>0.00</td>\n",
       "    </tr>\n",
       "  </tbody>\n",
       "</table>\n",
       "</div>"
      ],
      "text/plain": [
       "          ID    Age  DaysSinceCreation  LodgingRevenue  OtherRevenue\n",
       "2053    2054   -7.0               1034            0.00          0.00\n",
       "2469    2470   -7.0               1029            0.00          0.00\n",
       "3282    3283  114.0               1015           79.00         25.50\n",
       "5128    5129   -9.0                981           93.30         14.00\n",
       "6751    6752  -11.0                953          450.00         18.00\n",
       "8360    8361   -7.0                927          126.00        109.00\n",
       "8628    8629  -10.0                923          414.60         34.00\n",
       "9919    9920   -6.0                903          138.93         29.50\n",
       "10662  10663  -10.0                891          126.00        113.00\n",
       "10694  10695  -10.0                891          128.00         57.50\n",
       "10755  10756   -6.0                891          128.00         55.00\n",
       "14321  14322  -10.0                837          128.00         53.00\n",
       "14687  14688   -1.0                832          330.00        131.00\n",
       "15104  15105  -11.0                827          240.00         61.25\n",
       "16974  16975   -1.0                799          466.80        116.50\n",
       "18910  18911  110.0                768          140.00        164.80\n",
       "20328  20329   -1.0                733          366.93        210.00\n",
       "20405  20406   -9.0                732          939.60        303.30\n",
       "25587  25588  113.0                634          492.00         76.40\n",
       "44518  44519  113.0                337          234.00         34.50\n",
       "45082  45083  114.0                330          266.00         43.00\n",
       "53284  53285  122.0                253            0.00          0.00\n",
       "57342  57343   -6.0                220          388.80         47.20\n",
       "58036  58037  113.0                213            0.00          0.00\n",
       "64239  64240  109.0                166            0.00          0.00"
      ]
     },
     "execution_count": 24,
     "metadata": {},
     "output_type": "execute_result"
    }
   ],
   "source": [
    "Data.loc[(Data['Age'] > 100) | (Data['Age'] < 0) ,['ID','Age', 'DaysSinceCreation', 'LodgingRevenue', 'OtherRevenue']]"
   ]
  },
  {
   "cell_type": "code",
   "execution_count": 25,
   "metadata": {},
   "outputs": [],
   "source": [
    "Data.loc[Data['Age'] > 100, 'Age'] = 0\n",
    "\n",
    "Data.loc[Data['Age'] < 0, 'Age'] = 0"
   ]
  },
  {
   "cell_type": "code",
   "execution_count": 26,
   "metadata": {},
   "outputs": [
    {
     "data": {
      "text/html": [
       "<div>\n",
       "<style scoped>\n",
       "    .dataframe tbody tr th:only-of-type {\n",
       "        vertical-align: middle;\n",
       "    }\n",
       "\n",
       "    .dataframe tbody tr th {\n",
       "        vertical-align: top;\n",
       "    }\n",
       "\n",
       "    .dataframe thead th {\n",
       "        text-align: right;\n",
       "    }\n",
       "</style>\n",
       "<table border=\"1\" class=\"dataframe\">\n",
       "  <thead>\n",
       "    <tr style=\"text-align: right;\">\n",
       "      <th></th>\n",
       "      <th>ID</th>\n",
       "      <th>Age</th>\n",
       "      <th>DaysSinceCreation</th>\n",
       "      <th>LodgingRevenue</th>\n",
       "      <th>OtherRevenue</th>\n",
       "    </tr>\n",
       "  </thead>\n",
       "  <tbody>\n",
       "  </tbody>\n",
       "</table>\n",
       "</div>"
      ],
      "text/plain": [
       "Empty DataFrame\n",
       "Columns: [ID, Age, DaysSinceCreation, LodgingRevenue, OtherRevenue]\n",
       "Index: []"
      ]
     },
     "execution_count": 26,
     "metadata": {},
     "output_type": "execute_result"
    }
   ],
   "source": [
    "Data.loc[(Data['Age'] > 100) | (Data['Age'] < 0) ,['ID','Age', 'DaysSinceCreation', 'LodgingRevenue', 'OtherRevenue']]"
   ]
  },
  {
   "cell_type": "markdown",
   "metadata": {},
   "source": [
    "### Revenues"
   ]
  },
  {
   "cell_type": "markdown",
   "metadata": {},
   "source": [
    "Making sure all reported revenues are positive. "
   ]
  },
  {
   "cell_type": "code",
   "execution_count": 27,
   "metadata": {},
   "outputs": [
    {
     "name": "stdout",
     "output_type": "stream",
     "text": [
      "False    63182\n",
      "True     20408\n",
      "Name: LodgingRevenue, dtype: int64\n"
     ]
    }
   ],
   "source": [
    "revenuefilter1 = ((Data['LodgingRevenue']<=0)).value_counts()\n",
    "print(revenuefilter1)"
   ]
  },
  {
   "cell_type": "code",
   "execution_count": 28,
   "metadata": {},
   "outputs": [
    {
     "name": "stdout",
     "output_type": "stream",
     "text": [
      "False    63376\n",
      "True     20214\n",
      "Name: OtherRevenue, dtype: int64\n"
     ]
    }
   ],
   "source": [
    "revenuefilter2 = ((Data['OtherRevenue']<=0)).value_counts()\n",
    "print(revenuefilter2)"
   ]
  },
  {
   "cell_type": "markdown",
   "metadata": {},
   "source": [
    "Seems like lots of instances where revenue was less than or equal to 0! That's not good for business or analysis. Perhaps our customer records of guests, not only booking customers, are skewing the data. How many of these are impossible, or negative values?"
   ]
  },
  {
   "cell_type": "code",
   "execution_count": 29,
   "metadata": {},
   "outputs": [
    {
     "name": "stdout",
     "output_type": "stream",
     "text": [
      "okay\n"
     ]
    }
   ],
   "source": [
    "x = Data.LodgingRevenue.any()\n",
    "if x < 0:\n",
    "    print(x)\n",
    "else:\n",
    "    print('okay')\n"
   ]
  },
  {
   "cell_type": "code",
   "execution_count": 30,
   "metadata": {},
   "outputs": [
    {
     "name": "stdout",
     "output_type": "stream",
     "text": [
      "okay\n"
     ]
    }
   ],
   "source": [
    "x = Data.OtherRevenue.any()\n",
    "if x < 0:\n",
    "    print(x)\n",
    "else:\n",
    "    print('okay')"
   ]
  },
  {
   "cell_type": "code",
   "execution_count": 31,
   "metadata": {},
   "outputs": [
    {
     "data": {
      "text/plain": [
       "<AxesSubplot:>"
      ]
     },
     "execution_count": 31,
     "metadata": {},
     "output_type": "execute_result"
    },
    {
     "data": {
      "image/png": "[encoded data removed]",
      "text/plain": [
       "<Figure size 640x480 with 1 Axes>"
      ]
     },
     "metadata": {},
     "output_type": "display_data"
    }
   ],
   "source": [
    "Data.LodgingRevenue.hist()"
   ]
  },
  {
   "cell_type": "code",
   "execution_count": 32,
   "metadata": {},
   "outputs": [
    {
     "data": {
      "text/plain": [
       "<AxesSubplot:>"
      ]
     },
     "execution_count": 32,
     "metadata": {},
     "output_type": "execute_result"
    },
    {
     "data": {
      "image/png": "[encoded data removed]",
      "text/plain": [
       "<Figure size 640x480 with 1 Axes>"
      ]
     },
     "metadata": {},
     "output_type": "display_data"
    }
   ],
   "source": [
    "Data.OtherRevenue.hist()"
   ]
  },
  {
   "cell_type": "markdown",
   "metadata": {},
   "source": [
    "Seems like we are free of negative revenues. However, there are many zero revenue instances. Let's explore our theory that instances are for all guests and not just booking customers. Let's look at what  the age of these zero revenues is. "
   ]
  },
  {
   "cell_type": "code",
   "execution_count": 33,
   "metadata": {},
   "outputs": [
    {
     "data": {
      "text/plain": [
       "False    20\n",
       "True      5\n",
       "Name: LodgingRevenue, dtype: int64"
      ]
     },
     "execution_count": 33,
     "metadata": {},
     "output_type": "execute_result"
    }
   ],
   "source": [
    "(wrong_ages['LodgingRevenue']<=0).value_counts()"
   ]
  },
  {
   "cell_type": "code",
   "execution_count": 34,
   "metadata": {},
   "outputs": [
    {
     "data": {
      "text/plain": [
       "False    20\n",
       "True      5\n",
       "Name: OtherRevenue, dtype: int64"
      ]
     },
     "execution_count": 34,
     "metadata": {},
     "output_type": "execute_result"
    }
   ],
   "source": [
    "(wrong_ages['OtherRevenue']<=0).value_counts()"
   ]
  },
  {
   "cell_type": "code",
   "execution_count": 35,
   "metadata": {},
   "outputs": [
    {
     "name": "stdout",
     "output_type": "stream",
     "text": [
      "          ID  Age  DaysSinceCreation  LodgingRevenue  OtherRevenue\n",
      "2053    2054  0.0               1034            0.00          0.00\n",
      "2469    2470  0.0               1029            0.00          0.00\n",
      "3282    3283  0.0               1015           79.00         25.50\n",
      "5128    5129  0.0                981           93.30         14.00\n",
      "6751    6752  0.0                953          450.00         18.00\n",
      "8360    8361  0.0                927          126.00        109.00\n",
      "8628    8629  0.0                923          414.60         34.00\n",
      "9919    9920  0.0                903          138.93         29.50\n",
      "10662  10663  0.0                891          126.00        113.00\n",
      "10694  10695  0.0                891          128.00         57.50\n",
      "10755  10756  0.0                891          128.00         55.00\n",
      "14321  14322  0.0                837          128.00         53.00\n",
      "14687  14688  0.0                832          330.00        131.00\n",
      "15104  15105  0.0                827          240.00         61.25\n",
      "16974  16975  0.0                799          466.80        116.50\n",
      "18910  18911  0.0                768          140.00        164.80\n",
      "20328  20329  0.0                733          366.93        210.00\n",
      "20405  20406  0.0                732          939.60        303.30\n",
      "25587  25588  0.0                634          492.00         76.40\n",
      "44518  44519  0.0                337          234.00         34.50\n",
      "45082  45083  0.0                330          266.00         43.00\n",
      "53284  53285  0.0                253            0.00          0.00\n",
      "57342  57343  0.0                220          388.80         47.20\n",
      "58036  58037  0.0                213            0.00          0.00\n",
      "64239  64240  0.0                166            0.00          0.00\n"
     ]
    }
   ],
   "source": [
    "print(wrong_ages)"
   ]
  },
  {
   "cell_type": "code",
   "execution_count": 36,
   "metadata": {},
   "outputs": [],
   "source": [
    "missing_revenue = Data.loc[(Data['LodgingRevenue'] < 1) | (Data['OtherRevenue'] < 1)]"
   ]
  },
  {
   "cell_type": "code",
   "execution_count": 37,
   "metadata": {},
   "outputs": [
    {
     "data": {
      "text/plain": [
       "array([[<AxesSubplot:title={'center':'ID'}>,\n",
       "        <AxesSubplot:title={'center':'Age'}>,\n",
       "        <AxesSubplot:title={'center':'DaysSinceCreation'}>,\n",
       "        <AxesSubplot:title={'center':'AverageLeadTime'}>,\n",
       "        <AxesSubplot:title={'center':'LodgingRevenue'}>],\n",
       "       [<AxesSubplot:title={'center':'OtherRevenue'}>,\n",
       "        <AxesSubplot:title={'center':'BookingsCanceled'}>,\n",
       "        <AxesSubplot:title={'center':'BookingsNoShowed'}>,\n",
       "        <AxesSubplot:title={'center':'BookingsCheckedIn'}>,\n",
       "        <AxesSubplot:title={'center':'PersonsNights'}>],\n",
       "       [<AxesSubplot:title={'center':'RoomNights'}>,\n",
       "        <AxesSubplot:title={'center':'DaysSinceLastStay'}>,\n",
       "        <AxesSubplot:title={'center':'DaysSinceFirstStay'}>,\n",
       "        <AxesSubplot:title={'center':'SRHighFloor'}>,\n",
       "        <AxesSubplot:title={'center':'SRLowFloor'}>],\n",
       "       [<AxesSubplot:title={'center':'SRAccessibleRoom'}>,\n",
       "        <AxesSubplot:title={'center':'SRMediumFloor'}>,\n",
       "        <AxesSubplot:title={'center':'SRBathtub'}>,\n",
       "        <AxesSubplot:title={'center':'SRShower'}>,\n",
       "        <AxesSubplot:title={'center':'SRCrib'}>],\n",
       "       [<AxesSubplot:title={'center':'SRKingSizeBed'}>,\n",
       "        <AxesSubplot:title={'center':'SRTwinBed'}>,\n",
       "        <AxesSubplot:title={'center':'SRNearElevator'}>,\n",
       "        <AxesSubplot:title={'center':'SRAwayFromElevator'}>,\n",
       "        <AxesSubplot:title={'center':'SRNoAlcoholInMiniBar'}>],\n",
       "       [<AxesSubplot:title={'center':'SRQuietRoom'}>, <AxesSubplot:>,\n",
       "        <AxesSubplot:>, <AxesSubplot:>, <AxesSubplot:>]], dtype=object)"
      ]
     },
     "execution_count": 37,
     "metadata": {},
     "output_type": "execute_result"
    },
    {
     "data": {
      "image/png": "[encoded data removed]",
      "text/plain": [
       "<Figure size 2000x2000 with 30 Axes>"
      ]
     },
     "metadata": {},
     "output_type": "display_data"
    }
   ],
   "source": [
    "missing_revenue.hist(figsize=(20 , 20))"
   ]
  },
  {
   "cell_type": "markdown",
   "metadata": {},
   "source": [
    "It is apparent and intuitive that if an instance shows zero LodingRevenue, it also always shows zero OtherRevenue"
   ]
  },
  {
   "cell_type": "markdown",
   "metadata": {},
   "source": [
    "Not all instances where an age is 0 shows zero revenue. Does not explain for portion of the 20k rows with normal ages that show no revenue. "
   ]
  },
  {
   "cell_type": "markdown",
   "metadata": {},
   "source": [
    "Over 20k rows and 24% of instances have zero revenue information. Out of those, how many are cancellations or nosows? If a great many of those zero revenues are explained, it might be acceptable to leave it. However, we need to determine if the zero values will hinder our customer value predictions."
   ]
  },
  {
   "cell_type": "code",
   "execution_count": 38,
   "metadata": {},
   "outputs": [
    {
     "name": "stdout",
     "output_type": "stream",
     "text": [
      "False    83578\n",
      "True        12\n",
      "dtype: int64\n"
     ]
    }
   ],
   "source": [
    "revenuefilter3 = ((Data['LodgingRevenue']<=0) & Data['BookingsCanceled']>0).value_counts()\n",
    "\n",
    "print(revenuefilter3)"
   ]
  },
  {
   "cell_type": "code",
   "execution_count": 39,
   "metadata": {},
   "outputs": [
    {
     "name": "stdout",
     "output_type": "stream",
     "text": [
      "False    83590\n",
      "dtype: int64\n"
     ]
    }
   ],
   "source": [
    "revenuefilter4 = ((Data['LodgingRevenue']<=0) & Data['BookingsNoShowed']>0).value_counts()\n",
    "\n",
    "print(revenuefilter4)"
   ]
  },
  {
   "cell_type": "code",
   "execution_count": 40,
   "metadata": {},
   "outputs": [
    {
     "name": "stdout",
     "output_type": "stream",
     "text": [
      "False    83137\n",
      "True       453\n",
      "dtype: int64\n"
     ]
    }
   ],
   "source": [
    "revenuefilter5 = ((Data['LodgingRevenue']<=0) & Data['BookingsCheckedIn']>0).value_counts()\n",
    "print(revenuefilter5)"
   ]
  },
  {
   "cell_type": "markdown",
   "metadata": {},
   "source": [
    "From this quick check, this doesn't seem to be the case that the majority of these zero revenue instances are related to age, canceled bookings, noshows or checkins. We will need to do a closer analysis on this in the EDA to determine the correct way to deal with these zeros and possibly impute the zeros using supervised learning to predict the value. Perhaps this will help our clustering to know which customers have spent zero dollars? "
   ]
  },
  {
   "cell_type": "markdown",
   "metadata": {},
   "source": [
    "#Random Forest is suggested and cited [here](https://www.frontiersin.org/articles/10.3389/fdata.2021.693674/full) and [here](https://medium.com/analytics-vidhya/smart-data-imputation-using-random-forest-58a9aedd557a)"
   ]
  },
  {
   "cell_type": "markdown",
   "metadata": {},
   "source": [
    "### Bookings, Nights, Rooms, Days"
   ]
  },
  {
   "cell_type": "markdown",
   "metadata": {},
   "source": [
    "We saw earlier that each of these features is in the correct int datatype. Duplicates are likely and not an issue. No missing values, see below."
   ]
  },
  {
   "cell_type": "markdown",
   "metadata": {},
   "source": [
    "## Outliers quick check"
   ]
  },
  {
   "cell_type": "markdown",
   "metadata": {},
   "source": [
    "Are there any other extreme values?"
   ]
  },
  {
   "cell_type": "code",
   "execution_count": 41,
   "metadata": {},
   "outputs": [
    {
     "data": {
      "text/html": [
       "<div>\n",
       "<style scoped>\n",
       "    .dataframe tbody tr th:only-of-type {\n",
       "        vertical-align: middle;\n",
       "    }\n",
       "\n",
       "    .dataframe tbody tr th {\n",
       "        vertical-align: top;\n",
       "    }\n",
       "\n",
       "    .dataframe thead th {\n",
       "        text-align: right;\n",
       "    }\n",
       "</style>\n",
       "<table border=\"1\" class=\"dataframe\">\n",
       "  <thead>\n",
       "    <tr style=\"text-align: right;\">\n",
       "      <th></th>\n",
       "      <th>count</th>\n",
       "      <th>mean</th>\n",
       "      <th>std</th>\n",
       "      <th>min</th>\n",
       "      <th>25%</th>\n",
       "      <th>50%</th>\n",
       "      <th>75%</th>\n",
       "      <th>max</th>\n",
       "    </tr>\n",
       "  </thead>\n",
       "  <tbody>\n",
       "    <tr>\n",
       "      <th>ID</th>\n",
       "      <td>83590.0</td>\n",
       "      <td>41795.500000</td>\n",
       "      <td>24130.498838</td>\n",
       "      <td>1.0</td>\n",
       "      <td>20898.25</td>\n",
       "      <td>41795.5</td>\n",
       "      <td>62692.750</td>\n",
       "      <td>83590.00</td>\n",
       "    </tr>\n",
       "    <tr>\n",
       "      <th>Age</th>\n",
       "      <td>83590.0</td>\n",
       "      <td>43.336236</td>\n",
       "      <td>18.728542</td>\n",
       "      <td>0.0</td>\n",
       "      <td>32.00</td>\n",
       "      <td>45.0</td>\n",
       "      <td>56.000</td>\n",
       "      <td>96.00</td>\n",
       "    </tr>\n",
       "    <tr>\n",
       "      <th>DaysSinceCreation</th>\n",
       "      <td>83590.0</td>\n",
       "      <td>453.640902</td>\n",
       "      <td>313.390291</td>\n",
       "      <td>0.0</td>\n",
       "      <td>177.00</td>\n",
       "      <td>397.0</td>\n",
       "      <td>723.000</td>\n",
       "      <td>1095.00</td>\n",
       "    </tr>\n",
       "    <tr>\n",
       "      <th>AverageLeadTime</th>\n",
       "      <td>83590.0</td>\n",
       "      <td>66.196028</td>\n",
       "      <td>87.758990</td>\n",
       "      <td>-1.0</td>\n",
       "      <td>0.00</td>\n",
       "      <td>29.0</td>\n",
       "      <td>103.000</td>\n",
       "      <td>588.00</td>\n",
       "    </tr>\n",
       "    <tr>\n",
       "      <th>LodgingRevenue</th>\n",
       "      <td>83590.0</td>\n",
       "      <td>298.802087</td>\n",
       "      <td>372.851892</td>\n",
       "      <td>0.0</td>\n",
       "      <td>59.00</td>\n",
       "      <td>234.0</td>\n",
       "      <td>402.000</td>\n",
       "      <td>21781.00</td>\n",
       "    </tr>\n",
       "    <tr>\n",
       "      <th>OtherRevenue</th>\n",
       "      <td>83590.0</td>\n",
       "      <td>67.589132</td>\n",
       "      <td>114.327776</td>\n",
       "      <td>0.0</td>\n",
       "      <td>2.00</td>\n",
       "      <td>38.5</td>\n",
       "      <td>87.675</td>\n",
       "      <td>7730.25</td>\n",
       "    </tr>\n",
       "    <tr>\n",
       "      <th>BookingsCanceled</th>\n",
       "      <td>83590.0</td>\n",
       "      <td>0.002022</td>\n",
       "      <td>0.066770</td>\n",
       "      <td>0.0</td>\n",
       "      <td>0.00</td>\n",
       "      <td>0.0</td>\n",
       "      <td>0.000</td>\n",
       "      <td>9.00</td>\n",
       "    </tr>\n",
       "    <tr>\n",
       "      <th>BookingsNoShowed</th>\n",
       "      <td>83590.0</td>\n",
       "      <td>0.000634</td>\n",
       "      <td>0.029545</td>\n",
       "      <td>0.0</td>\n",
       "      <td>0.00</td>\n",
       "      <td>0.0</td>\n",
       "      <td>0.000</td>\n",
       "      <td>3.00</td>\n",
       "    </tr>\n",
       "    <tr>\n",
       "      <th>BookingsCheckedIn</th>\n",
       "      <td>83590.0</td>\n",
       "      <td>0.794617</td>\n",
       "      <td>0.695778</td>\n",
       "      <td>0.0</td>\n",
       "      <td>1.00</td>\n",
       "      <td>1.0</td>\n",
       "      <td>1.000</td>\n",
       "      <td>66.00</td>\n",
       "    </tr>\n",
       "    <tr>\n",
       "      <th>PersonsNights</th>\n",
       "      <td>83590.0</td>\n",
       "      <td>4.649133</td>\n",
       "      <td>4.567673</td>\n",
       "      <td>0.0</td>\n",
       "      <td>1.00</td>\n",
       "      <td>4.0</td>\n",
       "      <td>6.000</td>\n",
       "      <td>116.00</td>\n",
       "    </tr>\n",
       "    <tr>\n",
       "      <th>RoomNights</th>\n",
       "      <td>83590.0</td>\n",
       "      <td>2.358536</td>\n",
       "      <td>2.281746</td>\n",
       "      <td>0.0</td>\n",
       "      <td>1.00</td>\n",
       "      <td>2.0</td>\n",
       "      <td>4.000</td>\n",
       "      <td>185.00</td>\n",
       "    </tr>\n",
       "    <tr>\n",
       "      <th>DaysSinceLastStay</th>\n",
       "      <td>83590.0</td>\n",
       "      <td>401.067137</td>\n",
       "      <td>347.204955</td>\n",
       "      <td>-1.0</td>\n",
       "      <td>26.00</td>\n",
       "      <td>366.0</td>\n",
       "      <td>693.000</td>\n",
       "      <td>1104.00</td>\n",
       "    </tr>\n",
       "    <tr>\n",
       "      <th>DaysSinceFirstStay</th>\n",
       "      <td>83590.0</td>\n",
       "      <td>403.349013</td>\n",
       "      <td>347.971089</td>\n",
       "      <td>-1.0</td>\n",
       "      <td>27.00</td>\n",
       "      <td>369.0</td>\n",
       "      <td>697.000</td>\n",
       "      <td>1186.00</td>\n",
       "    </tr>\n",
       "    <tr>\n",
       "      <th>SRHighFloor</th>\n",
       "      <td>83590.0</td>\n",
       "      <td>0.047482</td>\n",
       "      <td>0.212668</td>\n",
       "      <td>0.0</td>\n",
       "      <td>0.00</td>\n",
       "      <td>0.0</td>\n",
       "      <td>0.000</td>\n",
       "      <td>1.00</td>\n",
       "    </tr>\n",
       "    <tr>\n",
       "      <th>SRLowFloor</th>\n",
       "      <td>83590.0</td>\n",
       "      <td>0.001412</td>\n",
       "      <td>0.037546</td>\n",
       "      <td>0.0</td>\n",
       "      <td>0.00</td>\n",
       "      <td>0.0</td>\n",
       "      <td>0.000</td>\n",
       "      <td>1.00</td>\n",
       "    </tr>\n",
       "    <tr>\n",
       "      <th>SRAccessibleRoom</th>\n",
       "      <td>83590.0</td>\n",
       "      <td>0.000251</td>\n",
       "      <td>0.015848</td>\n",
       "      <td>0.0</td>\n",
       "      <td>0.00</td>\n",
       "      <td>0.0</td>\n",
       "      <td>0.000</td>\n",
       "      <td>1.00</td>\n",
       "    </tr>\n",
       "    <tr>\n",
       "      <th>SRMediumFloor</th>\n",
       "      <td>83590.0</td>\n",
       "      <td>0.000873</td>\n",
       "      <td>0.029539</td>\n",
       "      <td>0.0</td>\n",
       "      <td>0.00</td>\n",
       "      <td>0.0</td>\n",
       "      <td>0.000</td>\n",
       "      <td>1.00</td>\n",
       "    </tr>\n",
       "    <tr>\n",
       "      <th>SRBathtub</th>\n",
       "      <td>83590.0</td>\n",
       "      <td>0.002847</td>\n",
       "      <td>0.053284</td>\n",
       "      <td>0.0</td>\n",
       "      <td>0.00</td>\n",
       "      <td>0.0</td>\n",
       "      <td>0.000</td>\n",
       "      <td>1.00</td>\n",
       "    </tr>\n",
       "    <tr>\n",
       "      <th>SRShower</th>\n",
       "      <td>83590.0</td>\n",
       "      <td>0.001711</td>\n",
       "      <td>0.041326</td>\n",
       "      <td>0.0</td>\n",
       "      <td>0.00</td>\n",
       "      <td>0.0</td>\n",
       "      <td>0.000</td>\n",
       "      <td>1.00</td>\n",
       "    </tr>\n",
       "    <tr>\n",
       "      <th>SRCrib</th>\n",
       "      <td>83590.0</td>\n",
       "      <td>0.013219</td>\n",
       "      <td>0.114213</td>\n",
       "      <td>0.0</td>\n",
       "      <td>0.00</td>\n",
       "      <td>0.0</td>\n",
       "      <td>0.000</td>\n",
       "      <td>1.00</td>\n",
       "    </tr>\n",
       "    <tr>\n",
       "      <th>SRKingSizeBed</th>\n",
       "      <td>83590.0</td>\n",
       "      <td>0.352686</td>\n",
       "      <td>0.477809</td>\n",
       "      <td>0.0</td>\n",
       "      <td>0.00</td>\n",
       "      <td>0.0</td>\n",
       "      <td>1.000</td>\n",
       "      <td>1.00</td>\n",
       "    </tr>\n",
       "    <tr>\n",
       "      <th>SRTwinBed</th>\n",
       "      <td>83590.0</td>\n",
       "      <td>0.142541</td>\n",
       "      <td>0.349606</td>\n",
       "      <td>0.0</td>\n",
       "      <td>0.00</td>\n",
       "      <td>0.0</td>\n",
       "      <td>0.000</td>\n",
       "      <td>1.00</td>\n",
       "    </tr>\n",
       "    <tr>\n",
       "      <th>SRNearElevator</th>\n",
       "      <td>83590.0</td>\n",
       "      <td>0.000335</td>\n",
       "      <td>0.018299</td>\n",
       "      <td>0.0</td>\n",
       "      <td>0.00</td>\n",
       "      <td>0.0</td>\n",
       "      <td>0.000</td>\n",
       "      <td>1.00</td>\n",
       "    </tr>\n",
       "    <tr>\n",
       "      <th>SRAwayFromElevator</th>\n",
       "      <td>83590.0</td>\n",
       "      <td>0.003505</td>\n",
       "      <td>0.059101</td>\n",
       "      <td>0.0</td>\n",
       "      <td>0.00</td>\n",
       "      <td>0.0</td>\n",
       "      <td>0.000</td>\n",
       "      <td>1.00</td>\n",
       "    </tr>\n",
       "    <tr>\n",
       "      <th>SRNoAlcoholInMiniBar</th>\n",
       "      <td>83590.0</td>\n",
       "      <td>0.000120</td>\n",
       "      <td>0.010937</td>\n",
       "      <td>0.0</td>\n",
       "      <td>0.00</td>\n",
       "      <td>0.0</td>\n",
       "      <td>0.000</td>\n",
       "      <td>1.00</td>\n",
       "    </tr>\n",
       "    <tr>\n",
       "      <th>SRQuietRoom</th>\n",
       "      <td>83590.0</td>\n",
       "      <td>0.088372</td>\n",
       "      <td>0.283837</td>\n",
       "      <td>0.0</td>\n",
       "      <td>0.00</td>\n",
       "      <td>0.0</td>\n",
       "      <td>0.000</td>\n",
       "      <td>1.00</td>\n",
       "    </tr>\n",
       "  </tbody>\n",
       "</table>\n",
       "</div>"
      ],
      "text/plain": [
       "                        count          mean           std  min       25%  \\\n",
       "ID                    83590.0  41795.500000  24130.498838  1.0  20898.25   \n",
       "Age                   83590.0     43.336236     18.728542  0.0     32.00   \n",
       "DaysSinceCreation     83590.0    453.640902    313.390291  0.0    177.00   \n",
       "AverageLeadTime       83590.0     66.196028     87.758990 -1.0      0.00   \n",
       "LodgingRevenue        83590.0    298.802087    372.851892  0.0     59.00   \n",
       "OtherRevenue          83590.0     67.589132    114.327776  0.0      2.00   \n",
       "BookingsCanceled      83590.0      0.002022      0.066770  0.0      0.00   \n",
       "BookingsNoShowed      83590.0      0.000634      0.029545  0.0      0.00   \n",
       "BookingsCheckedIn     83590.0      0.794617      0.695778  0.0      1.00   \n",
       "PersonsNights         83590.0      4.649133      4.567673  0.0      1.00   \n",
       "RoomNights            83590.0      2.358536      2.281746  0.0      1.00   \n",
       "DaysSinceLastStay     83590.0    401.067137    347.204955 -1.0     26.00   \n",
       "DaysSinceFirstStay    83590.0    403.349013    347.971089 -1.0     27.00   \n",
       "SRHighFloor           83590.0      0.047482      0.212668  0.0      0.00   \n",
       "SRLowFloor            83590.0      0.001412      0.037546  0.0      0.00   \n",
       "SRAccessibleRoom      83590.0      0.000251      0.015848  0.0      0.00   \n",
       "SRMediumFloor         83590.0      0.000873      0.029539  0.0      0.00   \n",
       "SRBathtub             83590.0      0.002847      0.053284  0.0      0.00   \n",
       "SRShower              83590.0      0.001711      0.041326  0.0      0.00   \n",
       "SRCrib                83590.0      0.013219      0.114213  0.0      0.00   \n",
       "SRKingSizeBed         83590.0      0.352686      0.477809  0.0      0.00   \n",
       "SRTwinBed             83590.0      0.142541      0.349606  0.0      0.00   \n",
       "SRNearElevator        83590.0      0.000335      0.018299  0.0      0.00   \n",
       "SRAwayFromElevator    83590.0      0.003505      0.059101  0.0      0.00   \n",
       "SRNoAlcoholInMiniBar  83590.0      0.000120      0.010937  0.0      0.00   \n",
       "SRQuietRoom           83590.0      0.088372      0.283837  0.0      0.00   \n",
       "\n",
       "                          50%        75%       max  \n",
       "ID                    41795.5  62692.750  83590.00  \n",
       "Age                      45.0     56.000     96.00  \n",
       "DaysSinceCreation       397.0    723.000   1095.00  \n",
       "AverageLeadTime          29.0    103.000    588.00  \n",
       "LodgingRevenue          234.0    402.000  21781.00  \n",
       "OtherRevenue             38.5     87.675   7730.25  \n",
       "BookingsCanceled          0.0      0.000      9.00  \n",
       "BookingsNoShowed          0.0      0.000      3.00  \n",
       "BookingsCheckedIn         1.0      1.000     66.00  \n",
       "PersonsNights             4.0      6.000    116.00  \n",
       "RoomNights                2.0      4.000    185.00  \n",
       "DaysSinceLastStay       366.0    693.000   1104.00  \n",
       "DaysSinceFirstStay      369.0    697.000   1186.00  \n",
       "SRHighFloor               0.0      0.000      1.00  \n",
       "SRLowFloor                0.0      0.000      1.00  \n",
       "SRAccessibleRoom          0.0      0.000      1.00  \n",
       "SRMediumFloor             0.0      0.000      1.00  \n",
       "SRBathtub                 0.0      0.000      1.00  \n",
       "SRShower                  0.0      0.000      1.00  \n",
       "SRCrib                    0.0      0.000      1.00  \n",
       "SRKingSizeBed             0.0      1.000      1.00  \n",
       "SRTwinBed                 0.0      0.000      1.00  \n",
       "SRNearElevator            0.0      0.000      1.00  \n",
       "SRAwayFromElevator        0.0      0.000      1.00  \n",
       "SRNoAlcoholInMiniBar      0.0      0.000      1.00  \n",
       "SRQuietRoom               0.0      0.000      1.00  "
      ]
     },
     "execution_count": 41,
     "metadata": {},
     "output_type": "execute_result"
    }
   ],
   "source": [
    "Data.describe().T"
   ]
  },
  {
   "cell_type": "markdown",
   "metadata": {},
   "source": [
    "Will check further with some boxplots."
   ]
  },
  {
   "cell_type": "markdown",
   "metadata": {},
   "source": [
    "What other distribution considerations are we interested in for the EDA process besides revenues? "
   ]
  },
  {
   "cell_type": "code",
   "execution_count": 42,
   "metadata": {},
   "outputs": [
    {
     "data": {
      "text/plain": [
       "array([[<AxesSubplot:title={'center':'ID'}>,\n",
       "        <AxesSubplot:title={'center':'Age'}>,\n",
       "        <AxesSubplot:title={'center':'DaysSinceCreation'}>,\n",
       "        <AxesSubplot:title={'center':'AverageLeadTime'}>,\n",
       "        <AxesSubplot:title={'center':'LodgingRevenue'}>],\n",
       "       [<AxesSubplot:title={'center':'OtherRevenue'}>,\n",
       "        <AxesSubplot:title={'center':'BookingsCanceled'}>,\n",
       "        <AxesSubplot:title={'center':'BookingsNoShowed'}>,\n",
       "        <AxesSubplot:title={'center':'BookingsCheckedIn'}>,\n",
       "        <AxesSubplot:title={'center':'PersonsNights'}>],\n",
       "       [<AxesSubplot:title={'center':'RoomNights'}>,\n",
       "        <AxesSubplot:title={'center':'DaysSinceLastStay'}>,\n",
       "        <AxesSubplot:title={'center':'DaysSinceFirstStay'}>,\n",
       "        <AxesSubplot:title={'center':'SRHighFloor'}>,\n",
       "        <AxesSubplot:title={'center':'SRLowFloor'}>],\n",
       "       [<AxesSubplot:title={'center':'SRAccessibleRoom'}>,\n",
       "        <AxesSubplot:title={'center':'SRMediumFloor'}>,\n",
       "        <AxesSubplot:title={'center':'SRBathtub'}>,\n",
       "        <AxesSubplot:title={'center':'SRShower'}>,\n",
       "        <AxesSubplot:title={'center':'SRCrib'}>],\n",
       "       [<AxesSubplot:title={'center':'SRKingSizeBed'}>,\n",
       "        <AxesSubplot:title={'center':'SRTwinBed'}>,\n",
       "        <AxesSubplot:title={'center':'SRNearElevator'}>,\n",
       "        <AxesSubplot:title={'center':'SRAwayFromElevator'}>,\n",
       "        <AxesSubplot:title={'center':'SRNoAlcoholInMiniBar'}>],\n",
       "       [<AxesSubplot:title={'center':'SRQuietRoom'}>, <AxesSubplot:>,\n",
       "        <AxesSubplot:>, <AxesSubplot:>, <AxesSubplot:>]], dtype=object)"
      ]
     },
     "execution_count": 42,
     "metadata": {},
     "output_type": "execute_result"
    },
    {
     "data": {
      "image/png": "[encoded data removed]",
      "text/plain": [
       "<Figure size 2000x2000 with 30 Axes>"
      ]
     },
     "metadata": {},
     "output_type": "display_data"
    }
   ],
   "source": [
    "Data.hist(figsize=(20,20))"
   ]
  },
  {
   "cell_type": "code",
   "execution_count": 43,
   "metadata": {},
   "outputs": [
    {
     "data": {
      "text/plain": [
       "<AxesSubplot:xlabel='Age'>"
      ]
     },
     "execution_count": 43,
     "metadata": {},
     "output_type": "execute_result"
    },
    {
     "data": {
      "image/png": "[encoded data removed]",
      "text/plain": [
       "<Figure size 640x480 with 1 Axes>"
      ]
     },
     "metadata": {},
     "output_type": "display_data"
    }
   ],
   "source": [
    "sns.boxplot(x=Data['Age'])"
   ]
  },
  {
   "cell_type": "code",
   "execution_count": 44,
   "metadata": {},
   "outputs": [
    {
     "data": {
      "text/plain": [
       "<AxesSubplot:xlabel='DaysSinceCreation'>"
      ]
     },
     "execution_count": 44,
     "metadata": {},
     "output_type": "execute_result"
    },
    {
     "data": {
      "image/png": "[encoded data removed]",
      "text/plain": [
       "<Figure size 640x480 with 1 Axes>"
      ]
     },
     "metadata": {},
     "output_type": "display_data"
    }
   ],
   "source": [
    "sns.boxplot(x=Data['DaysSinceCreation'])"
   ]
  },
  {
   "cell_type": "code",
   "execution_count": 45,
   "metadata": {},
   "outputs": [
    {
     "data": {
      "text/plain": [
       "<AxesSubplot:xlabel='AverageLeadTime'>"
      ]
     },
     "execution_count": 45,
     "metadata": {},
     "output_type": "execute_result"
    },
    {
     "data": {
      "image/png": "[encoded data removed]",
      "text/plain": [
       "<Figure size 640x480 with 1 Axes>"
      ]
     },
     "metadata": {},
     "output_type": "display_data"
    }
   ],
   "source": [
    "sns.boxplot(x=Data['AverageLeadTime'])"
   ]
  },
  {
   "cell_type": "code",
   "execution_count": 46,
   "metadata": {},
   "outputs": [
    {
     "data": {
      "text/plain": [
       "<AxesSubplot:xlabel='LodgingRevenue'>"
      ]
     },
     "execution_count": 46,
     "metadata": {},
     "output_type": "execute_result"
    },
    {
     "data": {
      "image/png": "[encoded data removed]",
      "text/plain": [
       "<Figure size 640x480 with 1 Axes>"
      ]
     },
     "metadata": {},
     "output_type": "display_data"
    }
   ],
   "source": [
    "sns.boxplot(x=Data['LodgingRevenue'])"
   ]
  },
  {
   "cell_type": "code",
   "execution_count": 47,
   "metadata": {},
   "outputs": [
    {
     "data": {
      "text/plain": [
       "<AxesSubplot:xlabel='OtherRevenue'>"
      ]
     },
     "execution_count": 47,
     "metadata": {},
     "output_type": "execute_result"
    },
    {
     "data": {
      "image/png": "[encoded data removed]",
      "text/plain": [
       "<Figure size 640x480 with 1 Axes>"
      ]
     },
     "metadata": {},
     "output_type": "display_data"
    }
   ],
   "source": [
    "sns.boxplot(x=Data['OtherRevenue'])"
   ]
  },
  {
   "cell_type": "code",
   "execution_count": 48,
   "metadata": {},
   "outputs": [
    {
     "data": {
      "text/plain": [
       "<AxesSubplot:xlabel='BookingsCanceled'>"
      ]
     },
     "execution_count": 48,
     "metadata": {},
     "output_type": "execute_result"
    },
    {
     "data": {
      "image/png": "[encoded data removed]",
      "text/plain": [
       "<Figure size 640x480 with 1 Axes>"
      ]
     },
     "metadata": {},
     "output_type": "display_data"
    }
   ],
   "source": [
    "sns.boxplot(x=Data['BookingsCanceled'])"
   ]
  },
  {
   "cell_type": "code",
   "execution_count": 49,
   "metadata": {},
   "outputs": [
    {
     "data": {
      "text/plain": [
       "<AxesSubplot:xlabel='BookingsNoShowed'>"
      ]
     },
     "execution_count": 49,
     "metadata": {},
     "output_type": "execute_result"
    },
    {
     "data": {
      "image/png": "[encoded data removed]",
      "text/plain": [
       "<Figure size 640x480 with 1 Axes>"
      ]
     },
     "metadata": {},
     "output_type": "display_data"
    }
   ],
   "source": [
    "sns.boxplot(x=Data['BookingsNoShowed'])"
   ]
  },
  {
   "cell_type": "code",
   "execution_count": 50,
   "metadata": {},
   "outputs": [
    {
     "data": {
      "text/plain": [
       "<AxesSubplot:xlabel='BookingsCheckedIn'>"
      ]
     },
     "execution_count": 50,
     "metadata": {},
     "output_type": "execute_result"
    },
    {
     "data": {
      "image/png": "[encoded data removed]",
      "text/plain": [
       "<Figure size 640x480 with 1 Axes>"
      ]
     },
     "metadata": {},
     "output_type": "display_data"
    }
   ],
   "source": [
    "sns.boxplot(x=Data['BookingsCheckedIn'])"
   ]
  },
  {
   "cell_type": "code",
   "execution_count": 51,
   "metadata": {},
   "outputs": [
    {
     "data": {
      "text/plain": [
       "<AxesSubplot:xlabel='PersonsNights'>"
      ]
     },
     "execution_count": 51,
     "metadata": {},
     "output_type": "execute_result"
    },
    {
     "data": {
      "image/png": "[encoded data removed]",
      "text/plain": [
       "<Figure size 640x480 with 1 Axes>"
      ]
     },
     "metadata": {},
     "output_type": "display_data"
    }
   ],
   "source": [
    "sns.boxplot(x=Data['PersonsNights'])"
   ]
  },
  {
   "cell_type": "code",
   "execution_count": 52,
   "metadata": {},
   "outputs": [
    {
     "data": {
      "text/plain": [
       "<AxesSubplot:xlabel='DaysSinceLastStay'>"
      ]
     },
     "execution_count": 52,
     "metadata": {},
     "output_type": "execute_result"
    },
    {
     "data": {
      "image/png": "[encoded data removed]",
      "text/plain": [
       "<Figure size 640x480 with 1 Axes>"
      ]
     },
     "metadata": {},
     "output_type": "display_data"
    }
   ],
   "source": [
    "sns.boxplot(x=Data['DaysSinceLastStay'])"
   ]
  },
  {
   "cell_type": "code",
   "execution_count": 53,
   "metadata": {},
   "outputs": [
    {
     "data": {
      "text/plain": [
       "<AxesSubplot:xlabel='DaysSinceFirstStay'>"
      ]
     },
     "execution_count": 53,
     "metadata": {},
     "output_type": "execute_result"
    },
    {
     "data": {
      "image/png": "[encoded data removed]",
      "text/plain": [
       "<Figure size 640x480 with 1 Axes>"
      ]
     },
     "metadata": {},
     "output_type": "display_data"
    }
   ],
   "source": [
    "sns.boxplot(x=Data['DaysSinceFirstStay'])"
   ]
  },
  {
   "cell_type": "code",
   "execution_count": 54,
   "metadata": {},
   "outputs": [
    {
     "data": {
      "text/plain": [
       "<AxesSubplot:xlabel='RoomNights'>"
      ]
     },
     "execution_count": 54,
     "metadata": {},
     "output_type": "execute_result"
    },
    {
     "data": {
      "image/png": "[encoded data removed]",
      "text/plain": [
       "<Figure size 640x480 with 1 Axes>"
      ]
     },
     "metadata": {},
     "output_type": "display_data"
    }
   ],
   "source": [
    "sns.boxplot(x=Data['RoomNights'])"
   ]
  }
 ],
 "metadata": {
  "kernelspec": {
   "display_name": "Python 3.8.13 ('Capstone3')",
   "language": "python",
   "name": "python3"
  },
  "language_info": {
   "codemirror_mode": {
    "name": "ipython",
    "version": 3
   },
   "file_extension": ".py",
   "mimetype": "text/x-python",
   "name": "python",
   "nbconvert_exporter": "python",
   "pygments_lexer": "ipython3",
   "version": "3.8.13"
  },
  "orig_nbformat": 4,
  "vscode": {
   "interpreter": {
    "hash": "cb3c762ab27d56cd1a1e523925390e64bfccf0e43506f557e8f0849e0a0e9a61"
   }
  }
 },
 "nbformat": 4,
 "nbformat_minor": 2
}
