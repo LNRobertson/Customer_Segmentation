{
 "cells": [
  {
   "cell_type": "markdown",
   "metadata": {},
   "source": [
    "# Customer_Segmentation - Data Wrangling \n",
    "##### Lindsey Robertson"
   ]
  },
  {
   "cell_type": "markdown",
   "metadata": {},
   "source": [
    "### Problem"
   ]
  },
  {
   "cell_type": "markdown",
   "metadata": {},
   "source": [
    "Customer segmentation for the purpose of Customer Lifetime Value prediction and more targeted marketing efforts. "
   ]
  },
  {
   "cell_type": "markdown",
   "metadata": {},
   "source": [
    "### Data"
   ]
  },
  {
   "cell_type": "markdown",
   "metadata": {},
   "source": [
    "This real-world customer dataset with 31 variables describes\n",
    "83,590 instances (customers) from a hotel in Lisbon, Portugal.\n",
    "Instances include; customer personal, behavioral,\n",
    "demographic, and geographical information for 3 full years.\n",
    "The dataset can be found on Kaggle here"
   ]
  },
  {
   "cell_type": "markdown",
   "metadata": {},
   "source": [
    "### Process"
   ]
  },
  {
   "cell_type": "markdown",
   "metadata": {},
   "source": []
  },
  {
   "cell_type": "markdown",
   "metadata": {},
   "source": [
    "### Import libraries"
   ]
  },
  {
   "cell_type": "code",
   "execution_count": null,
   "metadata": {},
   "outputs": [],
   "source": [
    "pip install openpyxl"
   ]
  },
  {
   "cell_type": "code",
   "execution_count": null,
   "metadata": {},
   "outputs": [],
   "source": [
    "pip install kaggle"
   ]
  },
  {
   "cell_type": "code",
   "execution_count": null,
   "metadata": {},
   "outputs": [],
   "source": [
    "pip install opendatasets"
   ]
  },
  {
   "cell_type": "code",
   "execution_count": 2,
   "metadata": {},
   "outputs": [],
   "source": [
    "import pandas as pd\n",
    "import numpy as np\n",
    "import opendatasets as od\n",
    "from numpy import NaN"
   ]
  },
  {
   "cell_type": "markdown",
   "metadata": {},
   "source": [
    "### Load Flatfile Data"
   ]
  },
  {
   "cell_type": "markdown",
   "metadata": {},
   "source": [
    "data = pd.read_excel('C:/Users/Lindsey/Repos/Customer_Segmentation/data/raw/HotelCustomersDataset.xlsx')"
   ]
  },
  {
   "cell_type": "markdown",
   "metadata": {},
   "source": [
    "### Load data from Kaggle API"
   ]
  },
  {
   "cell_type": "code",
   "execution_count": 3,
   "metadata": {},
   "outputs": [
    {
     "name": "stdout",
     "output_type": "stream",
     "text": [
      "Please provide your Kaggle credentials to download this dataset. Learn more: http://bit.ly/kaggle-creds\n",
      "Your Kaggle username:Your Kaggle Key:Downloading a-hotels-customers-dataset.zip to .\\a-hotels-customers-dataset\n"
     ]
    },
    {
     "name": "stderr",
     "output_type": "stream",
     "text": [
      "100%|██████████| 15.6M/15.6M [00:01<00:00, 8.41MB/s]\n"
     ]
    },
    {
     "name": "stdout",
     "output_type": "stream",
     "text": [
      "\n"
     ]
    }
   ],
   "source": [
    "od.download(\n",
    "    \"https://www.kaggle.com/datasets/nantonio/a-hotels-customers-dataset\")"
   ]
  },
  {
   "cell_type": "markdown",
   "metadata": {},
   "source": [
    "### Read data into dataframe"
   ]
  },
  {
   "cell_type": "code",
   "execution_count": 12,
   "metadata": {},
   "outputs": [
    {
     "data": {
      "text/html": [
       "<div>\n",
       "<style scoped>\n",
       "    .dataframe tbody tr th:only-of-type {\n",
       "        vertical-align: middle;\n",
       "    }\n",
       "\n",
       "    .dataframe tbody tr th {\n",
       "        vertical-align: top;\n",
       "    }\n",
       "\n",
       "    .dataframe thead th {\n",
       "        text-align: right;\n",
       "    }\n",
       "</style>\n",
       "<table border=\"1\" class=\"dataframe\">\n",
       "  <thead>\n",
       "    <tr style=\"text-align: right;\">\n",
       "      <th></th>\n",
       "      <th>ID</th>\n",
       "      <th>Nationality</th>\n",
       "      <th>Age</th>\n",
       "      <th>DaysSinceCreation</th>\n",
       "      <th>NameHash</th>\n",
       "      <th>DocIDHash</th>\n",
       "      <th>AverageLeadTime</th>\n",
       "      <th>LodgingRevenue</th>\n",
       "      <th>OtherRevenue</th>\n",
       "      <th>BookingsCanceled</th>\n",
       "      <th>...</th>\n",
       "      <th>SRMediumFloor</th>\n",
       "      <th>SRBathtub</th>\n",
       "      <th>SRShower</th>\n",
       "      <th>SRCrib</th>\n",
       "      <th>SRKingSizeBed</th>\n",
       "      <th>SRTwinBed</th>\n",
       "      <th>SRNearElevator</th>\n",
       "      <th>SRAwayFromElevator</th>\n",
       "      <th>SRNoAlcoholInMiniBar</th>\n",
       "      <th>SRQuietRoom</th>\n",
       "    </tr>\n",
       "  </thead>\n",
       "  <tbody>\n",
       "    <tr>\n",
       "      <th>0</th>\n",
       "      <td>1</td>\n",
       "      <td>PRT</td>\n",
       "      <td>51.0</td>\n",
       "      <td>150</td>\n",
       "      <td>0x8E0A7AF39B633D5EA25C3B7EF4DFC5464B36DB7AF375...</td>\n",
       "      <td>0x71568459B729F7A7ABBED6C781A84CA4274D571003AC...</td>\n",
       "      <td>45</td>\n",
       "      <td>371.0</td>\n",
       "      <td>105.3</td>\n",
       "      <td>1</td>\n",
       "      <td>...</td>\n",
       "      <td>0</td>\n",
       "      <td>0</td>\n",
       "      <td>0</td>\n",
       "      <td>0</td>\n",
       "      <td>0</td>\n",
       "      <td>0</td>\n",
       "      <td>0</td>\n",
       "      <td>0</td>\n",
       "      <td>0</td>\n",
       "      <td>0</td>\n",
       "    </tr>\n",
       "    <tr>\n",
       "      <th>1</th>\n",
       "      <td>2</td>\n",
       "      <td>PRT</td>\n",
       "      <td>NaN</td>\n",
       "      <td>1095</td>\n",
       "      <td>0x21EDE41906B45079E75385B5AA33287CA09DE1AB86DE...</td>\n",
       "      <td>0x5FA1E0098A31497057C5A6B9FE9D49FD6DD47CCE7C26...</td>\n",
       "      <td>61</td>\n",
       "      <td>280.0</td>\n",
       "      <td>53.0</td>\n",
       "      <td>0</td>\n",
       "      <td>...</td>\n",
       "      <td>0</td>\n",
       "      <td>0</td>\n",
       "      <td>0</td>\n",
       "      <td>0</td>\n",
       "      <td>0</td>\n",
       "      <td>0</td>\n",
       "      <td>0</td>\n",
       "      <td>0</td>\n",
       "      <td>0</td>\n",
       "      <td>0</td>\n",
       "    </tr>\n",
       "    <tr>\n",
       "      <th>2</th>\n",
       "      <td>3</td>\n",
       "      <td>DEU</td>\n",
       "      <td>31.0</td>\n",
       "      <td>1095</td>\n",
       "      <td>0x31C5E4B74E23231295FDB724AD578C02C4A723F4BA2B...</td>\n",
       "      <td>0xC7CF344F5B03295037595B1337AC905CA188F1B5B3A5...</td>\n",
       "      <td>0</td>\n",
       "      <td>0.0</td>\n",
       "      <td>0.0</td>\n",
       "      <td>0</td>\n",
       "      <td>...</td>\n",
       "      <td>0</td>\n",
       "      <td>0</td>\n",
       "      <td>0</td>\n",
       "      <td>0</td>\n",
       "      <td>0</td>\n",
       "      <td>0</td>\n",
       "      <td>0</td>\n",
       "      <td>0</td>\n",
       "      <td>0</td>\n",
       "      <td>0</td>\n",
       "    </tr>\n",
       "    <tr>\n",
       "      <th>3</th>\n",
       "      <td>4</td>\n",
       "      <td>FRA</td>\n",
       "      <td>60.0</td>\n",
       "      <td>1095</td>\n",
       "      <td>0xFF534C83C0EF23D1CE516BC80A65D0197003D27937D4...</td>\n",
       "      <td>0xBD3823A9B4EC35D6CAF4B27AE423A677C0200DB61E82...</td>\n",
       "      <td>93</td>\n",
       "      <td>240.0</td>\n",
       "      <td>60.0</td>\n",
       "      <td>0</td>\n",
       "      <td>...</td>\n",
       "      <td>0</td>\n",
       "      <td>0</td>\n",
       "      <td>0</td>\n",
       "      <td>0</td>\n",
       "      <td>0</td>\n",
       "      <td>0</td>\n",
       "      <td>0</td>\n",
       "      <td>0</td>\n",
       "      <td>0</td>\n",
       "      <td>0</td>\n",
       "    </tr>\n",
       "    <tr>\n",
       "      <th>4</th>\n",
       "      <td>5</td>\n",
       "      <td>FRA</td>\n",
       "      <td>51.0</td>\n",
       "      <td>1095</td>\n",
       "      <td>0x9C1DEF02C9BE242842C1C1ABF2C5AA249A1EEB4763B4...</td>\n",
       "      <td>0xE175754CF77247B202DD0820F49407C762C14A603B3A...</td>\n",
       "      <td>0</td>\n",
       "      <td>0.0</td>\n",
       "      <td>0.0</td>\n",
       "      <td>0</td>\n",
       "      <td>...</td>\n",
       "      <td>0</td>\n",
       "      <td>0</td>\n",
       "      <td>0</td>\n",
       "      <td>0</td>\n",
       "      <td>0</td>\n",
       "      <td>0</td>\n",
       "      <td>0</td>\n",
       "      <td>0</td>\n",
       "      <td>0</td>\n",
       "      <td>0</td>\n",
       "    </tr>\n",
       "  </tbody>\n",
       "</table>\n",
       "<p>5 rows × 31 columns</p>\n",
       "</div>"
      ],
      "text/plain": [
       "   ID Nationality   Age  DaysSinceCreation  \\\n",
       "0   1         PRT  51.0                150   \n",
       "1   2         PRT   NaN               1095   \n",
       "2   3         DEU  31.0               1095   \n",
       "3   4         FRA  60.0               1095   \n",
       "4   5         FRA  51.0               1095   \n",
       "\n",
       "                                            NameHash  \\\n",
       "0  0x8E0A7AF39B633D5EA25C3B7EF4DFC5464B36DB7AF375...   \n",
       "1  0x21EDE41906B45079E75385B5AA33287CA09DE1AB86DE...   \n",
       "2  0x31C5E4B74E23231295FDB724AD578C02C4A723F4BA2B...   \n",
       "3  0xFF534C83C0EF23D1CE516BC80A65D0197003D27937D4...   \n",
       "4  0x9C1DEF02C9BE242842C1C1ABF2C5AA249A1EEB4763B4...   \n",
       "\n",
       "                                           DocIDHash  AverageLeadTime  \\\n",
       "0  0x71568459B729F7A7ABBED6C781A84CA4274D571003AC...               45   \n",
       "1  0x5FA1E0098A31497057C5A6B9FE9D49FD6DD47CCE7C26...               61   \n",
       "2  0xC7CF344F5B03295037595B1337AC905CA188F1B5B3A5...                0   \n",
       "3  0xBD3823A9B4EC35D6CAF4B27AE423A677C0200DB61E82...               93   \n",
       "4  0xE175754CF77247B202DD0820F49407C762C14A603B3A...                0   \n",
       "\n",
       "   LodgingRevenue  OtherRevenue  BookingsCanceled  ...  SRMediumFloor  \\\n",
       "0           371.0         105.3                 1  ...              0   \n",
       "1           280.0          53.0                 0  ...              0   \n",
       "2             0.0           0.0                 0  ...              0   \n",
       "3           240.0          60.0                 0  ...              0   \n",
       "4             0.0           0.0                 0  ...              0   \n",
       "\n",
       "   SRBathtub  SRShower  SRCrib  SRKingSizeBed  SRTwinBed SRNearElevator  \\\n",
       "0          0         0       0              0          0              0   \n",
       "1          0         0       0              0          0              0   \n",
       "2          0         0       0              0          0              0   \n",
       "3          0         0       0              0          0              0   \n",
       "4          0         0       0              0          0              0   \n",
       "\n",
       "  SRAwayFromElevator  SRNoAlcoholInMiniBar  SRQuietRoom  \n",
       "0                  0                     0            0  \n",
       "1                  0                     0            0  \n",
       "2                  0                     0            0  \n",
       "3                  0                     0            0  \n",
       "4                  0                     0            0  \n",
       "\n",
       "[5 rows x 31 columns]"
      ]
     },
     "execution_count": 12,
     "metadata": {},
     "output_type": "execute_result"
    }
   ],
   "source": [
    "file =('a-hotels-customers-dataset/\\HotelCustomersDataset.xlsx')\n",
    "Data = pd.read_excel(file)\n",
    "\n",
    " \n",
    "# displaying the contents of the XLSX file\n",
    "Data.head()\n"
   ]
  },
  {
   "cell_type": "markdown",
   "metadata": {},
   "source": [
    "How much data do we have?"
   ]
  },
  {
   "cell_type": "code",
   "execution_count": 15,
   "metadata": {},
   "outputs": [
    {
     "name": "stdout",
     "output_type": "stream",
     "text": [
      "<class 'pandas.core.frame.DataFrame'>\n",
      "RangeIndex: 83590 entries, 0 to 83589\n",
      "Data columns (total 31 columns):\n",
      " #   Column                Non-Null Count  Dtype  \n",
      "---  ------                --------------  -----  \n",
      " 0   ID                    83590 non-null  int64  \n",
      " 1   Nationality           83590 non-null  object \n",
      " 2   Age                   79811 non-null  float64\n",
      " 3   DaysSinceCreation     83590 non-null  int64  \n",
      " 4   NameHash              83590 non-null  object \n",
      " 5   DocIDHash             83590 non-null  object \n",
      " 6   AverageLeadTime       83590 non-null  int64  \n",
      " 7   LodgingRevenue        83590 non-null  float64\n",
      " 8   OtherRevenue          83590 non-null  float64\n",
      " 9   BookingsCanceled      83590 non-null  int64  \n",
      " 10  BookingsNoShowed      83590 non-null  int64  \n",
      " 11  BookingsCheckedIn     83590 non-null  int64  \n",
      " 12  PersonsNights         83590 non-null  int64  \n",
      " 13  RoomNights            83590 non-null  int64  \n",
      " 14  DaysSinceLastStay     83590 non-null  int64  \n",
      " 15  DaysSinceFirstStay    83590 non-null  int64  \n",
      " 16  DistributionChannel   83590 non-null  object \n",
      " 17  MarketSegment         83590 non-null  object \n",
      " 18  SRHighFloor           83590 non-null  int64  \n",
      " 19  SRLowFloor            83590 non-null  int64  \n",
      " 20  SRAccessibleRoom      83590 non-null  int64  \n",
      " 21  SRMediumFloor         83590 non-null  int64  \n",
      " 22  SRBathtub             83590 non-null  int64  \n",
      " 23  SRShower              83590 non-null  int64  \n",
      " 24  SRCrib                83590 non-null  int64  \n",
      " 25  SRKingSizeBed         83590 non-null  int64  \n",
      " 26  SRTwinBed             83590 non-null  int64  \n",
      " 27  SRNearElevator        83590 non-null  int64  \n",
      " 28  SRAwayFromElevator    83590 non-null  int64  \n",
      " 29  SRNoAlcoholInMiniBar  83590 non-null  int64  \n",
      " 30  SRQuietRoom           83590 non-null  int64  \n",
      "dtypes: float64(3), int64(23), object(5)\n",
      "memory usage: 19.8+ MB\n"
     ]
    }
   ],
   "source": [
    "Data.info()"
   ]
  },
  {
   "cell_type": "markdown",
   "metadata": {},
   "source": [
    "### Duplicates"
   ]
  },
  {
   "cell_type": "markdown",
   "metadata": {},
   "source": [
    "Are all entries for uniques customers?"
   ]
  },
  {
   "cell_type": "code",
   "execution_count": 19,
   "metadata": {},
   "outputs": [
    {
     "data": {
      "text/plain": [
       "83590"
      ]
     },
     "execution_count": 19,
     "metadata": {},
     "output_type": "execute_result"
    }
   ],
   "source": [
    "Data['ID'].nunique()\n",
    "\n"
   ]
  },
  {
   "cell_type": "markdown",
   "metadata": {},
   "source": [
    "Yes, all instances in the data are from unique customers. Good news. "
   ]
  },
  {
   "cell_type": "markdown",
   "metadata": {},
   "source": [
    "What do the unique values look like for the rest of the features?"
   ]
  },
  {
   "cell_type": "code",
   "execution_count": 24,
   "metadata": {},
   "outputs": [
    {
     "name": "stdout",
     "output_type": "stream",
     "text": [
      "ID                      83590\n",
      "Nationality               188\n",
      "Age                       105\n",
      "DaysSinceCreation        1095\n",
      "NameHash                80642\n",
      "DocIDHash               76993\n",
      "AverageLeadTime           418\n",
      "LodgingRevenue          10257\n",
      "OtherRevenue             4490\n",
      "BookingsCanceled            6\n",
      "BookingsNoShowed            4\n",
      "BookingsCheckedIn          29\n",
      "PersonsNights              56\n",
      "RoomNights                 48\n",
      "DaysSinceLastStay        1105\n",
      "DaysSinceFirstStay       1108\n",
      "DistributionChannel         4\n",
      "MarketSegment               7\n",
      "SRHighFloor                 2\n",
      "SRLowFloor                  2\n",
      "SRAccessibleRoom            2\n",
      "SRMediumFloor               2\n",
      "SRBathtub                   2\n",
      "SRShower                    2\n",
      "SRCrib                      2\n",
      "SRKingSizeBed               2\n",
      "SRTwinBed                   2\n",
      "SRNearElevator              2\n",
      "SRAwayFromElevator          2\n",
      "SRNoAlcoholInMiniBar        2\n",
      "SRQuietRoom                 2\n",
      "dtype: int64\n"
     ]
    }
   ],
   "source": [
    "print(Data.nunique())"
   ]
  },
  {
   "cell_type": "markdown",
   "metadata": {},
   "source": [
    "*Quesiton from observation:\n",
    "  Why is there a different amoutn of NameHash vs IDs? The NameHash is the name of the customer's hash string. I don't fully understand this field but I believe the NameHash is standardized name processing. Since there are no missing values in the field, could this mean that some customers have created more than one customer ID or account somehow?"
   ]
  },
  {
   "cell_type": "markdown",
   "metadata": {},
   "source": [
    "Check for duplicates in dataframe"
   ]
  },
  {
   "cell_type": "code",
   "execution_count": 30,
   "metadata": {},
   "outputs": [
    {
     "data": {
      "text/plain": [
       "0"
      ]
     },
     "execution_count": 30,
     "metadata": {},
     "output_type": "execute_result"
    }
   ],
   "source": [
    "Data.duplicated().sum()"
   ]
  },
  {
   "cell_type": "markdown",
   "metadata": {},
   "source": [
    "We have confirmed we do not need to worry abou dupliate instances in our dataset. "
   ]
  },
  {
   "cell_type": "markdown",
   "metadata": {},
   "source": [
    "### Validity checks on relevant numerical features"
   ]
  },
  {
   "cell_type": "markdown",
   "metadata": {},
   "source": [
    "#### Age"
   ]
  },
  {
   "cell_type": "code",
   "execution_count": 43,
   "metadata": {},
   "outputs": [
    {
     "name": "stdout",
     "output_type": "stream",
     "text": [
      "True\n"
     ]
    },
    {
     "name": "stderr",
     "output_type": "stream",
     "text": [
      "C:\\Users\\Lindsey\\AppData\\Local\\Temp\\ipykernel_9712\\1070877684.py:1: FutureWarning: Boolean inputs to the `inclusive` argument are deprecated in favour of `both` or `neither`.\n",
      "  wrong_ages = Data['Age'].between(0, 110,inclusive=True).any()\n"
     ]
    }
   ],
   "source": [
    "wrong_ages = Data['Age'].between(0, 110,inclusive=True).any()\n",
    "\n",
    "print(wrong_ages)"
   ]
  },
  {
   "cell_type": "markdown",
   "metadata": {},
   "source": [
    "Select row where age column contains any value under 1 or over 110."
   ]
  },
  {
   "cell_type": "code",
   "execution_count": 184,
   "metadata": {},
   "outputs": [
    {
     "name": "stdout",
     "output_type": "stream",
     "text": [
      "184\n"
     ]
    }
   ],
   "source": [
    "agefilter1 = ((Data['Age']>=110) | (Data['Age']<=1)).sum()\n",
    "print(agefilter1)"
   ]
  },
  {
   "cell_type": "markdown",
   "metadata": {},
   "source": [
    "No ages in the dataset that are impossible. What about logical? How old do you need to be to book a hotel? I will go with 16 to be liberal. "
   ]
  },
  {
   "cell_type": "code",
   "execution_count": 94,
   "metadata": {},
   "outputs": [
    {
     "name": "stdout",
     "output_type": "stream",
     "text": [
      "4077\n"
     ]
    }
   ],
   "source": [
    "agefilter2 = ((Data['Age']>=110) | (Data['Age']<=16)).sum()\n",
    "print(agefilter2)"
   ]
  },
  {
   "cell_type": "code",
   "execution_count": 95,
   "metadata": {},
   "outputs": [
    {
     "data": {
      "text/plain": [
       "<AxesSubplot:>"
      ]
     },
     "execution_count": 95,
     "metadata": {},
     "output_type": "execute_result"
    },
    {
     "data": {
      "image/png": "[encoded data removed]",
      "text/plain": [
       "<Figure size 432x288 with 1 Axes>"
      ]
     },
     "metadata": {
      "needs_background": "light"
     },
     "output_type": "display_data"
    }
   ],
   "source": [
    "Data.Age.hist()"
   ]
  },
  {
   "cell_type": "code",
   "execution_count": null,
   "metadata": {},
   "outputs": [
    {
     "data": {
      "text/html": [
       "<div>\n",
       "<style scoped>\n",
       "    .dataframe tbody tr th:only-of-type {\n",
       "        vertical-align: middle;\n",
       "    }\n",
       "\n",
       "    .dataframe tbody tr th {\n",
       "        vertical-align: top;\n",
       "    }\n",
       "\n",
       "    .dataframe thead th {\n",
       "        text-align: right;\n",
       "    }\n",
       "</style>\n",
       "<table border=\"1\" class=\"dataframe\">\n",
       "  <thead>\n",
       "    <tr style=\"text-align: right;\">\n",
       "      <th></th>\n",
       "      <th>ID</th>\n",
       "      <th>Nationality</th>\n",
       "      <th>Age</th>\n",
       "      <th>DaysSinceCreation</th>\n",
       "      <th>NameHash</th>\n",
       "      <th>DocIDHash</th>\n",
       "      <th>AverageLeadTime</th>\n",
       "      <th>LodgingRevenue</th>\n",
       "      <th>OtherRevenue</th>\n",
       "      <th>BookingsCanceled</th>\n",
       "      <th>...</th>\n",
       "      <th>SRMediumFloor</th>\n",
       "      <th>SRBathtub</th>\n",
       "      <th>SRShower</th>\n",
       "      <th>SRCrib</th>\n",
       "      <th>SRKingSizeBed</th>\n",
       "      <th>SRTwinBed</th>\n",
       "      <th>SRNearElevator</th>\n",
       "      <th>SRAwayFromElevator</th>\n",
       "      <th>SRNoAlcoholInMiniBar</th>\n",
       "      <th>SRQuietRoom</th>\n",
       "    </tr>\n",
       "  </thead>\n",
       "  <tbody>\n",
       "    <tr>\n",
       "      <th>34</th>\n",
       "      <td>35</td>\n",
       "      <td>PRT</td>\n",
       "      <td>3.0</td>\n",
       "      <td>1095</td>\n",
       "      <td>0x11DFD4644A50FAB1514696B6756D327D943E029BAB84...</td>\n",
       "      <td>0xA2454B19BC40F4CD058267AA604BF78FE57AC373AD7B...</td>\n",
       "      <td>0</td>\n",
       "      <td>0.0</td>\n",
       "      <td>0.0</td>\n",
       "      <td>0</td>\n",
       "      <td>...</td>\n",
       "      <td>0</td>\n",
       "      <td>0</td>\n",
       "      <td>0</td>\n",
       "      <td>1</td>\n",
       "      <td>0</td>\n",
       "      <td>0</td>\n",
       "      <td>0</td>\n",
       "      <td>0</td>\n",
       "      <td>0</td>\n",
       "      <td>0</td>\n",
       "    </tr>\n",
       "    <tr>\n",
       "      <th>67</th>\n",
       "      <td>68</td>\n",
       "      <td>FRA</td>\n",
       "      <td>13.0</td>\n",
       "      <td>1095</td>\n",
       "      <td>0x0A5D1532BFB2FDCBF7861FCC86D0F57199A07BE246E5...</td>\n",
       "      <td>0x8BDF50DFBCB267507E268A26F639952FBAFEBC436B06...</td>\n",
       "      <td>0</td>\n",
       "      <td>0.0</td>\n",
       "      <td>0.0</td>\n",
       "      <td>0</td>\n",
       "      <td>...</td>\n",
       "      <td>0</td>\n",
       "      <td>0</td>\n",
       "      <td>0</td>\n",
       "      <td>0</td>\n",
       "      <td>0</td>\n",
       "      <td>0</td>\n",
       "      <td>0</td>\n",
       "      <td>0</td>\n",
       "      <td>0</td>\n",
       "      <td>0</td>\n",
       "    </tr>\n",
       "    <tr>\n",
       "      <th>81</th>\n",
       "      <td>82</td>\n",
       "      <td>ESP</td>\n",
       "      <td>3.0</td>\n",
       "      <td>1094</td>\n",
       "      <td>0x5F699924994B56CCD818C485770CFE10C8631BAAD16F...</td>\n",
       "      <td>0x6B002A25A6614C137832DFE5B4A1D720CBFD6B3392DC...</td>\n",
       "      <td>103</td>\n",
       "      <td>653.4</td>\n",
       "      <td>759.6</td>\n",
       "      <td>0</td>\n",
       "      <td>...</td>\n",
       "      <td>0</td>\n",
       "      <td>0</td>\n",
       "      <td>0</td>\n",
       "      <td>1</td>\n",
       "      <td>1</td>\n",
       "      <td>0</td>\n",
       "      <td>0</td>\n",
       "      <td>0</td>\n",
       "      <td>0</td>\n",
       "      <td>0</td>\n",
       "    </tr>\n",
       "    <tr>\n",
       "      <th>87</th>\n",
       "      <td>88</td>\n",
       "      <td>ESP</td>\n",
       "      <td>6.0</td>\n",
       "      <td>1094</td>\n",
       "      <td>0x362DF374CD818975425F9E52D0A2936D54C3429A8804...</td>\n",
       "      <td>0x1ECB32E15890127DF2B091FDC11F43C8A75A0866F5E6...</td>\n",
       "      <td>0</td>\n",
       "      <td>0.0</td>\n",
       "      <td>0.0</td>\n",
       "      <td>0</td>\n",
       "      <td>...</td>\n",
       "      <td>0</td>\n",
       "      <td>0</td>\n",
       "      <td>0</td>\n",
       "      <td>0</td>\n",
       "      <td>1</td>\n",
       "      <td>0</td>\n",
       "      <td>0</td>\n",
       "      <td>0</td>\n",
       "      <td>0</td>\n",
       "      <td>0</td>\n",
       "    </tr>\n",
       "    <tr>\n",
       "      <th>110</th>\n",
       "      <td>111</td>\n",
       "      <td>FRA</td>\n",
       "      <td>13.0</td>\n",
       "      <td>1094</td>\n",
       "      <td>0x4671E4FFAFE9E6E1AA1A9DEAC487E7A6B09AD3483809...</td>\n",
       "      <td>0xC4C88B1D2B45D18AEEA0A2D45B1BF950875FF059272E...</td>\n",
       "      <td>0</td>\n",
       "      <td>0.0</td>\n",
       "      <td>0.0</td>\n",
       "      <td>0</td>\n",
       "      <td>...</td>\n",
       "      <td>0</td>\n",
       "      <td>0</td>\n",
       "      <td>0</td>\n",
       "      <td>0</td>\n",
       "      <td>0</td>\n",
       "      <td>0</td>\n",
       "      <td>0</td>\n",
       "      <td>0</td>\n",
       "      <td>0</td>\n",
       "      <td>0</td>\n",
       "    </tr>\n",
       "    <tr>\n",
       "      <th>...</th>\n",
       "      <td>...</td>\n",
       "      <td>...</td>\n",
       "      <td>...</td>\n",
       "      <td>...</td>\n",
       "      <td>...</td>\n",
       "      <td>...</td>\n",
       "      <td>...</td>\n",
       "      <td>...</td>\n",
       "      <td>...</td>\n",
       "      <td>...</td>\n",
       "      <td>...</td>\n",
       "      <td>...</td>\n",
       "      <td>...</td>\n",
       "      <td>...</td>\n",
       "      <td>...</td>\n",
       "      <td>...</td>\n",
       "      <td>...</td>\n",
       "      <td>...</td>\n",
       "      <td>...</td>\n",
       "      <td>...</td>\n",
       "      <td>...</td>\n",
       "    </tr>\n",
       "    <tr>\n",
       "      <th>83574</th>\n",
       "      <td>83575</td>\n",
       "      <td>FRA</td>\n",
       "      <td>3.0</td>\n",
       "      <td>0</td>\n",
       "      <td>0x7A07F413A66AFD26910FEEC82AF0365F7EF7CF4C2B4C...</td>\n",
       "      <td>0xACAE92FC1805757D6021EE4379B8858D09ED3A3E2BBA...</td>\n",
       "      <td>93</td>\n",
       "      <td>358.0</td>\n",
       "      <td>108.0</td>\n",
       "      <td>0</td>\n",
       "      <td>...</td>\n",
       "      <td>0</td>\n",
       "      <td>0</td>\n",
       "      <td>0</td>\n",
       "      <td>0</td>\n",
       "      <td>0</td>\n",
       "      <td>0</td>\n",
       "      <td>0</td>\n",
       "      <td>0</td>\n",
       "      <td>0</td>\n",
       "      <td>0</td>\n",
       "    </tr>\n",
       "    <tr>\n",
       "      <th>83575</th>\n",
       "      <td>83576</td>\n",
       "      <td>FRA</td>\n",
       "      <td>9.0</td>\n",
       "      <td>0</td>\n",
       "      <td>0xAC9A34E59DF0DD01CA27920639109410290A47F8D513...</td>\n",
       "      <td>0xE71C5AA233346E85E03229F9E18787342033F5BE39CF...</td>\n",
       "      <td>0</td>\n",
       "      <td>0.0</td>\n",
       "      <td>0.0</td>\n",
       "      <td>0</td>\n",
       "      <td>...</td>\n",
       "      <td>0</td>\n",
       "      <td>0</td>\n",
       "      <td>0</td>\n",
       "      <td>0</td>\n",
       "      <td>0</td>\n",
       "      <td>0</td>\n",
       "      <td>0</td>\n",
       "      <td>0</td>\n",
       "      <td>0</td>\n",
       "      <td>0</td>\n",
       "    </tr>\n",
       "    <tr>\n",
       "      <th>83576</th>\n",
       "      <td>83577</td>\n",
       "      <td>FRA</td>\n",
       "      <td>6.0</td>\n",
       "      <td>0</td>\n",
       "      <td>0xACD872C2F1DC0C07395155351ECC1F19E59BD641F681...</td>\n",
       "      <td>0x28434C1272AA61521DB0E62A836E6C479508883E3F08...</td>\n",
       "      <td>0</td>\n",
       "      <td>0.0</td>\n",
       "      <td>0.0</td>\n",
       "      <td>0</td>\n",
       "      <td>...</td>\n",
       "      <td>0</td>\n",
       "      <td>0</td>\n",
       "      <td>0</td>\n",
       "      <td>0</td>\n",
       "      <td>0</td>\n",
       "      <td>0</td>\n",
       "      <td>0</td>\n",
       "      <td>0</td>\n",
       "      <td>0</td>\n",
       "      <td>0</td>\n",
       "    </tr>\n",
       "    <tr>\n",
       "      <th>83578</th>\n",
       "      <td>83579</td>\n",
       "      <td>PRT</td>\n",
       "      <td>5.0</td>\n",
       "      <td>0</td>\n",
       "      <td>0xB2BDA5A097995D0F49B2640CF694BC7EE0A35B98D3ED...</td>\n",
       "      <td>0xCD2911DAE13DFBB5DA7937227560F722C9D309FFA07D...</td>\n",
       "      <td>0</td>\n",
       "      <td>0.0</td>\n",
       "      <td>0.0</td>\n",
       "      <td>0</td>\n",
       "      <td>...</td>\n",
       "      <td>0</td>\n",
       "      <td>0</td>\n",
       "      <td>0</td>\n",
       "      <td>0</td>\n",
       "      <td>0</td>\n",
       "      <td>0</td>\n",
       "      <td>0</td>\n",
       "      <td>0</td>\n",
       "      <td>0</td>\n",
       "      <td>0</td>\n",
       "    </tr>\n",
       "    <tr>\n",
       "      <th>83589</th>\n",
       "      <td>83590</td>\n",
       "      <td>IRL</td>\n",
       "      <td>13.0</td>\n",
       "      <td>0</td>\n",
       "      <td>0x1F2AA8A78ABFCBF190BFFB7BF2D5489EDFECD95CA51F...</td>\n",
       "      <td>0x0E0612BCF1C120B841DD02B9C27DF50B332815EDBB6D...</td>\n",
       "      <td>0</td>\n",
       "      <td>0.0</td>\n",
       "      <td>0.0</td>\n",
       "      <td>0</td>\n",
       "      <td>...</td>\n",
       "      <td>0</td>\n",
       "      <td>0</td>\n",
       "      <td>0</td>\n",
       "      <td>0</td>\n",
       "      <td>0</td>\n",
       "      <td>1</td>\n",
       "      <td>0</td>\n",
       "      <td>0</td>\n",
       "      <td>0</td>\n",
       "      <td>0</td>\n",
       "    </tr>\n",
       "  </tbody>\n",
       "</table>\n",
       "<p>3700 rows × 31 columns</p>\n",
       "</div>"
      ],
      "text/plain": [
       "          ID Nationality   Age  DaysSinceCreation  \\\n",
       "34        35         PRT   3.0               1095   \n",
       "67        68         FRA  13.0               1095   \n",
       "81        82         ESP   3.0               1094   \n",
       "87        88         ESP   6.0               1094   \n",
       "110      111         FRA  13.0               1094   \n",
       "...      ...         ...   ...                ...   \n",
       "83574  83575         FRA   3.0                  0   \n",
       "83575  83576         FRA   9.0                  0   \n",
       "83576  83577         FRA   6.0                  0   \n",
       "83578  83579         PRT   5.0                  0   \n",
       "83589  83590         IRL  13.0                  0   \n",
       "\n",
       "                                                NameHash  \\\n",
       "34     0x11DFD4644A50FAB1514696B6756D327D943E029BAB84...   \n",
       "67     0x0A5D1532BFB2FDCBF7861FCC86D0F57199A07BE246E5...   \n",
       "81     0x5F699924994B56CCD818C485770CFE10C8631BAAD16F...   \n",
       "87     0x362DF374CD818975425F9E52D0A2936D54C3429A8804...   \n",
       "110    0x4671E4FFAFE9E6E1AA1A9DEAC487E7A6B09AD3483809...   \n",
       "...                                                  ...   \n",
       "83574  0x7A07F413A66AFD26910FEEC82AF0365F7EF7CF4C2B4C...   \n",
       "83575  0xAC9A34E59DF0DD01CA27920639109410290A47F8D513...   \n",
       "83576  0xACD872C2F1DC0C07395155351ECC1F19E59BD641F681...   \n",
       "83578  0xB2BDA5A097995D0F49B2640CF694BC7EE0A35B98D3ED...   \n",
       "83589  0x1F2AA8A78ABFCBF190BFFB7BF2D5489EDFECD95CA51F...   \n",
       "\n",
       "                                               DocIDHash  AverageLeadTime  \\\n",
       "34     0xA2454B19BC40F4CD058267AA604BF78FE57AC373AD7B...                0   \n",
       "67     0x8BDF50DFBCB267507E268A26F639952FBAFEBC436B06...                0   \n",
       "81     0x6B002A25A6614C137832DFE5B4A1D720CBFD6B3392DC...              103   \n",
       "87     0x1ECB32E15890127DF2B091FDC11F43C8A75A0866F5E6...                0   \n",
       "110    0xC4C88B1D2B45D18AEEA0A2D45B1BF950875FF059272E...                0   \n",
       "...                                                  ...              ...   \n",
       "83574  0xACAE92FC1805757D6021EE4379B8858D09ED3A3E2BBA...               93   \n",
       "83575  0xE71C5AA233346E85E03229F9E18787342033F5BE39CF...                0   \n",
       "83576  0x28434C1272AA61521DB0E62A836E6C479508883E3F08...                0   \n",
       "83578  0xCD2911DAE13DFBB5DA7937227560F722C9D309FFA07D...                0   \n",
       "83589  0x0E0612BCF1C120B841DD02B9C27DF50B332815EDBB6D...                0   \n",
       "\n",
       "       LodgingRevenue  OtherRevenue  BookingsCanceled  ...  SRMediumFloor  \\\n",
       "34                0.0           0.0                 0  ...              0   \n",
       "67                0.0           0.0                 0  ...              0   \n",
       "81              653.4         759.6                 0  ...              0   \n",
       "87                0.0           0.0                 0  ...              0   \n",
       "110               0.0           0.0                 0  ...              0   \n",
       "...               ...           ...               ...  ...            ...   \n",
       "83574           358.0         108.0                 0  ...              0   \n",
       "83575             0.0           0.0                 0  ...              0   \n",
       "83576             0.0           0.0                 0  ...              0   \n",
       "83578             0.0           0.0                 0  ...              0   \n",
       "83589             0.0           0.0                 0  ...              0   \n",
       "\n",
       "       SRBathtub  SRShower  SRCrib  SRKingSizeBed  SRTwinBed SRNearElevator  \\\n",
       "34             0         0       1              0          0              0   \n",
       "67             0         0       0              0          0              0   \n",
       "81             0         0       1              1          0              0   \n",
       "87             0         0       0              1          0              0   \n",
       "110            0         0       0              0          0              0   \n",
       "...          ...       ...     ...            ...        ...            ...   \n",
       "83574          0         0       0              0          0              0   \n",
       "83575          0         0       0              0          0              0   \n",
       "83576          0         0       0              0          0              0   \n",
       "83578          0         0       0              0          0              0   \n",
       "83589          0         0       0              0          1              0   \n",
       "\n",
       "      SRAwayFromElevator  SRNoAlcoholInMiniBar  SRQuietRoom  \n",
       "34                     0                     0            0  \n",
       "67                     0                     0            0  \n",
       "81                     0                     0            0  \n",
       "87                     0                     0            0  \n",
       "110                    0                     0            0  \n",
       "...                  ...                   ...          ...  \n",
       "83574                  0                     0            0  \n",
       "83575                  0                     0            0  \n",
       "83576                  0                     0            0  \n",
       "83578                  0                     0            0  \n",
       "83589                  0                     0            0  \n",
       "\n",
       "[3700 rows x 31 columns]"
      ]
     },
     "metadata": {},
     "output_type": "display_data"
    }
   ],
   "source": [
    "Data.loc[Data['Age'] < 16]"
   ]
  },
  {
   "cell_type": "code",
   "execution_count": 163,
   "metadata": {},
   "outputs": [],
   "source": [
    "weird_age = Data.loc[Data['Age'] < 16]\n"
   ]
  },
  {
   "cell_type": "code",
   "execution_count": 172,
   "metadata": {},
   "outputs": [
    {
     "data": {
      "text/plain": [
       "3700"
      ]
     },
     "execution_count": 172,
     "metadata": {},
     "output_type": "execute_result"
    }
   ],
   "source": [
    "weird_age['ID'].count()"
   ]
  },
  {
   "cell_type": "code",
   "execution_count": 164,
   "metadata": {},
   "outputs": [
    {
     "data": {
      "text/plain": [
       "array([[<AxesSubplot:title={'center':'Age'}>]], dtype=object)"
      ]
     },
     "execution_count": 164,
     "metadata": {},
     "output_type": "execute_result"
    },
    {
     "data": {
      "image/png": "[encoded data removed]",
      "text/plain": [
       "<Figure size 432x288 with 1 Axes>"
      ]
     },
     "metadata": {
      "needs_background": "light"
     },
     "output_type": "display_data"
    }
   ],
   "source": [
    "weird_age.hist('Age')"
   ]
  },
  {
   "cell_type": "code",
   "execution_count": 161,
   "metadata": {},
   "outputs": [],
   "source": [
    "wrong_age = Data.loc[Data['Age'] < 1]\n"
   ]
  },
  {
   "cell_type": "code",
   "execution_count": 173,
   "metadata": {},
   "outputs": [
    {
     "data": {
      "text/plain": [
       "59"
      ]
     },
     "execution_count": 173,
     "metadata": {},
     "output_type": "execute_result"
    }
   ],
   "source": [
    "wrong_age['ID'].count()"
   ]
  },
  {
   "cell_type": "code",
   "execution_count": 162,
   "metadata": {},
   "outputs": [
    {
     "data": {
      "text/plain": [
       "array([[<AxesSubplot:title={'center':'Age'}>]], dtype=object)"
      ]
     },
     "execution_count": 162,
     "metadata": {},
     "output_type": "execute_result"
    },
    {
     "data": {
      "image/png": "[encoded data removed]",
      "text/plain": [
       "<Figure size 432x288 with 1 Axes>"
      ]
     },
     "metadata": {
      "needs_background": "light"
     },
     "output_type": "display_data"
    }
   ],
   "source": [
    "wrong_age.hist('Age')"
   ]
  },
  {
   "cell_type": "markdown",
   "metadata": {},
   "source": [
    "Could these weird and wrong age values be errors? There's no way to confirm, but date abstract makes it seemn that this data is collected only on all guests, not just booking customers. There are no known age limitations to this feature. We could assume these are erros and impute these ages with zero to keep data optimal for modeling and observe how having such a large group of age zero (unknowns/mistakes) will impact analysis in EDA. "
   ]
  },
  {
   "cell_type": "markdown",
   "metadata": {},
   "source": [
    "First, let's check if these customers also had zero revenue and if there is a connection there, confirming these were hotel guests and not booking customers. "
   ]
  },
  {
   "cell_type": "markdown",
   "metadata": {},
   "source": [
    "#### Revenues"
   ]
  },
  {
   "cell_type": "markdown",
   "metadata": {},
   "source": [
    "Making sure all reported revenues are positive. "
   ]
  },
  {
   "cell_type": "code",
   "execution_count": 110,
   "metadata": {},
   "outputs": [
    {
     "name": "stdout",
     "output_type": "stream",
     "text": [
      "20408\n"
     ]
    }
   ],
   "source": [
    "revenuefilter1 = ((Data['LodgingRevenue']<=0)).sum()\n",
    "print(revenuefilter1)"
   ]
  },
  {
   "cell_type": "code",
   "execution_count": 52,
   "metadata": {},
   "outputs": [
    {
     "name": "stdout",
     "output_type": "stream",
     "text": [
      "20214\n"
     ]
    }
   ],
   "source": [
    "revenuefilter2 = ((Data['OtherRevenue']<=0)).sum()\n",
    "print(revenuefilter2)"
   ]
  },
  {
   "cell_type": "markdown",
   "metadata": {},
   "source": [
    "Seems like lots of instances where revenue was less than or equal to 0! That's not good for business or analysis. Perhaps our customer records are on all guests and not only booking customers. How many of these are impossible, or negative values?"
   ]
  },
  {
   "cell_type": "code",
   "execution_count": 68,
   "metadata": {},
   "outputs": [
    {
     "name": "stdout",
     "output_type": "stream",
     "text": [
      "okay\n"
     ]
    }
   ],
   "source": [
    "x = Data.LodgingRevenue.any()\n",
    "if x < 0:\n",
    "    print(x)\n",
    "else:\n",
    "    print('okay')\n"
   ]
  },
  {
   "cell_type": "code",
   "execution_count": 74,
   "metadata": {},
   "outputs": [
    {
     "name": "stdout",
     "output_type": "stream",
     "text": [
      "okay\n"
     ]
    }
   ],
   "source": [
    "x = Data.OtherRevenue.any()\n",
    "if x < 0:\n",
    "    print(x)\n",
    "else:\n",
    "    print('okay')"
   ]
  },
  {
   "cell_type": "code",
   "execution_count": 99,
   "metadata": {},
   "outputs": [
    {
     "data": {
      "text/plain": [
       "<AxesSubplot:>"
      ]
     },
     "execution_count": 99,
     "metadata": {},
     "output_type": "execute_result"
    },
    {
     "data": {
      "image/png": "[encoded data removed]",
      "text/plain": [
       "<Figure size 432x288 with 1 Axes>"
      ]
     },
     "metadata": {
      "needs_background": "light"
     },
     "output_type": "display_data"
    }
   ],
   "source": [
    "Data.LodgingRevenue.hist()"
   ]
  },
  {
   "cell_type": "code",
   "execution_count": 100,
   "metadata": {},
   "outputs": [
    {
     "data": {
      "text/plain": [
       "<AxesSubplot:>"
      ]
     },
     "execution_count": 100,
     "metadata": {},
     "output_type": "execute_result"
    },
    {
     "data": {
      "image/png": "[encoded data removed]",
      "text/plain": [
       "<Figure size 432x288 with 1 Axes>"
      ]
     },
     "metadata": {
      "needs_background": "light"
     },
     "output_type": "display_data"
    }
   ],
   "source": [
    "Data.OtherRevenue.hist()"
   ]
  },
  {
   "cell_type": "markdown",
   "metadata": {},
   "source": [
    "Seems like we are free of negative revenues. However, there are many zero revenue instances. Let's explore our theory that instances are for all guests and not just booking customers. What is the age of these zero revenues? "
   ]
  },
  {
   "cell_type": "code",
   "execution_count": 179,
   "metadata": {},
   "outputs": [
    {
     "data": {
      "text/plain": [
       "True     43\n",
       "False    16\n",
       "Name: LodgingRevenue, dtype: int64"
      ]
     },
     "execution_count": 179,
     "metadata": {},
     "output_type": "execute_result"
    }
   ],
   "source": [
    "(wrong_age['LodgingRevenue']<=0).value_counts()"
   ]
  },
  {
   "cell_type": "code",
   "execution_count": 180,
   "metadata": {},
   "outputs": [
    {
     "data": {
      "text/plain": [
       "True     43\n",
       "False    16\n",
       "Name: OtherRevenue, dtype: int64"
      ]
     },
     "execution_count": 180,
     "metadata": {},
     "output_type": "execute_result"
    }
   ],
   "source": [
    "(wrong_age['OtherRevenue']<=0).value_counts()"
   ]
  },
  {
   "cell_type": "code",
   "execution_count": 181,
   "metadata": {},
   "outputs": [
    {
     "data": {
      "text/plain": [
       "True     3065\n",
       "False     635\n",
       "Name: LodgingRevenue, dtype: int64"
      ]
     },
     "execution_count": 181,
     "metadata": {},
     "output_type": "execute_result"
    }
   ],
   "source": [
    "(weird_age['LodgingRevenue']<=0).value_counts()"
   ]
  },
  {
   "cell_type": "code",
   "execution_count": 182,
   "metadata": {},
   "outputs": [
    {
     "data": {
      "text/plain": [
       "True     3065\n",
       "False     635\n",
       "Name: OtherRevenue, dtype: int64"
      ]
     },
     "execution_count": 182,
     "metadata": {},
     "output_type": "execute_result"
    }
   ],
   "source": [
    "(weird_age['OtherRevenue']<=0).value_counts()"
   ]
  },
  {
   "cell_type": "code",
   "execution_count": 176,
   "metadata": {},
   "outputs": [
    {
     "data": {
      "text/html": [
       "<div>\n",
       "<style scoped>\n",
       "    .dataframe tbody tr th:only-of-type {\n",
       "        vertical-align: middle;\n",
       "    }\n",
       "\n",
       "    .dataframe tbody tr th {\n",
       "        vertical-align: top;\n",
       "    }\n",
       "\n",
       "    .dataframe thead th {\n",
       "        text-align: right;\n",
       "    }\n",
       "</style>\n",
       "<table border=\"1\" class=\"dataframe\">\n",
       "  <thead>\n",
       "    <tr style=\"text-align: right;\">\n",
       "      <th></th>\n",
       "      <th>Age</th>\n",
       "      <th>LodgingRevenue</th>\n",
       "      <th>OtherRevenue</th>\n",
       "    </tr>\n",
       "  </thead>\n",
       "  <tbody>\n",
       "    <tr>\n",
       "      <th>2053</th>\n",
       "      <td>-7.0</td>\n",
       "      <td>0.00</td>\n",
       "      <td>0.0</td>\n",
       "    </tr>\n",
       "    <tr>\n",
       "      <th>2469</th>\n",
       "      <td>-7.0</td>\n",
       "      <td>0.00</td>\n",
       "      <td>0.0</td>\n",
       "    </tr>\n",
       "    <tr>\n",
       "      <th>5128</th>\n",
       "      <td>-9.0</td>\n",
       "      <td>93.30</td>\n",
       "      <td>14.0</td>\n",
       "    </tr>\n",
       "    <tr>\n",
       "      <th>6751</th>\n",
       "      <td>-11.0</td>\n",
       "      <td>450.00</td>\n",
       "      <td>18.0</td>\n",
       "    </tr>\n",
       "    <tr>\n",
       "      <th>8360</th>\n",
       "      <td>-7.0</td>\n",
       "      <td>126.00</td>\n",
       "      <td>109.0</td>\n",
       "    </tr>\n",
       "    <tr>\n",
       "      <th>8628</th>\n",
       "      <td>-10.0</td>\n",
       "      <td>414.60</td>\n",
       "      <td>34.0</td>\n",
       "    </tr>\n",
       "    <tr>\n",
       "      <th>9919</th>\n",
       "      <td>-6.0</td>\n",
       "      <td>138.93</td>\n",
       "      <td>29.5</td>\n",
       "    </tr>\n",
       "    <tr>\n",
       "      <th>10662</th>\n",
       "      <td>-10.0</td>\n",
       "      <td>126.00</td>\n",
       "      <td>113.0</td>\n",
       "    </tr>\n",
       "    <tr>\n",
       "      <th>10694</th>\n",
       "      <td>-10.0</td>\n",
       "      <td>128.00</td>\n",
       "      <td>57.5</td>\n",
       "    </tr>\n",
       "    <tr>\n",
       "      <th>10755</th>\n",
       "      <td>-6.0</td>\n",
       "      <td>128.00</td>\n",
       "      <td>55.0</td>\n",
       "    </tr>\n",
       "  </tbody>\n",
       "</table>\n",
       "</div>"
      ],
      "text/plain": [
       "        Age  LodgingRevenue  OtherRevenue\n",
       "2053   -7.0            0.00           0.0\n",
       "2469   -7.0            0.00           0.0\n",
       "5128   -9.0           93.30          14.0\n",
       "6751  -11.0          450.00          18.0\n",
       "8360   -7.0          126.00         109.0\n",
       "8628  -10.0          414.60          34.0\n",
       "9919   -6.0          138.93          29.5\n",
       "10662 -10.0          126.00         113.0\n",
       "10694 -10.0          128.00          57.5\n",
       "10755  -6.0          128.00          55.0"
      ]
     },
     "execution_count": 176,
     "metadata": {},
     "output_type": "execute_result"
    }
   ],
   "source": [
    "wrong_age[['Age', 'LodgingRevenue', 'OtherRevenue']].head(10)"
   ]
  },
  {
   "cell_type": "code",
   "execution_count": 177,
   "metadata": {},
   "outputs": [
    {
     "data": {
      "text/html": [
       "<div>\n",
       "<style scoped>\n",
       "    .dataframe tbody tr th:only-of-type {\n",
       "        vertical-align: middle;\n",
       "    }\n",
       "\n",
       "    .dataframe tbody tr th {\n",
       "        vertical-align: top;\n",
       "    }\n",
       "\n",
       "    .dataframe thead th {\n",
       "        text-align: right;\n",
       "    }\n",
       "</style>\n",
       "<table border=\"1\" class=\"dataframe\">\n",
       "  <thead>\n",
       "    <tr style=\"text-align: right;\">\n",
       "      <th></th>\n",
       "      <th>Age</th>\n",
       "      <th>LodgingRevenue</th>\n",
       "      <th>OtherRevenue</th>\n",
       "    </tr>\n",
       "  </thead>\n",
       "  <tbody>\n",
       "    <tr>\n",
       "      <th>34</th>\n",
       "      <td>3.0</td>\n",
       "      <td>0.0</td>\n",
       "      <td>0.0</td>\n",
       "    </tr>\n",
       "    <tr>\n",
       "      <th>67</th>\n",
       "      <td>13.0</td>\n",
       "      <td>0.0</td>\n",
       "      <td>0.0</td>\n",
       "    </tr>\n",
       "    <tr>\n",
       "      <th>81</th>\n",
       "      <td>3.0</td>\n",
       "      <td>653.4</td>\n",
       "      <td>759.6</td>\n",
       "    </tr>\n",
       "    <tr>\n",
       "      <th>87</th>\n",
       "      <td>6.0</td>\n",
       "      <td>0.0</td>\n",
       "      <td>0.0</td>\n",
       "    </tr>\n",
       "    <tr>\n",
       "      <th>110</th>\n",
       "      <td>13.0</td>\n",
       "      <td>0.0</td>\n",
       "      <td>0.0</td>\n",
       "    </tr>\n",
       "    <tr>\n",
       "      <th>117</th>\n",
       "      <td>10.0</td>\n",
       "      <td>0.0</td>\n",
       "      <td>0.0</td>\n",
       "    </tr>\n",
       "    <tr>\n",
       "      <th>119</th>\n",
       "      <td>3.0</td>\n",
       "      <td>0.0</td>\n",
       "      <td>0.0</td>\n",
       "    </tr>\n",
       "    <tr>\n",
       "      <th>120</th>\n",
       "      <td>8.0</td>\n",
       "      <td>0.0</td>\n",
       "      <td>0.0</td>\n",
       "    </tr>\n",
       "    <tr>\n",
       "      <th>123</th>\n",
       "      <td>7.0</td>\n",
       "      <td>0.0</td>\n",
       "      <td>0.0</td>\n",
       "    </tr>\n",
       "    <tr>\n",
       "      <th>124</th>\n",
       "      <td>4.0</td>\n",
       "      <td>0.0</td>\n",
       "      <td>0.0</td>\n",
       "    </tr>\n",
       "  </tbody>\n",
       "</table>\n",
       "</div>"
      ],
      "text/plain": [
       "      Age  LodgingRevenue  OtherRevenue\n",
       "34    3.0             0.0           0.0\n",
       "67   13.0             0.0           0.0\n",
       "81    3.0           653.4         759.6\n",
       "87    6.0             0.0           0.0\n",
       "110  13.0             0.0           0.0\n",
       "117  10.0             0.0           0.0\n",
       "119   3.0             0.0           0.0\n",
       "120   8.0             0.0           0.0\n",
       "123   7.0             0.0           0.0\n",
       "124   4.0             0.0           0.0"
      ]
     },
     "execution_count": 177,
     "metadata": {},
     "output_type": "execute_result"
    }
   ],
   "source": [
    "weird_age[['Age', 'LodgingRevenue', 'OtherRevenue']].head(10)"
   ]
  },
  {
   "cell_type": "markdown",
   "metadata": {},
   "source": [
    "It is apparent and intuitive that if an instance shows zero LodingRevenue, it also always shows zero OtherRevenue"
   ]
  },
  {
   "cell_type": "markdown",
   "metadata": {},
   "source": [
    "Not all instances where an age < 16 shows zero revenue. 635 of the 3700 have revenue values, which is curious. \n",
    "Still does not explain for portion of the 20k rows with normal ages that show no revenue. "
   ]
  },
  {
   "cell_type": "markdown",
   "metadata": {},
   "source": [
    "Over 20k rows and 24% of instances have zero revenue information. Out of those, how many are cancellations or nosows? If a great many of those zero revenues are explained, it might be acceptable to leave it. However, we need to determine if the zero values will hinder our customer value predictions."
   ]
  },
  {
   "cell_type": "code",
   "execution_count": 197,
   "metadata": {},
   "outputs": [
    {
     "name": "stdout",
     "output_type": "stream",
     "text": [
      "12\n"
     ]
    }
   ],
   "source": [
    "revenuefilter3 = ((Data['LodgingRevenue']<=0) & Data['BookingsCanceled']>0).sum()\n",
    "\n",
    "print(revenuefilter3)"
   ]
  },
  {
   "cell_type": "code",
   "execution_count": 194,
   "metadata": {},
   "outputs": [
    {
     "name": "stdout",
     "output_type": "stream",
     "text": [
      "0\n"
     ]
    }
   ],
   "source": [
    "revenuefilter4 = ((Data['LodgingRevenue']<=0) & Data['BookingsNoShowed']>0).sum()\n",
    "\n",
    "print(revenuefilter4)"
   ]
  },
  {
   "cell_type": "code",
   "execution_count": 199,
   "metadata": {},
   "outputs": [
    {
     "name": "stdout",
     "output_type": "stream",
     "text": [
      "453\n"
     ]
    }
   ],
   "source": [
    "revenuefilter5 = ((Data['LodgingRevenue']<=0) & Data['BookingsCheckedIn']>0).sum()\n",
    "print(revenuefilter5)"
   ]
  },
  {
   "cell_type": "markdown",
   "metadata": {},
   "source": [
    "From this quick check, this doesn't seem to be the case that the majority of these zero revenue instances are related to age, canceled bookings, noshows or checkins. We will need to do a closer analysis on this in the EDA to determine the correct way to deal with these zeros.  "
   ]
  },
  {
   "cell_type": "markdown",
   "metadata": {},
   "source": [
    "#### Bookings, Nights, Rooms, Days"
   ]
  },
  {
   "cell_type": "markdown",
   "metadata": {},
   "source": [
    "We saw earlier that each of these features is in the correct int datatype. Duplicates are likely and not an issue. No missing values, see below."
   ]
  },
  {
   "cell_type": "markdown",
   "metadata": {},
   "source": [
    "### Find the missing values from each column"
   ]
  },
  {
   "cell_type": "code",
   "execution_count": 13,
   "metadata": {},
   "outputs": [
    {
     "name": "stdout",
     "output_type": "stream",
     "text": [
      "ID                         0\n",
      "Nationality                0\n",
      "Age                     3779\n",
      "DaysSinceCreation          0\n",
      "NameHash                   0\n",
      "DocIDHash                  0\n",
      "AverageLeadTime            0\n",
      "LodgingRevenue             0\n",
      "OtherRevenue               0\n",
      "BookingsCanceled           0\n",
      "BookingsNoShowed           0\n",
      "BookingsCheckedIn          0\n",
      "PersonsNights              0\n",
      "RoomNights                 0\n",
      "DaysSinceLastStay          0\n",
      "DaysSinceFirstStay         0\n",
      "DistributionChannel        0\n",
      "MarketSegment              0\n",
      "SRHighFloor                0\n",
      "SRLowFloor                 0\n",
      "SRAccessibleRoom           0\n",
      "SRMediumFloor              0\n",
      "SRBathtub                  0\n",
      "SRShower                   0\n",
      "SRCrib                     0\n",
      "SRKingSizeBed              0\n",
      "SRTwinBed                  0\n",
      "SRNearElevator             0\n",
      "SRAwayFromElevator         0\n",
      "SRNoAlcoholInMiniBar       0\n",
      "SRQuietRoom                0\n",
      "dtype: int64\n"
     ]
    }
   ],
   "source": [
    "print(Data.isnull().sum())"
   ]
  },
  {
   "cell_type": "markdown",
   "metadata": {},
   "source": [
    "We are  missing about 5% of the ages in our data to impute. All other columns are free of missing values. Thankfully!"
   ]
  },
  {
   "cell_type": "markdown",
   "metadata": {},
   "source": [
    "### Handle missing values"
   ]
  },
  {
   "cell_type": "markdown",
   "metadata": {},
   "source": [
    "Mark all missing values as null (NaN)"
   ]
  },
  {
   "cell_type": "code",
   "execution_count": 29,
   "metadata": {},
   "outputs": [
    {
     "name": "stdout",
     "output_type": "stream",
     "text": [
      "0        51.0\n",
      "1         NaN\n",
      "2        31.0\n",
      "3        60.0\n",
      "4        51.0\n",
      "         ... \n",
      "83585    54.0\n",
      "83586    47.0\n",
      "83587    53.0\n",
      "83588    85.0\n",
      "83589    13.0\n",
      "Name: Age, Length: 83590, dtype: float64\n"
     ]
    }
   ],
   "source": [
    "print(Data['Age'].fillna(NaN))"
   ]
  },
  {
   "cell_type": "markdown",
   "metadata": {},
   "source": [
    "## Outliers"
   ]
  },
  {
   "cell_type": "markdown",
   "metadata": {},
   "source": [
    "Are there any other extreme values?"
   ]
  },
  {
   "cell_type": "code",
   "execution_count": 89,
   "metadata": {},
   "outputs": [
    {
     "data": {
      "text/html": [
       "<div>\n",
       "<style scoped>\n",
       "    .dataframe tbody tr th:only-of-type {\n",
       "        vertical-align: middle;\n",
       "    }\n",
       "\n",
       "    .dataframe tbody tr th {\n",
       "        vertical-align: top;\n",
       "    }\n",
       "\n",
       "    .dataframe thead th {\n",
       "        text-align: right;\n",
       "    }\n",
       "</style>\n",
       "<table border=\"1\" class=\"dataframe\">\n",
       "  <thead>\n",
       "    <tr style=\"text-align: right;\">\n",
       "      <th></th>\n",
       "      <th>ID</th>\n",
       "      <th>Age</th>\n",
       "      <th>DaysSinceCreation</th>\n",
       "      <th>AverageLeadTime</th>\n",
       "      <th>LodgingRevenue</th>\n",
       "      <th>OtherRevenue</th>\n",
       "      <th>BookingsCanceled</th>\n",
       "      <th>BookingsNoShowed</th>\n",
       "      <th>BookingsCheckedIn</th>\n",
       "      <th>PersonsNights</th>\n",
       "      <th>...</th>\n",
       "      <th>SRMediumFloor</th>\n",
       "      <th>SRBathtub</th>\n",
       "      <th>SRShower</th>\n",
       "      <th>SRCrib</th>\n",
       "      <th>SRKingSizeBed</th>\n",
       "      <th>SRTwinBed</th>\n",
       "      <th>SRNearElevator</th>\n",
       "      <th>SRAwayFromElevator</th>\n",
       "      <th>SRNoAlcoholInMiniBar</th>\n",
       "      <th>SRQuietRoom</th>\n",
       "    </tr>\n",
       "  </thead>\n",
       "  <tbody>\n",
       "    <tr>\n",
       "      <th>count</th>\n",
       "      <td>83590.000000</td>\n",
       "      <td>79811.000000</td>\n",
       "      <td>83590.000000</td>\n",
       "      <td>83590.000000</td>\n",
       "      <td>83590.000000</td>\n",
       "      <td>83590.000000</td>\n",
       "      <td>83590.000000</td>\n",
       "      <td>83590.000000</td>\n",
       "      <td>83590.000000</td>\n",
       "      <td>83590.000000</td>\n",
       "      <td>...</td>\n",
       "      <td>83590.000000</td>\n",
       "      <td>83590.000000</td>\n",
       "      <td>83590.000000</td>\n",
       "      <td>83590.000000</td>\n",
       "      <td>83590.000000</td>\n",
       "      <td>83590.000000</td>\n",
       "      <td>83590.000000</td>\n",
       "      <td>83590.000000</td>\n",
       "      <td>83590.000000</td>\n",
       "      <td>83590.000000</td>\n",
       "    </tr>\n",
       "    <tr>\n",
       "      <th>mean</th>\n",
       "      <td>41795.500000</td>\n",
       "      <td>45.398028</td>\n",
       "      <td>453.640902</td>\n",
       "      <td>66.196028</td>\n",
       "      <td>298.802087</td>\n",
       "      <td>67.589132</td>\n",
       "      <td>0.002022</td>\n",
       "      <td>0.000634</td>\n",
       "      <td>0.794617</td>\n",
       "      <td>4.649133</td>\n",
       "      <td>...</td>\n",
       "      <td>0.000873</td>\n",
       "      <td>0.002847</td>\n",
       "      <td>0.001711</td>\n",
       "      <td>0.013219</td>\n",
       "      <td>0.352686</td>\n",
       "      <td>0.142541</td>\n",
       "      <td>0.000335</td>\n",
       "      <td>0.003505</td>\n",
       "      <td>0.000120</td>\n",
       "      <td>0.088372</td>\n",
       "    </tr>\n",
       "    <tr>\n",
       "      <th>std</th>\n",
       "      <td>24130.498838</td>\n",
       "      <td>16.572368</td>\n",
       "      <td>313.390291</td>\n",
       "      <td>87.758990</td>\n",
       "      <td>372.851892</td>\n",
       "      <td>114.327776</td>\n",
       "      <td>0.066770</td>\n",
       "      <td>0.029545</td>\n",
       "      <td>0.695778</td>\n",
       "      <td>4.567673</td>\n",
       "      <td>...</td>\n",
       "      <td>0.029539</td>\n",
       "      <td>0.053284</td>\n",
       "      <td>0.041326</td>\n",
       "      <td>0.114213</td>\n",
       "      <td>0.477809</td>\n",
       "      <td>0.349606</td>\n",
       "      <td>0.018299</td>\n",
       "      <td>0.059101</td>\n",
       "      <td>0.010937</td>\n",
       "      <td>0.283837</td>\n",
       "    </tr>\n",
       "    <tr>\n",
       "      <th>min</th>\n",
       "      <td>1.000000</td>\n",
       "      <td>-11.000000</td>\n",
       "      <td>0.000000</td>\n",
       "      <td>-1.000000</td>\n",
       "      <td>0.000000</td>\n",
       "      <td>0.000000</td>\n",
       "      <td>0.000000</td>\n",
       "      <td>0.000000</td>\n",
       "      <td>0.000000</td>\n",
       "      <td>0.000000</td>\n",
       "      <td>...</td>\n",
       "      <td>0.000000</td>\n",
       "      <td>0.000000</td>\n",
       "      <td>0.000000</td>\n",
       "      <td>0.000000</td>\n",
       "      <td>0.000000</td>\n",
       "      <td>0.000000</td>\n",
       "      <td>0.000000</td>\n",
       "      <td>0.000000</td>\n",
       "      <td>0.000000</td>\n",
       "      <td>0.000000</td>\n",
       "    </tr>\n",
       "    <tr>\n",
       "      <th>25%</th>\n",
       "      <td>20898.250000</td>\n",
       "      <td>34.000000</td>\n",
       "      <td>177.000000</td>\n",
       "      <td>0.000000</td>\n",
       "      <td>59.000000</td>\n",
       "      <td>2.000000</td>\n",
       "      <td>0.000000</td>\n",
       "      <td>0.000000</td>\n",
       "      <td>1.000000</td>\n",
       "      <td>1.000000</td>\n",
       "      <td>...</td>\n",
       "      <td>0.000000</td>\n",
       "      <td>0.000000</td>\n",
       "      <td>0.000000</td>\n",
       "      <td>0.000000</td>\n",
       "      <td>0.000000</td>\n",
       "      <td>0.000000</td>\n",
       "      <td>0.000000</td>\n",
       "      <td>0.000000</td>\n",
       "      <td>0.000000</td>\n",
       "      <td>0.000000</td>\n",
       "    </tr>\n",
       "    <tr>\n",
       "      <th>50%</th>\n",
       "      <td>41795.500000</td>\n",
       "      <td>46.000000</td>\n",
       "      <td>397.000000</td>\n",
       "      <td>29.000000</td>\n",
       "      <td>234.000000</td>\n",
       "      <td>38.500000</td>\n",
       "      <td>0.000000</td>\n",
       "      <td>0.000000</td>\n",
       "      <td>1.000000</td>\n",
       "      <td>4.000000</td>\n",
       "      <td>...</td>\n",
       "      <td>0.000000</td>\n",
       "      <td>0.000000</td>\n",
       "      <td>0.000000</td>\n",
       "      <td>0.000000</td>\n",
       "      <td>0.000000</td>\n",
       "      <td>0.000000</td>\n",
       "      <td>0.000000</td>\n",
       "      <td>0.000000</td>\n",
       "      <td>0.000000</td>\n",
       "      <td>0.000000</td>\n",
       "    </tr>\n",
       "    <tr>\n",
       "      <th>75%</th>\n",
       "      <td>62692.750000</td>\n",
       "      <td>57.000000</td>\n",
       "      <td>723.000000</td>\n",
       "      <td>103.000000</td>\n",
       "      <td>402.000000</td>\n",
       "      <td>87.675000</td>\n",
       "      <td>0.000000</td>\n",
       "      <td>0.000000</td>\n",
       "      <td>1.000000</td>\n",
       "      <td>6.000000</td>\n",
       "      <td>...</td>\n",
       "      <td>0.000000</td>\n",
       "      <td>0.000000</td>\n",
       "      <td>0.000000</td>\n",
       "      <td>0.000000</td>\n",
       "      <td>1.000000</td>\n",
       "      <td>0.000000</td>\n",
       "      <td>0.000000</td>\n",
       "      <td>0.000000</td>\n",
       "      <td>0.000000</td>\n",
       "      <td>0.000000</td>\n",
       "    </tr>\n",
       "    <tr>\n",
       "      <th>max</th>\n",
       "      <td>83590.000000</td>\n",
       "      <td>122.000000</td>\n",
       "      <td>1095.000000</td>\n",
       "      <td>588.000000</td>\n",
       "      <td>21781.000000</td>\n",
       "      <td>7730.250000</td>\n",
       "      <td>9.000000</td>\n",
       "      <td>3.000000</td>\n",
       "      <td>66.000000</td>\n",
       "      <td>116.000000</td>\n",
       "      <td>...</td>\n",
       "      <td>1.000000</td>\n",
       "      <td>1.000000</td>\n",
       "      <td>1.000000</td>\n",
       "      <td>1.000000</td>\n",
       "      <td>1.000000</td>\n",
       "      <td>1.000000</td>\n",
       "      <td>1.000000</td>\n",
       "      <td>1.000000</td>\n",
       "      <td>1.000000</td>\n",
       "      <td>1.000000</td>\n",
       "    </tr>\n",
       "  </tbody>\n",
       "</table>\n",
       "<p>8 rows × 26 columns</p>\n",
       "</div>"
      ],
      "text/plain": [
       "                 ID           Age  DaysSinceCreation  AverageLeadTime  \\\n",
       "count  83590.000000  79811.000000       83590.000000     83590.000000   \n",
       "mean   41795.500000     45.398028         453.640902        66.196028   \n",
       "std    24130.498838     16.572368         313.390291        87.758990   \n",
       "min        1.000000    -11.000000           0.000000        -1.000000   \n",
       "25%    20898.250000     34.000000         177.000000         0.000000   \n",
       "50%    41795.500000     46.000000         397.000000        29.000000   \n",
       "75%    62692.750000     57.000000         723.000000       103.000000   \n",
       "max    83590.000000    122.000000        1095.000000       588.000000   \n",
       "\n",
       "       LodgingRevenue  OtherRevenue  BookingsCanceled  BookingsNoShowed  \\\n",
       "count    83590.000000  83590.000000      83590.000000      83590.000000   \n",
       "mean       298.802087     67.589132          0.002022          0.000634   \n",
       "std        372.851892    114.327776          0.066770          0.029545   \n",
       "min          0.000000      0.000000          0.000000          0.000000   \n",
       "25%         59.000000      2.000000          0.000000          0.000000   \n",
       "50%        234.000000     38.500000          0.000000          0.000000   \n",
       "75%        402.000000     87.675000          0.000000          0.000000   \n",
       "max      21781.000000   7730.250000          9.000000          3.000000   \n",
       "\n",
       "       BookingsCheckedIn  PersonsNights  ...  SRMediumFloor     SRBathtub  \\\n",
       "count       83590.000000   83590.000000  ...   83590.000000  83590.000000   \n",
       "mean            0.794617       4.649133  ...       0.000873      0.002847   \n",
       "std             0.695778       4.567673  ...       0.029539      0.053284   \n",
       "min             0.000000       0.000000  ...       0.000000      0.000000   \n",
       "25%             1.000000       1.000000  ...       0.000000      0.000000   \n",
       "50%             1.000000       4.000000  ...       0.000000      0.000000   \n",
       "75%             1.000000       6.000000  ...       0.000000      0.000000   \n",
       "max            66.000000     116.000000  ...       1.000000      1.000000   \n",
       "\n",
       "           SRShower        SRCrib  SRKingSizeBed     SRTwinBed  \\\n",
       "count  83590.000000  83590.000000   83590.000000  83590.000000   \n",
       "mean       0.001711      0.013219       0.352686      0.142541   \n",
       "std        0.041326      0.114213       0.477809      0.349606   \n",
       "min        0.000000      0.000000       0.000000      0.000000   \n",
       "25%        0.000000      0.000000       0.000000      0.000000   \n",
       "50%        0.000000      0.000000       0.000000      0.000000   \n",
       "75%        0.000000      0.000000       1.000000      0.000000   \n",
       "max        1.000000      1.000000       1.000000      1.000000   \n",
       "\n",
       "       SRNearElevator  SRAwayFromElevator  SRNoAlcoholInMiniBar   SRQuietRoom  \n",
       "count    83590.000000        83590.000000          83590.000000  83590.000000  \n",
       "mean         0.000335            0.003505              0.000120      0.088372  \n",
       "std          0.018299            0.059101              0.010937      0.283837  \n",
       "min          0.000000            0.000000              0.000000      0.000000  \n",
       "25%          0.000000            0.000000              0.000000      0.000000  \n",
       "50%          0.000000            0.000000              0.000000      0.000000  \n",
       "75%          0.000000            0.000000              0.000000      0.000000  \n",
       "max          1.000000            1.000000              1.000000      1.000000  \n",
       "\n",
       "[8 rows x 26 columns]"
      ]
     },
     "execution_count": 89,
     "metadata": {},
     "output_type": "execute_result"
    }
   ],
   "source": [
    "Data.describe()"
   ]
  }
 ],
 "metadata": {
  "kernelspec": {
   "display_name": "Python 3.10.5 ('capstone3')",
   "language": "python",
   "name": "python3"
  },
  "language_info": {
   "codemirror_mode": {
    "name": "ipython",
    "version": 3
   },
   "file_extension": ".py",
   "mimetype": "text/x-python",
   "name": "python",
   "nbconvert_exporter": "python",
   "pygments_lexer": "ipython3",
   "version": "3.10.5"
  },
  "orig_nbformat": 4,
  "vscode": {
   "interpreter": {
    "hash": "5fbf2e26f53e8c1e1b237047f30c68abe07c8cc7a42e6d101a95d00438763514"
   }
  }
 },
 "nbformat": 4,
 "nbformat_minor": 2
}
